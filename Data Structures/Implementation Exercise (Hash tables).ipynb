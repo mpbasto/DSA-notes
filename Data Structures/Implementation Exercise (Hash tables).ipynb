{
 "cells": [
  {
   "cell_type": "code",
   "execution_count": 21,
   "id": "45d65d03",
   "metadata": {},
   "outputs": [],
   "source": [
    "# Create your own hash table\n",
    "\n",
    "class MyHashTable():\n",
    "    def __init__(self, size):\n",
    "            self.size = size\n",
    "            self.data = [None] * self.size\n",
    "    \n",
    "    def __str__(self):\n",
    "        return str(self.__dict__)\n",
    "# This method above is used to print the attributes of the class object in a dictionary format\n",
    "    \n",
    "    def _hash(self, key):\n",
    "        hash = 0\n",
    "        for i in range(len(key)):\n",
    "            hash = (hash + ord(key[i]) * i) % self.size\n",
    "        return hash\n",
    "# This is our custom hash function\n",
    "# ord(key[i]) gives the code point in unicode of the character key[i]\n",
    "# Then it returns the hash value obtained after applying our custom hash function to the key\n",
    "\n",
    "    def get(self, key):\n",
    "        hash = self._hash(key)\n",
    "        if self.data[hash]:\n",
    "            for i in range(len(self.data[hash])):\n",
    "                if self.data[hash][i][0] == key:\n",
    "                    return self.data[hash][i][1]\n",
    "        return None\n",
    "# This function returns the value of the key entered by the user\n",
    "# When passing the key to the _hash function, it calculates the hash value of the key\n",
    "# As multiple items may have been stored in the position of said hash value, we need to verify them all\n",
    "# So we loop over possible lists that may be in the same 'hash' position\n",
    "# And compare the 1st element of the list with the given key\n",
    "# If we match, the value is returned (which is the 2nd element)\n",
    "# Otherwise, we return None\n",
    "\n",
    "    def set(self, key, value):\n",
    "        hash = self._hash(key)\n",
    "        if not self.data[hash]:\n",
    "            self.data[hash] = [[key, value]]\n",
    "        else:\n",
    "            self.data[hash].append([key, value])\n",
    "        print(self.data)\n",
    "# This function inserts a new key, value pair\n",
    "# It calculates the hash value of the key, when passing the key to the _hash function\n",
    "# If the 'hash' position of the data array is empty, we insert the key, value pair as a list\n",
    "# And if the 'hash' position is not empty (collision), we append the list of key,value pair to the lists already present\n",
    "    def keys(self):\n",
    "        keys_array = []\n",
    "        for i in range(self.size):\n",
    "            if len(self.data[i]) > 1:\n",
    "                for j in range(len(self.data[i])):\n",
    "                    keys_array.append(self.data[i][j][0])\n",
    "            else:\n",
    "                keys_array.append(self.data[i][0][0])\n",
    "        return keys_array\n",
    "# This function returns all the keys\n",
    "# It creates an array(list) to hold the keys\n",
    "# Then loops over the whole table\n",
    "# If it finds a bucket with something:\n",
    "# It goes in and loops over all k, v pairs that the bucket may contain\n",
    "# And adds the key of each list to the keys_array\n",
    "\n",
    "    def values(self):\n",
    "        values_array = []\n",
    "        for i in range(self.size):\n",
    "            if self.data[i]:\n",
    "                for j in range(len(self.data[i])):\n",
    "                    values_array.append(self.data[i][j][1])\n",
    "        return values_array\n",
    "# This function returns all the keys, similarly to the keys function\n",
    "# But instead of adding the 1st element, we are adding the last one of each list"
   ]
  },
  {
   "cell_type": "code",
   "execution_count": 22,
   "id": "35725a67",
   "metadata": {},
   "outputs": [
    {
     "name": "stdout",
     "output_type": "stream",
     "text": [
      "{'size': 2, 'data': [None, None]}\n"
     ]
    }
   ],
   "source": [
    "# Testing the functions\n",
    "\n",
    "new_hash = MyHashTable(2)\n",
    "print(new_hash)"
   ]
  },
  {
   "cell_type": "code",
   "execution_count": 23,
   "id": "424fd3e0",
   "metadata": {},
   "outputs": [
    {
     "name": "stdout",
     "output_type": "stream",
     "text": [
      "[[['one', 1]], None]\n",
      "[[['one', 1]], [['two', 2]]]\n",
      "[[['one', 1]], [['two', 2], ['three', 3]]]\n",
      "[[['one', 1]], [['two', 2], ['three', 3], ['four', 4]]]\n",
      "[[['one', 1], ['five', 5]], [['two', 2], ['three', 3], ['four', 4]]]\n",
      "{'size': 2, 'data': [[['one', 1], ['five', 5]], [['two', 2], ['three', 3], ['four', 4]]]}\n"
     ]
    }
   ],
   "source": [
    "new_hash.set('one',1)\n",
    "new_hash.set('two',2)\n",
    "new_hash.set('three',3)\n",
    "new_hash.set('four',4)\n",
    "new_hash.set('five',5)\n",
    "print(new_hash)"
   ]
  },
  {
   "cell_type": "code",
   "execution_count": 24,
   "id": "e0c3b70b",
   "metadata": {},
   "outputs": [
    {
     "name": "stdout",
     "output_type": "stream",
     "text": [
      "1\n"
     ]
    }
   ],
   "source": [
    "print(new_hash.get('one'))"
   ]
  },
  {
   "cell_type": "code",
   "execution_count": 25,
   "id": "33c53465",
   "metadata": {},
   "outputs": [
    {
     "name": "stdout",
     "output_type": "stream",
     "text": [
      "['one', 'five', 'two', 'three', 'four']\n"
     ]
    }
   ],
   "source": [
    "print(new_hash.keys())"
   ]
  },
  {
   "cell_type": "code",
   "execution_count": 26,
   "id": "c9dd171a",
   "metadata": {},
   "outputs": [
    {
     "name": "stdout",
     "output_type": "stream",
     "text": [
      "[1, 5, 2, 3, 4]\n"
     ]
    }
   ],
   "source": [
    "print(new_hash.values())"
   ]
  },
  {
   "cell_type": "markdown",
   "id": "23e19696",
   "metadata": {},
   "source": [
    "\n",
    "\n",
    "Even though there are loops in the class 'MyHashTable', the time complexity is not O(n) because n corresponds to the size of the input. In this case, it will be the number of k, v pairs in the table. \n",
    "\n",
    "The for loop in the '_hash' function_ only runs for the length of the key, which can be rather small compared to the number of entries in general. The same applies to the loop in the 'get' function, as it runs for the length of the collisioined array, which won't take long in the majority of cases. Compared to the number of total entries, the time complexity for those loops won't reach as far, hence why the time complexity remains lower than O(n) and O(log n).\n",
    "\n",
    "However, the keys and values methods are slightly worse than O(n), because we will have to loop over the entire size of the table once and then, loop over all the lists in the buckets which have collisions.\n"
   ]
  }
 ],
 "metadata": {
  "kernelspec": {
   "display_name": "Python 3",
   "language": "python",
   "name": "python3"
  },
  "language_info": {
   "codemirror_mode": {
    "name": "ipython",
    "version": 3
   },
   "file_extension": ".py",
   "mimetype": "text/x-python",
   "name": "python",
   "nbconvert_exporter": "python",
   "pygments_lexer": "ipython3",
   "version": "3.8.8"
  }
 },
 "nbformat": 4,
 "nbformat_minor": 5
}
