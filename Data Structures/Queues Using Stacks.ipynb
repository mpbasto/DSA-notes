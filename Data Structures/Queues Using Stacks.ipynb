{
 "cells": [
  {
   "cell_type": "markdown",
   "id": "cc4788dd-f923-46ed-a254-aeef2120e5e6",
   "metadata": {},
   "source": [
    "Using the push() and pop() operations from stacks, we could implement enqueueing and dequeueing, so it is possible ot create queues using stacks, keeping in mind the FIFO(first-in first-out) principle.\n",
    "This implementation can be done in two forms:\n",
    "\n",
    " - the enqueue operation would have to be O(n) in time complexity;\n",
    " - the dequeue operation would have to be O(n) in time complexity;\n",
    "\n",
    "To perform the first option, it is going to take two stacks(box1 and box2) that need to be kept in a way that allows the element inserted first to be always at the top of box1, and that we can simply use pop() for dequeue on box1. However, we would have to make the enqueued element reach the bottom of the stack for enqueueing.\n",
    "To do so, we will have to pop the elements of box1 one by one and push them onto box2. Then, we add the new element to box1. Finally, we pop everything from box2 again and push it back to box1, so that the new element gets placed at the bottom of the stack.\n",
    "\n",
    "See the outcome below:"
   ]
  },
  {
   "cell_type": "code",
   "execution_count": 9,
   "id": "71c85d66-bfb5-429c-9abf-e54900c0b5f6",
   "metadata": {},
   "outputs": [],
   "source": [
    "class Queue():\n",
    "    def __init__(self):\n",
    "        self.box1 = []\n",
    "        self.box2 = []\n",
    "# We start by adding two empty lists to the constructor.\n",
    "    \n",
    "    def peek(self):\n",
    "        if len(self.box1) == 0:\n",
    "            print(\"Oops! This queue is empty.\")\n",
    "        else:\n",
    "            return self.box1[len(self.box1)-1]\n",
    "# Then, we create the peek method. \n",
    "# Because stacks follow the LIFO principle, we have to tell the method to output our list from last to first so that it obeys the FIFO principle instead.\n",
    "\n",
    "\n",
    "    def enqueue(self, data):\n",
    "        for i in range(len(self.box1)):\n",
    "            item = self.box1.pop()\n",
    "            self.box2.append(item)\n",
    "        self.box1.append(data)\n",
    "        for i in range(len(self.box2)):\n",
    "            item = self.box2.pop()\n",
    "            self.box1.append(item)\n",
    "        return\n",
    "# The next method is enqueue(). \n",
    "# Here we are loop traversing through both boxes, first to assign all elements from one box to another, then to add the new element, and finally, to reassign them back to the first box.\n",
    "# As per above, the time complexity of this operation is of O(n).\n",
    "\n",
    "    def dequeue(self):\n",
    "        if len(self.box1)==0:\n",
    "            print(\"Oops! This queue is empty.\")\n",
    "            return\n",
    "        else:\n",
    "            return self.box1.pop()\n",
    "# Up next, dequeue().\n",
    "# This operation will simply pop() the last element of the list, which is the first to ever be inserted into the list(FIFO principle).\n",
    "\n",
    "    def get_queue(self):\n",
    "        if len(self.box1) == 0:\n",
    "            print(\"Oops! This queue is empty.\")\n",
    "            return\n",
    "        for i in range(len(self.box1) - 1,0,-1):\n",
    "            print(f'{self.box1[i]} <<-- ',end='') \n",
    "        print(self.box1[0])\n",
    "        return\n"
   ]
  },
  {
   "cell_type": "markdown",
   "id": "c6b7a447-d2e8-4d50-ba61-7a8c2df5f252",
   "metadata": {},
   "source": [
    "To test our new blueprint:"
   ]
  },
  {
   "cell_type": "code",
   "execution_count": 10,
   "id": "ac088430-251e-4589-80ff-e3c485c200d4",
   "metadata": {},
   "outputs": [
    {
     "name": "stdout",
     "output_type": "stream",
     "text": [
      "1 <<-- 2 <<-- 3\n"
     ]
    }
   ],
   "source": [
    "new_queue = Queue()\n",
    "\n",
    "new_queue.enqueue(1)\n",
    "new_queue.enqueue(2)\n",
    "new_queue.enqueue(3)\n",
    "\n",
    "new_queue.get_queue()"
   ]
  },
  {
   "cell_type": "code",
   "execution_count": 11,
   "id": "26698946-9746-4b0f-ac90-16af1341e837",
   "metadata": {},
   "outputs": [
    {
     "name": "stdout",
     "output_type": "stream",
     "text": [
      "2 <<-- 3\n"
     ]
    }
   ],
   "source": [
    "new_queue.dequeue()\n",
    "new_queue.get_queue()"
   ]
  },
  {
   "cell_type": "code",
   "execution_count": 12,
   "id": "69f8b595-50bd-4361-baf6-b0671f4586dc",
   "metadata": {},
   "outputs": [
    {
     "name": "stdout",
     "output_type": "stream",
     "text": [
      "2\n"
     ]
    }
   ],
   "source": [
    "print(new_queue.peek())"
   ]
  },
  {
   "cell_type": "code",
   "execution_count": 13,
   "id": "7862e40c-cb45-48e3-85ea-21616dc0fa1e",
   "metadata": {},
   "outputs": [
    {
     "name": "stdout",
     "output_type": "stream",
     "text": [
      "2 <<-- 3 <<-- 4\n"
     ]
    }
   ],
   "source": [
    "new_queue.enqueue(4)\n",
    "new_queue.get_queue()"
   ]
  },
  {
   "cell_type": "code",
   "execution_count": 14,
   "id": "ab58b7f3-c69d-4984-b505-f292861d01ad",
   "metadata": {},
   "outputs": [
    {
     "name": "stdout",
     "output_type": "stream",
     "text": [
      "Oops! This queue is empty.\n"
     ]
    }
   ],
   "source": [
    "new_queue.dequeue()\n",
    "new_queue.dequeue()\n",
    "new_queue.dequeue()\n",
    "\n",
    "new_queue.get_queue()"
   ]
  },
  {
   "cell_type": "markdown",
   "id": "a215142f-abec-4d5a-8732-11e4391513fd",
   "metadata": {},
   "source": [
    "*****************************************************"
   ]
  },
  {
   "cell_type": "markdown",
   "id": "61b4c31e-a9d2-44ce-bd62-8b344bee0039",
   "metadata": {},
   "source": [
    "Regarding the second option, we can make the dequeue method at a time complexity of O(n) just as it was done when building the enqueue method above.\n",
    "While for enqueueing we push into box1, for the dequeueing method, we have to pop all elements except the last one in box1. Next, those elements get push into box2, and the last element (which we left in box1 to get removed) gets popped. Finnaly, the elements in box2 are popped and pushed back into box1. This process is what makes the dequeue operation O(n), while enqueue and peek remain O(1)."
   ]
  }
 ],
 "metadata": {
  "kernelspec": {
   "display_name": "Python 3 (ipykernel)",
   "language": "python",
   "name": "python3"
  },
  "language_info": {
   "codemirror_mode": {
    "name": "ipython",
    "version": 3
   },
   "file_extension": ".py",
   "mimetype": "text/x-python",
   "name": "python",
   "nbconvert_exporter": "python",
   "pygments_lexer": "ipython3",
   "version": "3.8.8"
  }
 },
 "nbformat": 4,
 "nbformat_minor": 5
}
