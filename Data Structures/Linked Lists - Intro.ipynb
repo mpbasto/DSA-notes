{
 "cells": [
  {
   "cell_type": "markdown",
   "id": "f79ef148",
   "metadata": {},
   "source": [
    "Linked lists are linear collections of nodes that contain data elements and a reference(also called link) to the next node in the list. Their order is not related to their location in memory, but by these references using pointers, the first one being the head. The last node(tail) is linked/pointed to \"Null\", which represents the end of the list.\n"
   ]
  },
  {
   "cell_type": "code",
   "execution_count": 1,
   "id": "168ca2cc",
   "metadata": {},
   "outputs": [],
   "source": [
    "# Take this list into account\n",
    "basket = ['apples', 'grapes', 'pears']"
   ]
  },
  {
   "cell_type": "markdown",
   "id": "4d26f50d",
   "metadata": {},
   "source": [
    "linked list: apples --> grapes --> pears\n",
    "\n",
    "- apples\n",
    " - 8947 --> grapes\n",
    "     - 8742 --> pears\n",
    "        - 372 --> null"
   ]
  },
  {
   "cell_type": "markdown",
   "id": "c8dd8fb9",
   "metadata": {},
   "source": [
    "Time complexities:\n",
    "\n",
    "- prepend = O(1) \n",
    "- append = O(1)\n",
    "- lookup = O(n)\n",
    "- insert = O(n)\n",
    "- delete = O(n)"
   ]
  },
  {
   "cell_type": "markdown",
   "id": "b794939f",
   "metadata": {},
   "source": [
    "Linked lists makes appending and removing elements from any position of the list/sequence during an iteration without altering the whole list. However, to search and access these elements, it has to be done linearly from the beginning until the desired element/node(O(n)), whereas on a list/array you can access elements by using their index: O(1)."
   ]
  },
  {
   "cell_type": "markdown",
   "id": "13b746f3",
   "metadata": {},
   "source": [
    "In Python, the way lists and linked lists manage memory is very similar but they differ in performance.\n",
    "\n",
    "Even though inserting elements at the end of a list using .append() or .insert() will have constant time(O(1)), when you try inserting an element closer to or at the beginning of the list, the average time complexity will grow along with the size of the list: O(n).\n",
    "\n",
    "On the other hand, linked lists are more straightforward when it comes to insertion and deletion of elements at the beginning or end of a list, where their time complexity is always constant: O(1).\n",
    "\n"
   ]
  }
 ],
 "metadata": {
  "kernelspec": {
   "display_name": "Python 3",
   "language": "python",
   "name": "python3"
  },
  "language_info": {
   "codemirror_mode": {
    "name": "ipython",
    "version": 3
   },
   "file_extension": ".py",
   "mimetype": "text/x-python",
   "name": "python",
   "nbconvert_exporter": "python",
   "pygments_lexer": "ipython3",
   "version": "3.8.8"
  }
 },
 "nbformat": 4,
 "nbformat_minor": 5
}
