{
 "cells": [
  {
   "cell_type": "markdown",
   "id": "a4970b3f",
   "metadata": {},
   "source": [
    "A Binary Heap is a data structure that takes the form of a binary tree. They are a useful way to implement priority queues, sorting algorithms and doing comparative operations, as their time complexity for inserting and deleting nodes is of O(log n). However, they will have a time complexity of O(n) when searching elements, because they will have to traverse through the tree to find said elements.\n",
    "On binary heaps, the parent node can be greater than or equal to the child nodes, and it is called a max-heap. Whereas if the parent node is less than or equal to the child nodes is called min-heap.\n",
    "\n",
    "\n",
    "A max-heap is usually represented as an array, which we will be implementing below:\n"
   ]
  },
  {
   "cell_type": "code",
   "execution_count": 4,
   "id": "a1773799",
   "metadata": {},
   "outputs": [],
   "source": [
    "import sys\n",
    "\n",
    "class MaxHeap():\n",
    "    def __init__(self, maximum):\n",
    "        self.maximum = maximum\n",
    "        self.size = 0\n",
    "        self.Heap = [0] * (self.maximum + 1)\n",
    "        self.Heap[0] = sys.maxsize\n",
    "        self.FRONT = 1\n",
    "# The constructor will initialise the heap and give it a maximum size defined by the user\n",
    "# Then, it sets the size as well as the rest of the heap components to 0.\n",
    "# To simplify the calculations, we start indexing from 1 instead of 0,\n",
    "# by filling the 0th element of the heap with a garbage value.\n",
    "\n",
    "    def parent(self, position):\n",
    "        return position // 2\n",
    "# This method will return the position of a current node's parent node.\n",
    "# The user only needs to provide the current node's position to obtain its parent's.\n",
    "# This method is rather simple because of the way we are indexing our parent and children nodes.\n",
    "\n",
    "    def left_child(self, position):\n",
    "        return 2 * position\n",
    "# This method returns the position of of a current node's left child. \n",
    "# Alike parent(), the user provides the current node's position to obtain its left child's.\n",
    "\n",
    "    def right_child(self, position):\n",
    "        return (2 * position) + 1\n",
    "# This method returns the position of of a current node's right child. \n",
    "\n",
    "    def check_leaf(self, position):\n",
    "        if position >= (self.size // 2) and position <= self.size:\n",
    "            return True\n",
    "        return False\n",
    "# The method above checks whether a passed node is a leaf node(a childless node).\n",
    "# When we look at the heap as an array, all the nodes in the second half are leaf nodes,\n",
    "# which makes it easier to verify, because if the position passed is greater than or equal to half of the size\n",
    "# of the heap and less than or equal to size of the heap, then it is a leaf node.\n",
    "\n",
    "    def swap(self, fposition, sposition):\n",
    "        self.Heap[fposition], self.Heap[sposition] = self.Heap[sposition], self.Heap[fposition]\n",
    "# Swap() will make two nodes of the heap switch positions.\n",
    "\n",
    "    def max_heapify(self, position):\n",
    "        if not self.check_leaf(position): # If not a leaf node\n",
    "            if (self.Heap[position] < self.Heap[self.left_child(position)] or\n",
    "                    self.Heap[position] < self.Heap[self.right_child(position)]): # and smaller than any of the children\n",
    "                # Swap with the left child and heapify the left child\n",
    "                if self.Heap[self.left_child(position)] > self.Heap[self.right_child(position)]:\n",
    "                    self.swap(position, self.left_child(position))\n",
    "                    self.max_heapify(self.left_child(position))\n",
    "\n",
    "                # Swap with the right child and heapify the right child\n",
    "                else:\n",
    "                    self.swap(position, self.right_child(position))\n",
    "                    self.max_heapify(self.right_child(position))\n",
    "# max_heapify() will be called whenever the heap property is unbalanced, so that it can restore the heap's balance.\n",
    "# Firstly, the method checks whether the relevant node is a leaf node, and if so, it leaves it as is.\n",
    "# Otherwise, if the node is smaller than its children, the method will check which child is the largest and make a swap.\n",
    "# As there is a chance the heap will become unbalanced after performing such operation, the method will be operating again.\n",
    "\n",
    "    def insert(self, element):\n",
    "        if self.size >= self.maximum:\n",
    "            return\n",
    "        self.size += 1\n",
    "        self.Heap[self.size] = element\n",
    "        current = self.size\n",
    "        while self.Heap[current] > self.Heap[self.parent(current)]:\n",
    "            self.swap(current, self.parent(current))\n",
    "            current = self.parent(current)\n",
    "# Now, we create insert().\n",
    "# For starters, the method will increase the size of the heap by 1.\n",
    "# Then, it will add the new element at the end of the heap, which may unbalance the heap.\n",
    "# Because of that, the method will compare its value with its parent's and keep swapping it,\n",
    "# while its parent node is smaller than it.\n",
    "\n",
    "    def get_heap(self):\n",
    "        for i in range(1, (self.size // 2) + 1):\n",
    "            print(\" PARENT: \" + str(self.Heap[i]) +\n",
    "                  \" LEFT CHILD: \" + str(self.Heap[2 *i]) + \n",
    "                  \" RIGHT CHILD: \" + str(self.Heap[2 * i + 1]))\n",
    "# The above method outputs the contents of the heap in a specific format\n",
    "\n",
    "    def pop_max(self):\n",
    "        popped = self.Heap[self.FRONT]\n",
    "        self.Heap[self.FRONT] = self.Heap[self.size]\n",
    "        self.size -= 1\n",
    "        self.max_heapify(self.FRONT)\n",
    "        return popped\n",
    "# The last method to be built is pop_max(), and it will remove and output the maximum element from the heap, which will be at the root.\n",
    "# The method will copy the element at the heap's end into the root node and delete the last node, which will make the heap unbalanced.\n",
    "# In the end, the method will call max_heapify() on the root node to restore balance."
   ]
  },
  {
   "cell_type": "markdown",
   "id": "61382ada",
   "metadata": {},
   "source": [
    "And now, we test our blueprint:"
   ]
  },
  {
   "cell_type": "code",
   "execution_count": 5,
   "id": "9058cb0b",
   "metadata": {},
   "outputs": [
    {
     "name": "stdout",
     "output_type": "stream",
     "text": [
      " PARENT: 84 LEFT CHILD: 22 RIGHT CHILD: 19\n",
      " PARENT: 22 LEFT CHILD: 17 RIGHT CHILD: 10\n",
      " PARENT: 19 LEFT CHILD: 5 RIGHT CHILD: 6\n",
      " PARENT: 17 LEFT CHILD: 3 RIGHT CHILD: 9\n"
     ]
    }
   ],
   "source": [
    "if __name__ == \"__main__\":\n",
    "    \n",
    "    new_heap = MaxHeap(15) # created a new obj 'new_heap' and defined its maximum size to 15\n",
    "    \n",
    "    new_heap.insert(5)\n",
    "    new_heap.insert(3)\n",
    "    new_heap.insert(17)\n",
    "    new_heap.insert(10)\n",
    "    new_heap.insert(84)\n",
    "    new_heap.insert(19)\n",
    "    new_heap.insert(6)\n",
    "    new_heap.insert(22)\n",
    "    new_heap.insert(9)\n",
    "    \n",
    "    new_heap.get_heap()"
   ]
  },
  {
   "cell_type": "code",
   "execution_count": 6,
   "id": "d1950e93",
   "metadata": {},
   "outputs": [
    {
     "name": "stdout",
     "output_type": "stream",
     "text": [
      "The maximum value of my new heap is 84\n"
     ]
    }
   ],
   "source": [
    "print('The maximum value of my new heap is ' + str(new_heap.pop_max()))"
   ]
  },
  {
   "cell_type": "code",
   "execution_count": 7,
   "id": "8b36e9f8",
   "metadata": {},
   "outputs": [
    {
     "name": "stdout",
     "output_type": "stream",
     "text": [
      " PARENT: 22 LEFT CHILD: 17 RIGHT CHILD: 19\n",
      " PARENT: 17 LEFT CHILD: 9 RIGHT CHILD: 10\n",
      " PARENT: 19 LEFT CHILD: 5 RIGHT CHILD: 6\n",
      " PARENT: 9 LEFT CHILD: 3 RIGHT CHILD: 9\n"
     ]
    }
   ],
   "source": [
    "new_heap.get_heap() # will return how the heap looks like after popping 84(max value)"
   ]
  },
  {
   "cell_type": "code",
   "execution_count": 8,
   "id": "e72ef6e3",
   "metadata": {},
   "outputs": [
    {
     "name": "stdout",
     "output_type": "stream",
     "text": [
      " PARENT: 100 LEFT CHILD: 22 RIGHT CHILD: 19\n",
      " PARENT: 22 LEFT CHILD: 17 RIGHT CHILD: 10\n",
      " PARENT: 19 LEFT CHILD: 5 RIGHT CHILD: 6\n",
      " PARENT: 17 LEFT CHILD: 3 RIGHT CHILD: 9\n"
     ]
    }
   ],
   "source": [
    "new_heap.insert(100)\n",
    "new_heap.get_heap()"
   ]
  },
  {
   "cell_type": "code",
   "execution_count": 9,
   "id": "d849ef9f",
   "metadata": {},
   "outputs": [
    {
     "name": "stdout",
     "output_type": "stream",
     "text": [
      "9223372036854775807\n"
     ]
    }
   ],
   "source": [
    "print(new_heap.Heap[0])"
   ]
  }
 ],
 "metadata": {
  "kernelspec": {
   "display_name": "Python 3 (ipykernel)",
   "language": "python",
   "name": "python3"
  },
  "language_info": {
   "codemirror_mode": {
    "name": "ipython",
    "version": 3
   },
   "file_extension": ".py",
   "mimetype": "text/x-python",
   "name": "python",
   "nbconvert_exporter": "python",
   "pygments_lexer": "ipython3",
   "version": "3.8.8"
  }
 },
 "nbformat": 4,
 "nbformat_minor": 5
}
