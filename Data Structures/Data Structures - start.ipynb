{
 "cells": [
  {
   "cell_type": "markdown",
   "id": "0ea80993",
   "metadata": {},
   "source": [
    "What is a Data Structure?\n",
    "- a collection of values\n",
    "- they can have relationships among them\n",
    "- they can have functions applied to them\n",
    "\n",
    "Each Data Structure especialises in their own thing. They work as a file cabinet, a container, or a compartiment of different types.\n",
    "A backpack for school stuff.\n",
    "A drawer for clothers.\n",
    "A fridge for your food.\n",
    "A folder for your files."
   ]
  },
  {
   "cell_type": "markdown",
   "id": "136f5556",
   "metadata": {},
   "source": [
    "Data Structures are a way to organise data, so that we can easily retrieve it and manage it.\n",
    "See: https://en.wikipedia.org/wiki/List_of_data_structures"
   ]
  },
  {
   "cell_type": "markdown",
   "id": "ca4250f4",
   "metadata": {},
   "source": [
    "1. How to Build One"
   ]
  },
  {
   "cell_type": "markdown",
   "id": "044921ed",
   "metadata": {},
   "source": [
    "2. How to Use it"
   ]
  },
  {
   "cell_type": "markdown",
   "id": "dcf323ef",
   "metadata": {},
   "source": [
    "Most common Data Structures:\n",
    "- Arrays\n",
    "- Stacks\n",
    "- Trees\n",
    "- Tries\n",
    "- Stacks\n",
    "- Queues\n",
    "- Graphs\n",
    "- Linked Lists\n",
    "- Hash Tables"
   ]
  },
  {
   "cell_type": "markdown",
   "id": "9519006a",
   "metadata": {},
   "source": [
    "Operations on Data Structures:\n",
    "- Access (probably the most important one)\n",
    "- Insertion\n",
    "- Deletion\n",
    "- Traversal (access each data item exactly once for processing)\n",
    "- Searching\n",
    "- Sorting"
   ]
  }
 ],
 "metadata": {
  "kernelspec": {
   "display_name": "Python 3",
   "language": "python",
   "name": "python3"
  },
  "language_info": {
   "codemirror_mode": {
    "name": "ipython",
    "version": 3
   },
   "file_extension": ".py",
   "mimetype": "text/x-python",
   "name": "python",
   "nbconvert_exporter": "python",
   "pygments_lexer": "ipython3",
   "version": "3.8.8"
  }
 },
 "nbformat": 4,
 "nbformat_minor": 5
}
