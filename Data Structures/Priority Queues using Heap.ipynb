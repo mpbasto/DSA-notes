{
 "cells": [
  {
   "cell_type": "markdown",
   "id": "c7eb6b3f",
   "metadata": {},
   "source": [
    "A Priority Queue is a data type that can help maintaining the dataset, and should be perceived as an extension to a regular queue. Priority queues have defined rules to set priorities amongst the group of items they entail. The highest priority items are moved to the front of the priority queue, and the lowest priority elements to the end. The best example of the way a priority queue works is by imagining multiple patients at a hospital, waiting to be be seen. Their illness/ailments will define their priority in the queue.\n",
    "\n",
    "Priority Queues have the following characteristics:\n",
    "\n",
    "- Each item has some priority associated with it.\n",
    "- An item with the highest priority is moved at the front and deleted first.\n",
    "- If two elements share the same priority value, then the priority queue follows the first-in-first-out principle for de queue operation.\n",
    "\n",
    "The most efficient way to implement a priority queue is by using a binary heap. See the time complexities below:\n",
    "\n",
    "- Insert(enqueue): 0(log(N))\n",
    "- Remove(dequeue): 0(log(N))\n",
    "- Lookup: O(1)\n",
    "\n",
    "In Python, it is necessary to import the “heapq” module to implement a priority queue using the heap method. The operations we can perform on the heap using the \"heapq\" module are:\n",
    "\n",
    "- heapify(iterable): converts the iterable into a heap, i.e. in heap order.\n",
    "\n",
    "\n",
    "- heappush(heap, ele): inserts an element into the heap; the order is adjusted to maintain the heap structure.\n",
    "\n",
    "\n",
    "- heappop(heap): removes and returns the smallest element from heap; the order is adjusted to maintain the heap structure.\n",
    "\n",
    "\n",
    "- heappushpop(heap, ele): combines the functioning of both push and pop operations in one statement, increasing the heap's efficiency; the order is kept after this operation.\n",
    "\n",
    "\n",
    "- heapreplace(heap, ele): inserts and pops element in one statement, but the smallest element is popped before the new element is pushed.\n",
    "\n",
    "\n",
    "- heapreplace(): returns the smallest value originally in the heap regardless of the pushed element, as opposed to heappushpop()."
   ]
  },
  {
   "cell_type": "code",
   "execution_count": 2,
   "id": "91a46e67",
   "metadata": {},
   "outputs": [
    {
     "name": "stdout",
     "output_type": "stream",
     "text": [
      "The created heap is : [1, 3, 9, 7, 5]\n"
     ]
    }
   ],
   "source": [
    "import heapq\n",
    "\n",
    "# Initializing list\n",
    "new_list = [5, 7, 9, 1, 3]\n",
    "\n",
    "# Convert list into heap using heapify\n",
    "heapq.heapify(new_list)\n",
    "\n",
    "# Printing newly created heap\n",
    "print(f\"The created heap is : \", end=\"\")\n",
    "print(list(new_list))"
   ]
  },
  {
   "cell_type": "code",
   "execution_count": 3,
   "id": "460ccf97",
   "metadata": {},
   "outputs": [
    {
     "name": "stdout",
     "output_type": "stream",
     "text": [
      "The modified heap after push is : [1, 3, 4, 7, 5, 9]\n"
     ]
    }
   ],
   "source": [
    "# Push elements into heap using heappush()\n",
    "heapq.heappush(new_list, 4)\n",
    "\n",
    "# Printing modified heap\n",
    "print(\"The modified heap after push is : \", end=\"\")\n",
    "print(list(new_list))"
   ]
  },
  {
   "cell_type": "code",
   "execution_count": 4,
   "id": "07342e89",
   "metadata": {},
   "outputs": [
    {
     "name": "stdout",
     "output_type": "stream",
     "text": [
      "The popped and smallest element is : 1\n"
     ]
    }
   ],
   "source": [
    "# Pop smallest element using heappop()\n",
    "print(\"The popped and smallest element is : \", end=\"\")\n",
    "print(heapq.heappop(new_list))"
   ]
  },
  {
   "cell_type": "code",
   "execution_count": 5,
   "id": "56193969",
   "metadata": {},
   "outputs": [
    {
     "name": "stdout",
     "output_type": "stream",
     "text": [
      "The popped item using heappushpop() is : 2\n"
     ]
    }
   ],
   "source": [
    "# Creating two identical heaps to demonstrate the difference between heappushpop() and heapreplace()\n",
    "list1 = [5, 7, 9, 4, 3]\n",
    "list2 = [5, 7, 9, 4, 3]\n",
    "heapq.heapify(list1)\n",
    "heapq.heapify(list2)\n",
    "\n",
    "# Push and pop items simultaneously using heappushpop()\n",
    "print(\"The popped item using heappushpop() is : \", end=\"\")\n",
    "print(heapq.heappushpop(list1, 2))\n"
   ]
  },
  {
   "cell_type": "code",
   "execution_count": 6,
   "id": "87f82ca9",
   "metadata": {},
   "outputs": [
    {
     "name": "stdout",
     "output_type": "stream",
     "text": [
      "The popped item using heapreplace() is : 3\n"
     ]
    }
   ],
   "source": [
    "# Push and pop items simultaneously using heapreplace()\n",
    "print(\"The popped item using heapreplace() is : \", end=\"\")\n",
    "print(heapq.heapreplace(list2, 2))"
   ]
  }
 ],
 "metadata": {
  "kernelspec": {
   "display_name": "Python 3 (ipykernel)",
   "language": "python",
   "name": "python3"
  },
  "language_info": {
   "codemirror_mode": {
    "name": "ipython",
    "version": 3
   },
   "file_extension": ".py",
   "mimetype": "text/x-python",
   "name": "python",
   "nbconvert_exporter": "python",
   "pygments_lexer": "ipython3",
   "version": "3.8.8"
  }
 },
 "nbformat": 4,
 "nbformat_minor": 5
}
