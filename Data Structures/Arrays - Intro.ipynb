{
 "cells": [
  {
   "cell_type": "markdown",
   "id": "b51f281a",
   "metadata": {},
   "source": [
    "Arrays (aka lists) organise items sequentially, stored in contiguous memory. As they have the least amount of rules and the smallest footprint in terms of memory, Arrays are the simplest of DS.\n",
    "\n",
    "\n",
    "Example:"
   ]
  },
  {
   "cell_type": "code",
   "execution_count": 12,
   "id": "f64ec2c0",
   "metadata": {},
   "outputs": [],
   "source": [
    "strings = [5,8,2,9,17,43,25,10] # 4*4 = 16 bytes of storage"
   ]
  },
  {
   "cell_type": "markdown",
   "id": "b8458306",
   "metadata": {},
   "source": [
    " - Lookup/Access\n",
    " \n",
    " Any item of an array can be accessed by its index. We just need to ask for the particular index of that item, and we will get it in constant time."
   ]
  },
  {
   "cell_type": "code",
   "execution_count": 13,
   "id": "7ffe233f",
   "metadata": {},
   "outputs": [
    {
     "data": {
      "text/plain": [
       "8"
      ]
     },
     "execution_count": 13,
     "metadata": {},
     "output_type": "execute_result"
    }
   ],
   "source": [
    "strings[1]"
   ]
  },
  {
   "cell_type": "markdown",
   "id": "714a2358",
   "metadata": {},
   "source": [
    "This returned the 2nd item of the array \"strings\" - in this case, 8 - in O(1) time."
   ]
  },
  {
   "cell_type": "code",
   "execution_count": 14,
   "id": "393abcf8",
   "metadata": {},
   "outputs": [
    {
     "data": {
      "text/plain": [
       "43"
      ]
     },
     "execution_count": 14,
     "metadata": {},
     "output_type": "execute_result"
    }
   ],
   "source": [
    "strings[5]"
   ]
  },
  {
   "cell_type": "markdown",
   "id": "3dab25e4",
   "metadata": {},
   "source": [
    "Accessed the 6th item of the array, 43. Again, in O(1) time."
   ]
  },
  {
   "cell_type": "markdown",
   "id": "39d88017",
   "metadata": {},
   "source": [
    "\n",
    "- Push/Pop\n",
    "\n",
    "Push corresponds to pushing or adding an item at the end of the array. In Python, the operation Push is known as Append!\n",
    "Similarly, Pop corresponds to removing the item at the end of the array.\n",
    "\n",
    "Since the index of the end of the array is known, finding it and pushing or popping an item will only require O(1) time."
   ]
  },
  {
   "cell_type": "code",
   "execution_count": 15,
   "id": "910945f5",
   "metadata": {},
   "outputs": [
    {
     "name": "stdout",
     "output_type": "stream",
     "text": [
      "[5, 8, 2, 9, 17, 43, 25, 10, 68]\n"
     ]
    }
   ],
   "source": [
    "strings.append(68)\n",
    "print(strings)"
   ]
  },
  {
   "cell_type": "markdown",
   "id": "55a70cc0",
   "metadata": {},
   "source": [
    "Important note:\n",
    "In some situations, the append(push) operation may take more time, because Python has dynamic arrays, as mentioned earlier. When an item is appended and the array is filled, the entire array has to be copied to a new location, this time with more space allocated(generally double the space), to append more items. Therefore, some individual operations may require O(n) time or more, but when averaged over a large number of operations, the time complexity can be safely considered as O(1)."
   ]
  },
  {
   "cell_type": "code",
   "execution_count": 16,
   "id": "0685fc09",
   "metadata": {},
   "outputs": [
    {
     "name": "stdout",
     "output_type": "stream",
     "text": [
      "[5, 8, 2, 9, 17, 43, 25, 10]\n"
     ]
    }
   ],
   "source": [
    "strings.pop() #Pop removes the item positioned at the end of the array in O(1) time\n",
    "print(strings)"
   ]
  },
  {
   "cell_type": "markdown",
   "id": "c90922ec",
   "metadata": {},
   "source": [
    "- Insert (i, x)\n",
    "\n",
    "Insert operation inserts an item at a given position. The first argument is the index of the item before which to insert (a.insert(0, x) inserts at the front of the array, and a.insert(len(a), x) is equivalent to a.append(x) which adds the item at the end of the array).\n",
    "\n",
    "The time complexity of this operation is O(n), because after inserting the item at the desired location, the items to the right of the array have to be updated with the correct index, as they all have shifted by one place.\n",
    "\n",
    "This requires looping through the array, which leads to O(n)."
   ]
  },
  {
   "cell_type": "code",
   "execution_count": 17,
   "id": "27465a0e",
   "metadata": {},
   "outputs": [],
   "source": [
    "strings.insert(0,50)\n",
    "# Inserts 50 at the beginning of the array and shifts all other elements one place towards right, in O(n) time\n",
    "\n",
    "strings.insert(4,0)\n",
    "# Inserts '0' at index '4', thus shifting all elements starting from index 4 one place towards right, in O(n) time"
   ]
  },
  {
   "cell_type": "code",
   "execution_count": 18,
   "id": "ece933dc",
   "metadata": {},
   "outputs": [
    {
     "name": "stdout",
     "output_type": "stream",
     "text": [
      "[50, 5, 8, 2, 0, 9, 17, 43, 25, 10]\n"
     ]
    }
   ],
   "source": [
    "print(strings)"
   ]
  },
  {
   "cell_type": "markdown",
   "id": "90972caa",
   "metadata": {},
   "source": [
    "- Delete/Remove/Del statement\n",
    "\n",
    "Similar to insert, it deletes an item from a specified location in O(n) time. The items to the right of the deleted item have to shift one space to the left, which requires looping over the entire array, leading to a O(n) time complexity.\n",
    "\n",
    "There is a way to remove an item from a list given its index instead of its value: the del statement. This differs from the .pop() method, which returns a value. \n",
    "The del statement can also be used to remove slices from a list or clear the entire list."
   ]
  },
  {
   "cell_type": "code",
   "execution_count": 20,
   "id": "101e9275",
   "metadata": {},
   "outputs": [
    {
     "name": "stdout",
     "output_type": "stream",
     "text": [
      "[8, 2, 0, 9, 17, 43, 25, 10]\n",
      "[8, 2, 0, 9, 43, 25, 10]\n",
      "[8, 2, 43, 25, 10]\n"
     ]
    }
   ],
   "source": [
    "strings.pop(0) \n",
    "# This pops the 1st item of the array, shifting the remaining elements of the array one place left. -> O(n)\n",
    "print(strings)\n",
    "\n",
    "strings.remove(17) \n",
    "# This command removes the first occurence of the item '17' in the array, for which it needs to iterate over the entire array. -> O(n)\n",
    "print(strings)\n",
    "\n",
    "del strings[2:4] \n",
    "# This command deletes items from position 2 to position 4. -> O(n)\n",
    "print(strings)"
   ]
  },
  {
   "cell_type": "markdown",
   "id": "ae2e5c25",
   "metadata": {},
   "source": [
    "\n",
    "Sources:\n",
    "- https://docs.python.org/3/tutorial/datastructures.html\n",
    "\n",
    "- https://docs.python.org/3/tutorial/datastructures.html#the-del-statement\n",
    "\n",
    "- https://github.com/VicodinAbuser/ZTM-DS-and-Algo-Python/blob/master/venv/Scripts/Data%20Structures/Arrays/Introduction.py\n",
    "\n"
   ]
  },
  {
   "cell_type": "code",
   "execution_count": null,
   "id": "e33d2d51",
   "metadata": {},
   "outputs": [],
   "source": []
  }
 ],
 "metadata": {
  "kernelspec": {
   "display_name": "Python 3",
   "language": "python",
   "name": "python3"
  },
  "language_info": {
   "codemirror_mode": {
    "name": "ipython",
    "version": 3
   },
   "file_extension": ".py",
   "mimetype": "text/x-python",
   "name": "python",
   "nbconvert_exporter": "python",
   "pygments_lexer": "ipython3",
   "version": "3.8.8"
  }
 },
 "nbformat": 4,
 "nbformat_minor": 5
}
