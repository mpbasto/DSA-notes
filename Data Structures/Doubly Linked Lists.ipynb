{
 "cells": [
  {
   "cell_type": "markdown",
   "id": "7561b5f9",
   "metadata": {},
   "source": [
    "A Doubly Linked List is a type of linked list where the nodes not only reference the next node but also the previous one. This implementation allows us to traverse a list in both directions, so operations such as appending and deleting can be much easier and faster to perform than a singly linked list.\n",
    "\n",
    "<-- Previous | [ Data ] | Next -->\n",
    "\n",
    "Its implementation is similar to the singly linked list, with only small changes to the parameters. Using the singly linked list created on the previous lecture, we can adapt its code to implement a doubly linked list. "
   ]
  },
  {
   "cell_type": "code",
   "execution_count": 14,
   "id": "271f743f",
   "metadata": {},
   "outputs": [],
   "source": [
    "class Node():\n",
    "    def __init__(self, data):\n",
    "        self.data = data\n",
    "        self.next = None\n",
    "        self.previous = None\n",
    "    \n",
    "\n",
    "class DoublyLinkedList():\n",
    "    def __init__(self):\n",
    "        self.head = None\n",
    "        self.tail = self.head\n",
    "        self.length = 0\n",
    "\n",
    "\n",
    "    def print_list(self):\n",
    "        if self.head == None:\n",
    "            print(\"Empty\")\n",
    "        else:\n",
    "            current_node = self.head\n",
    "            while current_node!= None:\n",
    "                print(current_node.data, end= ' ')\n",
    "                current_node = current_node.next\n",
    "        print()\n",
    "\n",
    "\n",
    "    def append(self, data):\n",
    "        new_node = Node(data)\n",
    "        if self.head == None: \n",
    "            self.head = new_node\n",
    "            self.tail = self.head\n",
    "            self.length += 1\n",
    "            return\n",
    "        else: \n",
    "            new_node.previous = self.tail\n",
    "            self.tail.next = new_node \n",
    "            self.tail = new_node \n",
    "            self.length += 1\n",
    "            return\n",
    "# If linked list is empty, we make head and tail both equal to the new node.\n",
    "# Otherwise, we make the previous pointer of the new node point to the current tail.\n",
    "# Then, the next pointer of the current tail will refer to the new node.\n",
    "# This will build a two-way link between the current tail and the new node.\n",
    "# Finally, the tail is updated so that it is equal to the new node.\n",
    "\n",
    "\n",
    "    def prepend(self, data):\n",
    "        new_node = Node(data)\n",
    "        if self.head == None:\n",
    "            self.head = new_node\n",
    "            self.tail = self.head\n",
    "            self.length += 1\n",
    "            return\n",
    "        else:\n",
    "            new_node.next = self.head \n",
    "            self.head.previous = new_node \n",
    "            self.head = new_node \n",
    "            self.length += 1\n",
    "            return\n",
    "# The node next to the new node will point to the current head.\n",
    "# We connect the node behind the current head to the new node, and then update the head.\n",
    "\n",
    "\n",
    "    def insert(self, position, data):\n",
    "        if position == 0:\n",
    "            self.prepend(data) \n",
    "            return\n",
    "        if position >= self.length:\n",
    "            if position > self.length:\n",
    "                print('Position unavailable. Appending at the end of the list.')\n",
    "            self.append(data) \n",
    "            return\n",
    "        else:\n",
    "            new_node = Node(data)\n",
    "            current_node = self.head\n",
    "            for i in range(position - 1): \n",
    "                current_node = current_node.next\n",
    "            new_node.previous = current_node \n",
    "            new_node.next = current_node.next \n",
    "            current_node.next = new_node \n",
    "            new_node.next.previous = new_node \n",
    "            self.length += 1\n",
    "            return\n",
    "# Inserting at position 0 is equivalent to prepending. \n",
    "# So instead of repeating code, we call the prepend method.\n",
    "# Similarly, inserting data position >= the length of the list is equivalent to appending.\n",
    "# So we call the append method instead.\n",
    "# We traverse up to one position before the position we want to insert the new node in.\n",
    "# We make the new node's previous pointer refer to the current node, and the next pointer to the next of the current node.\n",
    "# Then we break the link between the current node and the next node and make the next pointer of the current node refer to the new node.\n",
    "# Finally the next node's previous pointer will be update, so that it refers to the new node instead of the current node. \n",
    "# This way, the new node gets inserted in betwwen the current and the next nodes.\n",
    "\n",
    "    def delete_by_value(self, data):\n",
    "        if self.head == None:\n",
    "            print(\"Nothing to delete. Linked List is empty.\")\n",
    "            return\n",
    "\n",
    "        current_node = self.head\n",
    "        if current_node.data == data:\n",
    "            self.head = self.head.next\n",
    "            if self.head == None or self.head.next==None: \n",
    "                self.tail = self.head\n",
    "            if self.head != None:\n",
    "                self.head.previous = None \n",
    "            self.length -= 1\n",
    "            return\n",
    "        try:  \n",
    "            while current_node!= None and current_node.next.data != data:\n",
    "                current_node = current_node.next\n",
    "            if current_node!=None:\n",
    "                current_node.next = current_node.next.next\n",
    "                if current_node.next != None: \n",
    "                    current_node.next.previous = current_node \n",
    "                else:\n",
    "                    self.tail = current_node \n",
    "                self.length -= 1\n",
    "                return\n",
    "        except AttributeError:\n",
    "            print(\"Given value not found.\")\n",
    "            return\n",
    "# If upon deleting the first node the list becomes empty or has only one node, we set the tail equal to the head.\n",
    "# The new head's previous pointer is set to be 'None'.\n",
    "# We add a try block in case the value is not found. The current_node.next will be 'None', and there is no data parameter to compare.\n",
    "# If the node deleted is not the last node(i.e., the node 2 positions after the current node is != 'None'), the previous pointer of the node next to the deleted node will equal to the current node.\n",
    "# This way, a connection is established.\n",
    "# If the deleted node is the last node, then we update the tail to be the current node.\n",
    "\n",
    "    def delete_by_position(self, position):\n",
    "        if self.head == None:\n",
    "            print(\"Linked List is empty. Nothing to delete.\")\n",
    "            return\n",
    "\n",
    "        if position == 0:\n",
    "            self.head = self.head.next\n",
    "            #print(self.head)\n",
    "            if self.head == None or self.head.next == None:\n",
    "                self.tail = self.head\n",
    "            if self.head != None:\n",
    "                self.head.previous = None \n",
    "            self.length -= 1\n",
    "            return\n",
    "\n",
    "        if position>=self.length:\n",
    "            position = self.length-1\n",
    "\n",
    "        current_node = self.head\n",
    "        for i in range(position - 1):\n",
    "            current_node = current_node.next\n",
    "        current_node.next = current_node.next.next\n",
    "        if current_node.next != None: \n",
    "            current_node.next.previous = current_node\n",
    "        else:\n",
    "            self.tail = current_node\n",
    "        self.length -= 1\n",
    "        return\n",
    "\n",
    "# We update the new head's previous pointer to be equal to 'None'\n",
    "# Similar logic to the delete_by_value method"
   ]
  },
  {
   "cell_type": "code",
   "execution_count": 15,
   "id": "02836885",
   "metadata": {},
   "outputs": [
    {
     "name": "stdout",
     "output_type": "stream",
     "text": [
      "Empty\n",
      "\n"
     ]
    }
   ],
   "source": [
    "# Now, it is time to test the doubly linked list blueprint by creating our own.\n",
    "\n",
    "test_list = DoublyLinkedList()\n",
    "test_list.print_list()"
   ]
  },
  {
   "cell_type": "code",
   "execution_count": 16,
   "id": "e7366703",
   "metadata": {},
   "outputs": [
    {
     "name": "stdout",
     "output_type": "stream",
     "text": [
      "5 2 9 \n"
     ]
    }
   ],
   "source": [
    "test_list.append(5)\n",
    "test_list.append(2)\n",
    "test_list.append(9)\n",
    "test_list.print_list()"
   ]
  },
  {
   "cell_type": "code",
   "execution_count": 17,
   "id": "58b49bcb",
   "metadata": {},
   "outputs": [
    {
     "name": "stdout",
     "output_type": "stream",
     "text": [
      "4 5 2 9 \n"
     ]
    }
   ],
   "source": [
    "test_list.prepend(4)\n",
    "test_list.print_list()"
   ]
  },
  {
   "cell_type": "code",
   "execution_count": 18,
   "id": "940c9496",
   "metadata": {},
   "outputs": [
    {
     "name": "stdout",
     "output_type": "stream",
     "text": [
      "4 5 7 2 9 \n"
     ]
    }
   ],
   "source": [
    "test_list.insert(2,7)\n",
    "test_list.print_list()"
   ]
  },
  {
   "cell_type": "code",
   "execution_count": 19,
   "id": "64d23f1e",
   "metadata": {},
   "outputs": [
    {
     "name": "stdout",
     "output_type": "stream",
     "text": [
      "Position unavailable. Appending at the end of the list.\n",
      "0 4 5 7 2 9 0 3 \n"
     ]
    }
   ],
   "source": [
    "test_list.insert(0,0)\n",
    "test_list.insert(6,0)\n",
    "test_list.insert(9,3)\n",
    "test_list.print_list()"
   ]
  },
  {
   "cell_type": "code",
   "execution_count": 20,
   "id": "88a7f51d",
   "metadata": {},
   "outputs": [
    {
     "name": "stdout",
     "output_type": "stream",
     "text": [
      "0 4 5 7 2 9 0 \n"
     ]
    }
   ],
   "source": [
    "test_list.delete_by_value(3)\n",
    "test_list.print_list()"
   ]
  },
  {
   "cell_type": "code",
   "execution_count": 21,
   "id": "930c2adc",
   "metadata": {},
   "outputs": [
    {
     "name": "stdout",
     "output_type": "stream",
     "text": [
      "4 5 7 2 9 0 \n"
     ]
    }
   ],
   "source": [
    "test_list.delete_by_value(0)\n",
    "test_list.print_list()"
   ]
  },
  {
   "cell_type": "code",
   "execution_count": 22,
   "id": "8f66a008",
   "metadata": {},
   "outputs": [
    {
     "name": "stdout",
     "output_type": "stream",
     "text": [
      "4 5 7 9 0 \n"
     ]
    }
   ],
   "source": [
    "test_list.delete_by_position(3)\n",
    "test_list.print_list()"
   ]
  },
  {
   "cell_type": "code",
   "execution_count": 23,
   "id": "a4ba319a",
   "metadata": {},
   "outputs": [
    {
     "name": "stdout",
     "output_type": "stream",
     "text": [
      "5 7 9 0 \n"
     ]
    }
   ],
   "source": [
    "test_list.delete_by_position(0)\n",
    "test_list.print_list()"
   ]
  },
  {
   "cell_type": "code",
   "execution_count": 24,
   "id": "2cfc1332",
   "metadata": {},
   "outputs": [
    {
     "name": "stdout",
     "output_type": "stream",
     "text": [
      "5 7 9 \n"
     ]
    }
   ],
   "source": [
    "test_list.delete_by_position(8)\n",
    "test_list.print_list()"
   ]
  },
  {
   "cell_type": "code",
   "execution_count": 25,
   "id": "ef7ea516",
   "metadata": {},
   "outputs": [
    {
     "name": "stdout",
     "output_type": "stream",
     "text": [
      "Given value not found.\n",
      "5 7 9 \n"
     ]
    }
   ],
   "source": [
    "test_list.delete_by_value(3)\n",
    "test_list.print_list()"
   ]
  },
  {
   "cell_type": "code",
   "execution_count": 13,
   "id": "4e899bed",
   "metadata": {},
   "outputs": [
    {
     "name": "stdout",
     "output_type": "stream",
     "text": [
      "3\n"
     ]
    }
   ],
   "source": [
    "print(test_list.length)"
   ]
  }
 ],
 "metadata": {
  "kernelspec": {
   "display_name": "Python 3",
   "language": "python",
   "name": "python3"
  },
  "language_info": {
   "codemirror_mode": {
    "name": "ipython",
    "version": 3
   },
   "file_extension": ".py",
   "mimetype": "text/x-python",
   "name": "python",
   "nbconvert_exporter": "python",
   "pygments_lexer": "ipython3",
   "version": "3.8.8"
  }
 },
 "nbformat": 4,
 "nbformat_minor": 5
}
