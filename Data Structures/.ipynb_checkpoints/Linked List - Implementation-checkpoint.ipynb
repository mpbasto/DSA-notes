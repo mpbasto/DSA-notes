{
 "cells": [
  {
   "cell_type": "markdown",
   "id": "1d259e51",
   "metadata": {},
   "source": [
    "Python doesn't have a built-in implementation of linked lists, we have to build it on our own.\n",
    "\n",
    "- We start by creating the blueprint for each node"
   ]
  },
  {
   "cell_type": "code",
   "execution_count": 53,
   "id": "5f7aae0e",
   "metadata": {},
   "outputs": [],
   "source": [
    "class Node():\n",
    "    def __init__(self, data):\n",
    "        self.data = data\n",
    "        self.next = None "
   ]
  },
  {
   "cell_type": "markdown",
   "id": "8b8e6a77",
   "metadata": {},
   "source": [
    "When we instanciate a node, the class will pass the data we want the node to hold. The data passed during this process will be stored in self.data, and the self.next will work as a pointer to the next node on the list, which will always point to null (None) when we create a new node."
   ]
  },
  {
   "cell_type": "markdown",
   "id": "853b68f9",
   "metadata": {},
   "source": [
    "- Then, we create the class LinkedList: will have head and tail pointers;\n",
    "- Optional: store a value of length to help keeping track of the linked list size\n",
    "\n",
    "Upon creation, the linked list will be empty without any nodes to point to, so head will point to 'None' at this stage. Also because it's empty, the tail will point to whatever the head is pointing to('None')."
   ]
  },
  {
   "cell_type": "code",
   "execution_count": 54,
   "id": "3bfb2557",
   "metadata": {},
   "outputs": [],
   "source": [
    "class LinkedList():\n",
    "    def __init__(self):\n",
    "        self.head = None\n",
    "        self.tail = self.head\n",
    "        self.length = 0\n",
    "        \n",
    "# Next, we will add the append method: adds nodes to the end of the linked list\n",
    "    def append(self, data):\n",
    "        new_node = Node(data)\n",
    "        if self.head == None:\n",
    "            self.head = new_node\n",
    "            self.tail = self.head\n",
    "            self.length = 1\n",
    "        else:\n",
    "            self.tail.next = new_node\n",
    "            self.tail = new_node\n",
    "            self.length += 1\n",
    "# We pass the data we want to append and the method creates a new instance of the Node class (creating a new node containing the data passed)\n",
    "# Then, the method checks whether the list is empty; if so, it points the head to the newly created node, the tail to the head - because there is only one node on the list - and sets the length to 1 (if doing the optional part)\n",
    "# If the list is not empty: the 'next' pointer of the last node (pointed by tail) will reference the new node, the tail will be updated to point towards the new node - because it will become the last node on the list - and increase the length by 1\n",
    "\n",
    "# Next, we will implement the prepend method: adds a node to the head of the linked list\n",
    "    def prepend(self, data):\n",
    "        new_node = Node(data)\n",
    "        if self.head == None:\n",
    "            self.head = new_node\n",
    "            self.tail = self.head\n",
    "            self.length += 1\n",
    "        else:\n",
    "            new_node.next = self.head\n",
    "            self.head = new_node\n",
    "            self.length += 1\n",
    "# We pass the data and the method creates a new instance of the Node class (just as above)\n",
    "# The 'next' pointer of new_node will reference the head, which is currently pointing towards the first node of the list\n",
    "# Then, the head will point to new_node, because we want it to become the first node - the head\n",
    "# Finally, we increase length by 1\n",
    "\n",
    "# Afterwards, we create a function that prints the values in the nodes of the linked lists\n",
    "    def print_list(self):\n",
    "        if self.head == None:\n",
    "            print('Empty')\n",
    "        else:\n",
    "            current_node = self.head\n",
    "            while current_node != None:\n",
    "                print(current_node.data, end = ' ')\n",
    "                current_node = current_node.next\n",
    "        print()\n",
    "# First, it checks if the list is empty; if so, the output will be 'Empty'\n",
    "# Otherwise, it creates current_node pointing to the head of the linked list\n",
    "# Then, it loops until the node we created becomes 'None'\n",
    "# Inside the loop, it will print the data of current_node. Then, it will make current_node equal to the node referenced by the current node\n",
    "# Because we traverse the full length of the linked list, the time complexity of this operation is O(n)\n",
    "\n",
    "# Then, we created the insert method: inserts data at a specified position\n",
    "    def insert(self, position, data):\n",
    "        if position >= self.length:\n",
    "            if position > self.length:\n",
    "                print('Position unavailable. Appending at the end of the list.')\n",
    "            new_node = Node(data)\n",
    "            self.tail.next = new_node\n",
    "            self.tail = new_node\n",
    "            self.length += 1\n",
    "        elif position == 0:\n",
    "            new_node = Node(data)\n",
    "            new_node.next = self.head\n",
    "            self.head = new_node\n",
    "            self.length += 1\n",
    "        else:\n",
    "            new_node = Node(data)\n",
    "            current_node = self.head\n",
    "            for i in range(position - 1):\n",
    "                current_node = current_node.next\n",
    "            new_node.next = current_node.next\n",
    "            current_node.next = new_node\n",
    "            self.length += 1\n",
    "# If the position is greater than the length of the list, it follows the append operation (adds node to end of list)\n",
    "# If it's equal to 0, it follows the prepend operation (adds node to the beginning of list)\n",
    "# If it's somewhere between the previous positions, it creates a temporary node which traverses the list up to the previous position requested\n",
    "# The new 'next' pointer of the temporary node will refer to the next node on the list, which is the position requested\n",
    "# The temporary node and the new node will be pointing to the same position\n",
    "# Then, it updates the 'next' pointer of the temporary node towards the new node which makes it take up the intended position\n",
    "# The node that previously occupying that position gets pushed towards the next position\n",
    "# The time complexity of this operation will be O(n), because it requires traversal of the list\n",
    "\n",
    "# Next, we create a method that allows the user to enter a value: if found, the method will delete it; if found multiple times, it ONLY deletes its first occurence\n",
    "    def delete_by_value(self, data):\n",
    "        if self.head == None:\n",
    "            print('Nothing to delete. Linked list is empty.')\n",
    "            return\n",
    "        current_node = self.head\n",
    "        if current_node.data == data:\n",
    "            self.head = self.head.next\n",
    "            if self.head == None or self.head.next == None:\n",
    "                self.tail = self.head\n",
    "            self.length -= 1\n",
    "            return\n",
    "        while current_node.next != None and current_node.next.data != data:\n",
    "            if current_node.data == data:\n",
    "                previous_node.next = current_node.next\n",
    "                return\n",
    "            current_node = current_node.next\n",
    "        if current_node.next != None:\n",
    "            current_node.next = current_node.next.next\n",
    "            if current_node.next == None:\n",
    "                self.tail = current_node\n",
    "            self.length -= 1\n",
    "            return\n",
    "        else:\n",
    "            print('Given value not found.')\n",
    "# For starters, we check if the list is empty. If so, the relevant message is output. If not, a temporary node is created.\n",
    "# After that, we verify if the value of the head equals the value the user requested to delete.\n",
    "# If so, the head will become the node pointed by the 'next' pointer of the head.\n",
    "# Then, we check if there is only one node or none in the list.\n",
    "# If so, the tail will equal the head: original head no longer attached to the list and the second node becomes head.\n",
    "# If neither situations occur, we traverse the list and check every node.\n",
    "# This is done by looping until either the current node becomes 'None'(end of list), or until the data of the node next to the current node equals the value the user requested to delete.\n",
    "# After coming out of the loop, if the current node is not equal to 'None', then the next node of the current node is the one to be deleted.\n",
    "# Therefore, the 'next' pointer of the current node will point to the node 2 positions next to the current node, bypassing the node the user wants to delete effectively.\n",
    "# We establish a connection between the current node and the node 2 positions next to the current node, which disconnects the node the user requested.\n",
    "# After deleting it, we check if the current node's 'next' point refers to 'None' (if it's the tail); if so, then tail is updated.\n",
    "# If the current node is equal to 'None', we traversed the entired list and the value could not be found.\n",
    "# The time complexity of this operation is O(n).\n",
    "\n",
    "# At last, we create a method that allows us to delete a node based on its position, similarly to the delete_by_value method.\n",
    "    def delete_by_position(self, position):\n",
    "        if self.head == None:\n",
    "            print('Nothing to delete. Linked List is empty.')\n",
    "            return\n",
    "        if position == 0:\n",
    "            self.head = self.head.next\n",
    "            if self.head == None or self.head.next == None:\n",
    "                self.tail = self.head\n",
    "            self.length -= 1\n",
    "            return\n",
    "        if position >= self.length:\n",
    "            position = self.length - 1\n",
    "        current_node = self.head\n",
    "        for i in range(position - 1):\n",
    "            current_node = current_node.next\n",
    "        current_node.next = current_node.next.next\n",
    "        self.length -= 1\n",
    "        if current_node.next == None:\n",
    "            self.tail = current_node\n",
    "        return\n",
    "# Instead of traversing the list until the current node becomes 'None' or the next node equals the required data, we traverse the list until the position a place behind the position the user requested to delete (similar to the insert method)\n",
    "# Then, we bypass the next node to the current node and connect it to the node 2 positions after the current node.\n",
    "# Like the delete_by_value method, we also check for tail and update it accordingly.\n",
    "# The time complexity of this operation is O(n)."
   ]
  },
  {
   "cell_type": "code",
   "execution_count": 55,
   "id": "8725bf85",
   "metadata": {},
   "outputs": [
    {
     "name": "stdout",
     "output_type": "stream",
     "text": [
      "Empty\n",
      "\n"
     ]
    }
   ],
   "source": [
    "my_linked_list = LinkedList()\n",
    "my_linked_list.print_list()"
   ]
  },
  {
   "cell_type": "code",
   "execution_count": 56,
   "id": "bf2f09d8",
   "metadata": {},
   "outputs": [
    {
     "name": "stdout",
     "output_type": "stream",
     "text": [
      "5 2 9 \n"
     ]
    }
   ],
   "source": [
    "my_linked_list.append(5)\n",
    "my_linked_list.append(2)\n",
    "my_linked_list.append(9)\n",
    "my_linked_list.print_list()"
   ]
  },
  {
   "cell_type": "code",
   "execution_count": 57,
   "id": "0ece3bdd",
   "metadata": {},
   "outputs": [
    {
     "name": "stdout",
     "output_type": "stream",
     "text": [
      "4 5 2 9 \n"
     ]
    }
   ],
   "source": [
    "my_linked_list.prepend(4)\n",
    "my_linked_list.print_list()"
   ]
  },
  {
   "cell_type": "code",
   "execution_count": 58,
   "id": "20f3e1ed",
   "metadata": {},
   "outputs": [
    {
     "name": "stdout",
     "output_type": "stream",
     "text": [
      "4 5 7 2 9 \n"
     ]
    }
   ],
   "source": [
    "my_linked_list.insert(2,7)\n",
    "my_linked_list.print_list()"
   ]
  },
  {
   "cell_type": "code",
   "execution_count": 59,
   "id": "941bbfde",
   "metadata": {},
   "outputs": [
    {
     "name": "stdout",
     "output_type": "stream",
     "text": [
      "Position unavailable. Appending at the end of the list.\n",
      "0 4 5 7 2 9 0 3 \n"
     ]
    }
   ],
   "source": [
    "my_linked_list.insert(0,0)\n",
    "my_linked_list.insert(6,0)\n",
    "my_linked_list.insert(9,3)\n",
    "my_linked_list.print_list()"
   ]
  },
  {
   "cell_type": "code",
   "execution_count": 60,
   "id": "d25f861e",
   "metadata": {},
   "outputs": [
    {
     "name": "stdout",
     "output_type": "stream",
     "text": [
      "0 4 5 7 2 9 0 \n"
     ]
    }
   ],
   "source": [
    "my_linked_list.delete_by_value(3)\n",
    "my_linked_list.print_list()"
   ]
  },
  {
   "cell_type": "code",
   "execution_count": 61,
   "id": "47951c14",
   "metadata": {},
   "outputs": [
    {
     "name": "stdout",
     "output_type": "stream",
     "text": [
      "4 5 7 2 9 0 \n"
     ]
    }
   ],
   "source": [
    "my_linked_list.delete_by_value(0)\n",
    "my_linked_list.print_list()"
   ]
  },
  {
   "cell_type": "code",
   "execution_count": 62,
   "id": "f744d746",
   "metadata": {},
   "outputs": [
    {
     "name": "stdout",
     "output_type": "stream",
     "text": [
      "4 5 7 9 0 \n"
     ]
    }
   ],
   "source": [
    "my_linked_list.delete_by_position(3)\n",
    "my_linked_list.print_list()"
   ]
  },
  {
   "cell_type": "code",
   "execution_count": 63,
   "id": "4b773242",
   "metadata": {},
   "outputs": [
    {
     "name": "stdout",
     "output_type": "stream",
     "text": [
      "5 7 9 0 \n"
     ]
    }
   ],
   "source": [
    "my_linked_list.delete_by_position(0)\n",
    "my_linked_list.print_list()"
   ]
  },
  {
   "cell_type": "code",
   "execution_count": 64,
   "id": "10e242cd",
   "metadata": {},
   "outputs": [
    {
     "name": "stdout",
     "output_type": "stream",
     "text": [
      "5 7 9 \n"
     ]
    }
   ],
   "source": [
    "my_linked_list.delete_by_position(8)\n",
    "my_linked_list.print_list()"
   ]
  },
  {
   "cell_type": "code",
   "execution_count": 65,
   "id": "d070f596",
   "metadata": {},
   "outputs": [
    {
     "name": "stdout",
     "output_type": "stream",
     "text": [
      "3\n"
     ]
    }
   ],
   "source": [
    "print(my_linked_list.length)"
   ]
  }
 ],
 "metadata": {
  "kernelspec": {
   "display_name": "Python 3",
   "language": "python",
   "name": "python3"
  },
  "language_info": {
   "codemirror_mode": {
    "name": "ipython",
    "version": 3
   },
   "file_extension": ".py",
   "mimetype": "text/x-python",
   "name": "python",
   "nbconvert_exporter": "python",
   "pygments_lexer": "ipython3",
   "version": "3.8.8"
  }
 },
 "nbformat": 4,
 "nbformat_minor": 5
}
