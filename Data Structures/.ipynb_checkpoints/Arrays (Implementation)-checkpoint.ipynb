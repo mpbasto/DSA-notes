{
 "cells": [
  {
   "cell_type": "markdown",
   "id": "45b2685c",
   "metadata": {},
   "source": [
    "Although arrays are pre-defined in Python in the form of lists, we can create our own arrays as well as other DS."
   ]
  },
  {
   "cell_type": "code",
   "execution_count": 1,
   "id": "828e7bf0",
   "metadata": {},
   "outputs": [],
   "source": [
    "class MyArray():\n",
    "    def __init__(self):\n",
    "        self.length = 0 # initialize the length of the array\n",
    "        self.data = {} # initialize the data of the array with an empty dict (k:index, v:data)\n",
    "        \n",
    "# By default, attributes of the array class are stored in a dict.\n",
    "# When the __dict__ method is called on an instance of the class > returns attributes of the class + their values in a dict\n",
    "# When the instance of the class is printed > returns a class object with its location in memory.\n",
    "# But we know when we print the array we get the elements of the array as output. \n",
    "# What happens is: when we print the instance of the class, the built-in __str__ method is called.\n",
    "# So we modify the __str__ method inside the class to suit our needs.\n",
    "\n",
    "    def __str__(self):\n",
    "       return str(self.__dict__) \n",
    "# Prints attributes of the array class(length and dsata) in str format when print(array_instance) is executed\n",
    "    \n",
    "    def get(self, index):\n",
    "        return self.data[index]\n",
    "#This method takes in the index of the element as a param + returns the corresponding element in O(1) time.\n",
    "\n",
    "    def push(self, item):\n",
    "        self.length += 1\n",
    "        self.data[self.length - 1] = item \n",
    "# Adds the item provided to the end of the array.\n",
    "\n",
    "    def pop(self):\n",
    "        last_item = self.data[self.length-1]\n",
    "        del self.data[self.length - 1] \n",
    "        self.length -= 1\n",
    "        return last_item \n",
    "# Collects the last element; Deletes the last element from the array; Decreases the length attribute of the array by 1; Returns the popped element. \n",
    "# O(1) time\n",
    "\n",
    "    def insert(self, index, item):\n",
    "        self.length += 1\n",
    "        for i in range(self.length-1, index, -1):\n",
    "            self.data[i] = self.data[i-1]\n",
    "        self.data[index] = item\n",
    "# Shifts every element from the index to the end by one place towards right > makes space at the specified index > adds the element at the given index. \n",
    "#O(n) operation\n",
    "\n",
    "\n",
    "    def delete(self,index):\n",
    "        for i in range(index, self.length-1):\n",
    "            self.data[i] = self.data[i+1]\n",
    "        del self.data[self.length - 1]\n",
    "        self.length -= 1 \n",
    "# Shifts elements from the given index to the end by one place towards left; deletes the last element which remains 2 times in the array; decreases length by 1.\n",
    "# O(n) operation"
   ]
  },
  {
   "cell_type": "code",
   "execution_count": 2,
   "id": "99b31257",
   "metadata": {},
   "outputs": [
    {
     "name": "stdout",
     "output_type": "stream",
     "text": [
      "{'length': 1, 'data': {0: 6}}\n"
     ]
    }
   ],
   "source": [
    "arr = MyArray()\n",
    "\n",
    "# Print will display the outputs given by the function calls\n",
    "\n",
    "arr.push(6)\n",
    "print(arr)"
   ]
  },
  {
   "cell_type": "code",
   "execution_count": 3,
   "id": "10d5d828",
   "metadata": {},
   "outputs": [
    {
     "name": "stdout",
     "output_type": "stream",
     "text": [
      "{'length': 2, 'data': {0: 6, 1: 2}}\n"
     ]
    }
   ],
   "source": [
    "arr.push(2)\n",
    "print(arr)"
   ]
  },
  {
   "cell_type": "code",
   "execution_count": 4,
   "id": "08d295f4",
   "metadata": {},
   "outputs": [
    {
     "name": "stdout",
     "output_type": "stream",
     "text": [
      "{'length': 3, 'data': {0: 6, 1: 2, 2: 9}}\n"
     ]
    }
   ],
   "source": [
    "arr.push(9)\n",
    "print(arr)"
   ]
  },
  {
   "cell_type": "code",
   "execution_count": 5,
   "id": "e97385bf",
   "metadata": {},
   "outputs": [
    {
     "name": "stdout",
     "output_type": "stream",
     "text": [
      "{'length': 2, 'data': {0: 6, 1: 2}}\n"
     ]
    }
   ],
   "source": [
    "arr.pop()\n",
    "print(arr)"
   ]
  },
  {
   "cell_type": "code",
   "execution_count": 6,
   "id": "1eea5f99",
   "metadata": {},
   "outputs": [
    {
     "name": "stdout",
     "output_type": "stream",
     "text": [
      "{'length': 5, 'data': {0: 6, 1: 2, 2: 45, 3: 12, 4: 67}}\n"
     ]
    }
   ],
   "source": [
    "arr.push(45)\n",
    "arr.push(12)\n",
    "arr.push(67)\n",
    "\n",
    "print(arr)"
   ]
  },
  {
   "cell_type": "code",
   "execution_count": 7,
   "id": "a4733897",
   "metadata": {},
   "outputs": [
    {
     "name": "stdout",
     "output_type": "stream",
     "text": [
      "{'length': 6, 'data': {0: 6, 1: 2, 2: 45, 3: 10, 4: 12, 5: 67}}\n"
     ]
    }
   ],
   "source": [
    "arr.insert(3,10)\n",
    "\n",
    "print(arr)"
   ]
  },
  {
   "cell_type": "code",
   "execution_count": 8,
   "id": "213699e9",
   "metadata": {},
   "outputs": [
    {
     "name": "stdout",
     "output_type": "stream",
     "text": [
      "{'length': 5, 'data': {0: 6, 1: 2, 2: 45, 3: 10, 4: 67}}\n"
     ]
    }
   ],
   "source": [
    "arr.delete(4)\n",
    "\n",
    "print(arr)"
   ]
  },
  {
   "cell_type": "code",
   "execution_count": 9,
   "id": "86d61bf1",
   "metadata": {},
   "outputs": [
    {
     "name": "stdout",
     "output_type": "stream",
     "text": [
      "2\n"
     ]
    }
   ],
   "source": [
    "print(arr.get(1))"
   ]
  },
  {
   "cell_type": "code",
   "execution_count": 10,
   "id": "ee8e8b18",
   "metadata": {},
   "outputs": [
    {
     "name": "stdout",
     "output_type": "stream",
     "text": [
      "{'length': 5, 'data': {0: 6, 1: 2, 2: 45, 3: 10, 4: 67}}\n"
     ]
    }
   ],
   "source": [
    "print(arr)"
   ]
  }
 ],
 "metadata": {
  "kernelspec": {
   "display_name": "Python 3",
   "language": "python",
   "name": "python3"
  },
  "language_info": {
   "codemirror_mode": {
    "name": "ipython",
    "version": 3
   },
   "file_extension": ".py",
   "mimetype": "text/x-python",
   "name": "python",
   "nbconvert_exporter": "python",
   "pygments_lexer": "ipython3",
   "version": "3.8.8"
  }
 },
 "nbformat": 4,
 "nbformat_minor": 5
}
