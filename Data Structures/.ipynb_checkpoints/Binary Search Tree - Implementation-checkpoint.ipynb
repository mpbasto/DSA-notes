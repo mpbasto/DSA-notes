{
 "cells": [
  {
   "cell_type": "markdown",
   "id": "03074889",
   "metadata": {},
   "source": [
    "A tree is a hierarchical data structure defined as a collection of nodes. They can have zero or more child nodes, as opposed to arrays, linked lists, stacks and queues.\n",
    "The structure of a tree is similar to the one used commonly to organise a family or a company. There's grandpa followed by his children, and each children will be followed by either no kids at all or more children, and so on. The structure of the DOM (Document Object Model) in HTML is a tree, as well."
   ]
  },
  {
   "cell_type": "code",
   "execution_count": 1,
   "id": "19abcf91",
   "metadata": {},
   "outputs": [],
   "source": [
    "# [Binary Trees] - Binary Search Tree"
   ]
  },
  {
   "cell_type": "markdown",
   "id": "4a5d44f2",
   "metadata": {},
   "source": [
    "This is a type of tree where each node can only have either 0, 1 or 2 nodes as children, and each child can only have one parent. Each node has three attributes: root, left_child and right_child.\n",
    "\n",
    "In most cases, the time complexity of operations for a Binary Search Tree is of O(log n), including operations like lookups, insertions and removals. However, in worse cases where the tree is quite unbalanced(vast majority of nodes stored on one side of the tree), it turns itself into a linked list. In this case, the time complexity of operations increase to O(n).\n",
    "\n",
    "\n",
    "The best way to understand these concepts is by creating our own tree. We can start by implementing a Binary Search Tree that will end up unbalanced."
   ]
  },
  {
   "cell_type": "code",
   "execution_count": 2,
   "id": "9c7ee470",
   "metadata": {},
   "outputs": [],
   "source": [
    "class Node():\n",
    "    def __init__(self,data):\n",
    "        self.data = data\n",
    "        self.left = None\n",
    "        self.right = None\n",
    "# Because we need a place to store info about each node (data, and left and right pointers), \n",
    "# we start by creating the Node class\n",
    "# Now, we can start building our BST. \n",
    "# It will have a constructor with root node initialised in None, along with 3 methods: insert, search and remove.\n",
    "\n",
    "class BST():\n",
    "    def __init__(self):\n",
    "        self.root = None\n",
    "        self.nr_nodes = 0\n",
    "        \n",
    "    def insert(self, data):\n",
    "        new_node = Node(data)\n",
    "        if self.root == None:\n",
    "            self.root = new_node\n",
    "            self.nr_nodes += 1\n",
    "            return\n",
    "        else:\n",
    "            current_node = self.root\n",
    "            while(current_node.left != new_node) and (current_node.right != new_node):\n",
    "                if new_node.data > current_node.data:\n",
    "                    if current_node.right == None:\n",
    "                        current_node.right = new_node\n",
    "                    else:\n",
    "                        current_node = current_node.right\n",
    "                elif new_node.data < current_node.data:\n",
    "                    if current_node.left == None:\n",
    "                        current_node.left = new_node\n",
    "                    else:\n",
    "                        current_node = current_node.left\n",
    "            self.nr_nodes += 1\n",
    "            return\n",
    "# The first step in creating insert() is checking if the root node is None. If so, we make it point to the new_node.\n",
    "# If not, a temporary node is created that refers firstly the root node. \n",
    "# After that, the data is compared between both the new_node and the node that the temporary node is referring.\n",
    "# If the data on new_node is greater than the other one, \n",
    "# the method checks if the child node on the right of the temporary node exists and, \n",
    "# if so, updates the child on the right of the temporary node with new_node.\n",
    "# Otherwise, the method will update the temporary node to refer the new_node as the child on the right.\n",
    "# If the data on new_node is less than the data on the temporary node, \n",
    "# the methods performs the same operation as above, only for the child on the left.\n",
    "# On an average case, the time complexity of this operation is of O(log n). On worst case though, it is of O(n).\n",
    "            \n",
    "    def search(self, data):\n",
    "        if self.root == None:\n",
    "            return 'Empty tree.'\n",
    "        else:\n",
    "            current_node = self.root\n",
    "            while True:\n",
    "                if current_node == None:\n",
    "                    return 'Not found.'\n",
    "                if current_node.data == data:\n",
    "                    return 'Found it!'\n",
    "                elif current_node.data > data:\n",
    "                    current_node = current_node.left\n",
    "                elif current_node.data < data:\n",
    "                    current_node = current_node.right\n",
    "# Next up, we create search(). This method operates in the same logic as insert() \n",
    "# to find the node we want to look for.\n",
    "# However, instead of inserting a new node, it will return a message displaying whether or not our node was found.\n",
    "# So, if the node referred by the temporary node contains the same value that we are looking for, \n",
    "# the method will output \"Found it!\".\n",
    "\n",
    "    def remove(self, data):\n",
    "        if self.root == None:\n",
    "            return \"Empty tree.\"\n",
    "        current_node = self.root\n",
    "        parent_node = None\n",
    "# To reach the node we want or the end of our BST, the method needs to traverse it\n",
    "        while current_node != None: \n",
    "            if current_node.data > data:\n",
    "                parent_node = current_node\n",
    "                current_node = current_node.left\n",
    "            elif current_node.data < data:\n",
    "                parent_node = current_node\n",
    "                current_node = current_node.right\n",
    "# If nothing prior occurs, it means the method found a match. So, we check some scenarios:           \n",
    "            else:\n",
    "                if current_node.right == None: # If node has only a child on the left\n",
    "                    if parent_node == None:\n",
    "                        self.root = current_node.left\n",
    "                        return\n",
    "                    else:\n",
    "                        if parent_node.data > current_node.data:\n",
    "                            parent_node.left = current_node.left\n",
    "                            return\n",
    "                        else:\n",
    "                            parent_node.right = current_node.left\n",
    "                            return\n",
    "                elif current_node.left == None: # If node has only a child on the right\n",
    "                    if parent_node == None:\n",
    "                        self.root = current_node.right\n",
    "                        return\n",
    "                    else:\n",
    "                        if parent_node.data > current_node.data:\n",
    "                            parent_node.left = current_node.right\n",
    "                            return\n",
    "                        else:\n",
    "                            parent_node.right = current_node.right\n",
    "                            return\n",
    "                elif current_node.left == None and current_node.right == None: # If node has no children\n",
    "                    if parent_node == None: # Node to be deleted is the root node\n",
    "                        current_node = None\n",
    "                        return\n",
    "                    if parent_node.data > current_node.data:\n",
    "                        parent_node.left = None\n",
    "                        return\n",
    "                    else:\n",
    "                        parent_node.right = None\n",
    "                        return\n",
    "                elif current_node.left != None and current_node.right != None: # If node has both children\n",
    "                    rm_node = current_node.right\n",
    "                    rm_parent_node = current_node.right\n",
    "                    while rm_node.left != None: \n",
    "# Method loops to reach the node that is at the very left end of the child on the right of the current node.\n",
    "                        rm_parent_node = rm_node\n",
    "                        rm_node = rm_node.left\n",
    "                    current_node.data = rm_node.data \n",
    "        # Method copies the value that is going the replace the one removed\n",
    "                    if rm_node == rm_parent_node: \n",
    "# If the node to be deleted is the direct child of the current node on its right side\n",
    "                        current_node.right = rm_node.right\n",
    "                        return\n",
    "                    if rm_node.right == None:  \n",
    "# If the node at the very left end of the child on the right of the current node does not have a child on the right side.\n",
    "                        rm_parent_node.left = None\n",
    "                        return\n",
    "                    else: # If it does, the method connects it to the parent of rm_node.\n",
    "                        rm_parent_node.left = rm_node.right\n",
    "                        return\n",
    "        return 'Not found.'\n",
    "    \n",
    "# At last, we reached the end of remove(). This is the most complicated to build of all 3.\n",
    "# As this one is quite long, I left comments on the steps the method takes to remove a node, \n",
    "# along with all the verifcations it performs during this operation."
   ]
  },
  {
   "cell_type": "markdown",
   "id": "3fbb321d",
   "metadata": {},
   "source": [
    "After creating the BST class, all that is left to do is testing:"
   ]
  },
  {
   "cell_type": "code",
   "execution_count": 3,
   "id": "007b580c",
   "metadata": {},
   "outputs": [
    {
     "name": "stdout",
     "output_type": "stream",
     "text": [
      "<__main__.BST object at 0x7fe589268ee0>\n"
     ]
    }
   ],
   "source": [
    "new_bst = BST()\n",
    "# Used the BST blueprint to build a new object (new_bst) and inserted a few values \n",
    "# to make a considerable-sized tree for the test. \n",
    "\n",
    "new_bst.insert(5)\n",
    "new_bst.insert(3)\n",
    "new_bst.insert(7)\n",
    "new_bst.insert(1)\n",
    "new_bst.insert(13)\n",
    "new_bst.insert(65)\n",
    "new_bst.insert(0)\n",
    "new_bst.insert(10)\n",
    "\n",
    "print(new_bst)"
   ]
  },
  {
   "cell_type": "code",
   "execution_count": 4,
   "id": "37f761a4",
   "metadata": {},
   "outputs": [],
   "source": [
    "# It will look like this:\n",
    "#\n",
    "#                5\n",
    "#            3       7\n",
    "#         1             13\n",
    "#       0           10     65\n",
    "\n",
    "\n",
    "new_bst.remove(13)"
   ]
  },
  {
   "cell_type": "code",
   "execution_count": 5,
   "id": "6cea5247",
   "metadata": {},
   "outputs": [
    {
     "name": "stdout",
     "output_type": "stream",
     "text": [
      "5\n"
     ]
    }
   ],
   "source": [
    "print(new_bst.root.data)"
   ]
  },
  {
   "cell_type": "code",
   "execution_count": 6,
   "id": "63185f66",
   "metadata": {},
   "outputs": [],
   "source": [
    "# \n",
    "#                5\n",
    "#            3       7\n",
    "#         1             65\n",
    "#       0           10   \n",
    "\n",
    "new_bst.remove(5)"
   ]
  },
  {
   "cell_type": "code",
   "execution_count": 7,
   "id": "40be44ce",
   "metadata": {},
   "outputs": [
    {
     "name": "stdout",
     "output_type": "stream",
     "text": [
      "7\n"
     ]
    }
   ],
   "source": [
    "print(new_bst.root.data)"
   ]
  },
  {
   "cell_type": "code",
   "execution_count": 8,
   "id": "f772e12c",
   "metadata": {},
   "outputs": [
    {
     "data": {
      "text/plain": [
       "'Not found.'"
      ]
     },
     "execution_count": 8,
     "metadata": {},
     "output_type": "execute_result"
    }
   ],
   "source": [
    "# \n",
    "#                7\n",
    "#            3       65\n",
    "#         1       10     \n",
    "#       0           \n",
    "\n",
    "\n",
    "new_bst.search(8)"
   ]
  },
  {
   "cell_type": "code",
   "execution_count": 9,
   "id": "4d78af17",
   "metadata": {},
   "outputs": [
    {
     "data": {
      "text/plain": [
       "'Found it!'"
      ]
     },
     "execution_count": 9,
     "metadata": {},
     "output_type": "execute_result"
    }
   ],
   "source": [
    "new_bst.search(1)"
   ]
  },
  {
   "cell_type": "code",
   "execution_count": 10,
   "id": "7fcc9279",
   "metadata": {},
   "outputs": [],
   "source": [
    "new_bst.remove(3)"
   ]
  },
  {
   "cell_type": "code",
   "execution_count": 11,
   "id": "abd509dc",
   "metadata": {},
   "outputs": [
    {
     "name": "stdout",
     "output_type": "stream",
     "text": [
      "7\n"
     ]
    }
   ],
   "source": [
    "print(new_bst.root.data)"
   ]
  },
  {
   "cell_type": "code",
   "execution_count": 12,
   "id": "d3a74575",
   "metadata": {},
   "outputs": [],
   "source": [
    "# \n",
    "#                7\n",
    "#            1       65\n",
    "#         0       10     \n",
    "\n",
    "new_bst.remove(7)"
   ]
  },
  {
   "cell_type": "code",
   "execution_count": 13,
   "id": "f8117e51",
   "metadata": {},
   "outputs": [],
   "source": [
    "# \n",
    "#                10\n",
    "#            1       65\n",
    "#         0    \n",
    "\n",
    "new_bst.remove(1)"
   ]
  },
  {
   "cell_type": "code",
   "execution_count": 14,
   "id": "3c690214",
   "metadata": {},
   "outputs": [],
   "source": [
    "# \n",
    "#                10\n",
    "#            0       65   \n",
    "\n",
    "new_bst.remove(0)\n",
    "new_bst.remove(10)\n",
    "new_bst.remove(65)"
   ]
  },
  {
   "cell_type": "code",
   "execution_count": 15,
   "id": "3066ccb3",
   "metadata": {},
   "outputs": [
    {
     "name": "stdout",
     "output_type": "stream",
     "text": [
      "10\n"
     ]
    }
   ],
   "source": [
    "new_bst.insert(10)\n",
    "print(new_bst.root.data) # 10"
   ]
  },
  {
   "cell_type": "code",
   "execution_count": 16,
   "id": "5577a3bc",
   "metadata": {},
   "outputs": [],
   "source": [
    "new_bst.remove(10)"
   ]
  },
  {
   "cell_type": "code",
   "execution_count": 17,
   "id": "407dd05c",
   "metadata": {},
   "outputs": [
    {
     "data": {
      "text/plain": [
       "'Empty tree.'"
      ]
     },
     "execution_count": 17,
     "metadata": {},
     "output_type": "execute_result"
    }
   ],
   "source": [
    "new_bst.remove(5)"
   ]
  }
 ],
 "metadata": {
  "kernelspec": {
   "display_name": "Python 3 (ipykernel)",
   "language": "python",
   "name": "python3"
  },
  "language_info": {
   "codemirror_mode": {
    "name": "ipython",
    "version": 3
   },
   "file_extension": ".py",
   "mimetype": "text/x-python",
   "name": "python",
   "nbconvert_exporter": "python",
   "pygments_lexer": "ipython3",
   "version": "3.8.8"
  }
 },
 "nbformat": 4,
 "nbformat_minor": 5
}
