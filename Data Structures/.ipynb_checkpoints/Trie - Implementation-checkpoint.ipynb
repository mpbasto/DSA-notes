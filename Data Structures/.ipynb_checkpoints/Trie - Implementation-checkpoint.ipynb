{
 "cells": [
  {
   "cell_type": "markdown",
   "id": "dd1bc2cf",
   "metadata": {},
   "source": [
    "Tries are a tree-type of structure where each node represents a single character of a given string. This makes it a very efficient data structure to retrieve data, for example to show word suggestions as we type along on our smartphone keyboards.\n",
    "Unlike binary trees, a trie can have more than two children, generally equal to the number of letters in the alphabet. Also, each node consists of an \"end_of_word\" variable, which tells us whether it marks the end of a word or not\n",
    "\n",
    "\n",
    "Doing this task using a list or a balanced binary search tree costs O(nm) and O(mlog N) respectively, where \"m\" is the length of the string being searched for. However, the same operation can be done in O(m) time using tries.\n",
    "\n",
    "Here we will implement two of its major operations - insert and search -, which are both of O(m) time complexity."
   ]
  },
  {
   "cell_type": "code",
   "execution_count": 1,
   "id": "a467d0f1",
   "metadata": {},
   "outputs": [],
   "source": [
    "# We start by defining a Trie_node class containing 26 children each initialized to None, and an end_of_word variable to determine whether it marks the end of a word.\n",
    "\n",
    "class TrieNode():\n",
    "    def __init__(self):\n",
    "        self.children = [None]*26\n",
    "        self.is_end_of_word = False"
   ]
  },
  {
   "cell_type": "code",
   "execution_count": 2,
   "id": "ff89b4b7",
   "metadata": {},
   "outputs": [],
   "source": [
    "# Then, we create the Trie class itself, which has a constructor that initializes the trie, and has the insert and search methods too.\n",
    "\n",
    "class Trie():\n",
    "    def __init__(self):\n",
    "        self.root = TrieNode()\n",
    "\n",
    "# To calculate the numerical index of each character in the range of 0-25, we define a private helper method.\n",
    "    def _character_index(self, char):\n",
    "        if char.isupper():\n",
    "            return ord(char) - ord('A')\n",
    "        else:\n",
    "            return ord(char) - ord('a')\n",
    "\n",
    "\n",
    "    def insert(self, string):\n",
    "        pointer = self.root\n",
    "        for character in string:\n",
    "            index = self._character_index(character)\n",
    "            if not pointer.children[index]:\n",
    "                pointer.children[index] = TrieNode()\n",
    "            pointer = pointer.children[index]\n",
    "        pointer.is_end_of_word = True\n",
    "        return\n",
    "    \n",
    "# Above, we created the insert function. It starts by building a pointer which will start at the root node. \n",
    "# Then, for every character in the word to be inserted, the method will check if the character already exists in the trie by matching it with the pointer's children.\n",
    "# If it does, the method will update the pointer to that child of the current node and repeat the process for the next character of the word.\n",
    "# Otherwise, it will initialize a new node at the index of the character that is to be inserted (it was equal to None until now).\n",
    "# After that, the method will update the pointer to refer to this newly created node and repeat the process for the next character.\n",
    "# Once it reach the end of the word, the method will set the \"is_end_of_word\" to True for the node containing the last character.\n",
    "\n",
    "\n",
    "    def search(self, string):\n",
    "        pointer = self.root\n",
    "        for character in string:\n",
    "            index = self._character_index(character)\n",
    "            if not pointer.children[index]:\n",
    "                return False\n",
    "            pointer = pointer.children[index]\n",
    "        return pointer and pointer.is_end_of_word\n",
    "\n",
    "# Finally, for the search method, we will follow the exact same approach.\n",
    "# The only difference is that, this time, instead of creating a new TrieNode when we don't find a character in the Trie, the method will simply return False.\n",
    "# If after the loop terminates, \"is_end_of_word\" equals True and the node isn't equal to None, it means the method found the word."
   ]
  },
  {
   "cell_type": "markdown",
   "id": "7e177be1",
   "metadata": {},
   "source": [
    "Once finished, we initialize a new trie using the newly created Trie class:"
   ]
  },
  {
   "cell_type": "code",
   "execution_count": 3,
   "id": "9b5275d0",
   "metadata": {},
   "outputs": [],
   "source": [
    "new_trie = Trie()\n",
    "\n",
    "# Inserting data into the newly created trie\n",
    "new_trie.insert('Data')\n",
    "new_trie.insert(\"Structures\")\n",
    "new_trie.insert(\"and\")\n",
    "new_trie.insert(\"Algorithms\")"
   ]
  },
  {
   "cell_type": "code",
   "execution_count": 4,
   "id": "155b9ce8",
   "metadata": {},
   "outputs": [
    {
     "name": "stdout",
     "output_type": "stream",
     "text": [
      "<__main__.Trie object at 0x7fd7b05f44f0>\n"
     ]
    }
   ],
   "source": [
    "# Showing its place in memory\n",
    "print(new_trie) "
   ]
  },
  {
   "cell_type": "code",
   "execution_count": 6,
   "id": "ba06c68c",
   "metadata": {},
   "outputs": [
    {
     "name": "stdout",
     "output_type": "stream",
     "text": [
      "True\n"
     ]
    }
   ],
   "source": [
    "# Looking for data using the search method\n",
    "print(new_trie.search(\"and\"))"
   ]
  },
  {
   "cell_type": "code",
   "execution_count": 7,
   "id": "988823ac",
   "metadata": {},
   "outputs": [
    {
     "name": "stdout",
     "output_type": "stream",
     "text": [
      "True\n"
     ]
    }
   ],
   "source": [
    "print(new_trie.search(\"Data\"))"
   ]
  },
  {
   "cell_type": "code",
   "execution_count": 8,
   "id": "1f8d67b1",
   "metadata": {},
   "outputs": [
    {
     "name": "stdout",
     "output_type": "stream",
     "text": [
      "False\n"
     ]
    }
   ],
   "source": [
    "# Returns false if data is not found\n",
    "print(new_trie.search(\"woohoo\"))"
   ]
  },
  {
   "cell_type": "code",
   "execution_count": 10,
   "id": "715caa79",
   "metadata": {},
   "outputs": [
    {
     "name": "stdout",
     "output_type": "stream",
     "text": [
      "True\n"
     ]
    }
   ],
   "source": [
    "print(new_trie.search(\"Structures\"))"
   ]
  }
 ],
 "metadata": {
  "kernelspec": {
   "display_name": "Python 3 (ipykernel)",
   "language": "python",
   "name": "python3"
  },
  "language_info": {
   "codemirror_mode": {
    "name": "ipython",
    "version": 3
   },
   "file_extension": ".py",
   "mimetype": "text/x-python",
   "name": "python",
   "nbconvert_exporter": "python",
   "pygments_lexer": "ipython3",
   "version": "3.8.8"
  }
 },
 "nbformat": 4,
 "nbformat_minor": 5
}
