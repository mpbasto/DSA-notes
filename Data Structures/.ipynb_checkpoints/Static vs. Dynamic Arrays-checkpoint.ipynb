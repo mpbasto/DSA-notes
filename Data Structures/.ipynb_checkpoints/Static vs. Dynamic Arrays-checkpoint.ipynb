{
 "cells": [
  {
   "cell_type": "markdown",
   "id": "12d255f9",
   "metadata": {},
   "source": [
    "- Static or fixed arrays: they're fixed in size upon creation/allocation; number of items/elements held by the array needs to be specified beforehand. This guarantees we can reserve consecutive slots in memory, and that we only use the amount of memory we actually need - no empty items/elements.\n",
    "\n",
    "If the number of items to be added to the static array exceeds the defined size:\n",
    "\n",
    "1. Create a copy of the array large enough to hold current items and new items\n",
    "2. Copy items from original array into new array\n",
    "3. Add the new items into the new array\n",
    "4. Update array pointer to point to new array\n",
    "5. Dispose of the old array"
   ]
  },
  {
   "cell_type": "code",
   "execution_count": 1,
   "id": "580b168b",
   "metadata": {},
   "outputs": [
    {
     "name": "stdout",
     "output_type": "stream",
     "text": [
      "[0, 0, 0, 0, 0]\n",
      "['P', 'P', 'P', 'P', 'P', 'P', 'P', 'P', 'P', 'P']\n"
     ]
    }
   ],
   "source": [
    "arr_num = [0] * 5\n",
    "print(arr_num)\n",
    " \n",
    "arr_str = ['P'] * 10\n",
    "print(arr_str)"
   ]
  },
  {
   "cell_type": "markdown",
   "id": "5553ed84",
   "metadata": {},
   "source": [
    "- Dynamic arrays: they can resize automatically, because they have space reserved for additional items (just in case); this, however, requires empty space to be reserved in memory in anticipation of new elements being added. A good example of a dynamic array in Python is list - no need to specify the size beforehand, and the size automatically adjusts depending on the number of items you append, pop and remove.\n",
    "\n",
    "If the number of items to be added to the dynamic array exceeds the current limit:\n",
    "\n",
    "1. Create a copy of the array, twice the size\n",
    "2. Copy items from original array into new array\n",
    "3. Update array pointer to point to new dynamic array\n",
    "4. Dispose of the old array"
   ]
  },
  {
   "cell_type": "code",
   "execution_count": 6,
   "id": "a947e289",
   "metadata": {},
   "outputs": [
    {
     "name": "stdout",
     "output_type": "stream",
     "text": [
      "['0', 'a', 'c', 'd']\n"
     ]
    }
   ],
   "source": [
    "strings = ['a', 'b', 'c', 'd']\n",
    "\n",
    "strings[2]              # lookup/searching O(1)\n",
    "strings.append('e')     # push O(1), or O(n) if added item larger than capacity\n",
    "strings.pop()           # pop O(1)\n",
    "strings.insert(0, '0')  # insert: O(n). Requires a shift of items up\n",
    "del strings[2]\n",
    "\n",
    "print(strings)"
   ]
  }
 ],
 "metadata": {
  "kernelspec": {
   "display_name": "Python 3",
   "language": "python",
   "name": "python3"
  },
  "language_info": {
   "codemirror_mode": {
    "name": "ipython",
    "version": 3
   },
   "file_extension": ".py",
   "mimetype": "text/x-python",
   "name": "python",
   "nbconvert_exporter": "python",
   "pygments_lexer": "ipython3",
   "version": "3.8.8"
  }
 },
 "nbformat": 4,
 "nbformat_minor": 5
}
