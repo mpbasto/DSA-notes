{
 "cells": [
  {
   "cell_type": "markdown",
   "id": "553b985a",
   "metadata": {},
   "source": [
    "Graphs are complex, non-linear data structures that are characterized by a group of vertices, connected by edges. Every vertex has a value associated with it. For example, if we represent a list of cities using a graph, the vertices would represent the cities. Edges represent the relationship between the vertices in the graph. Edges may or may not have a value associated with them. For example, if we represent a list of cities using a graph, the edges would represent the path between the cities.\n",
    "\n",
    "There are many applications of graphs, from schooling to business, and many operations can be performed with them. Besides visualising data, graphs can be used by social media platforms, for example, to represent different users as vertices and edges to represent the connections between them. As mentioned before, a mapping application can use graphs to represent places and the path (distance) between them."
   ]
  },
  {
   "cell_type": "markdown",
   "id": "47d1c0a5",
   "metadata": {},
   "source": [
    "Graphs are based on three properties:\n",
    "\n",
    "\n",
    "- Weight: they can be weighted or unweighted.\n",
    "\n",
    "- Direction: they can be directed or undirected.\n",
    "\n",
    "- Interconnectivity: they can be cyclic or acyclic."
   ]
  },
  {
   "cell_type": "markdown",
   "id": "276c1258",
   "metadata": {},
   "source": [
    "A graph can be represented in 3 ways: Adjacency List, Adjacency Matrix and Edge List.\n",
    "\n",
    "An Adjacency List stores the nodes with which a particular node is connected to in a linked list or array. All these lists can be stored in a hash table, with the keys being the nodes, and the values being their respective lists. Example, A → [(B, 4), (C, 1)] represents an adjacency list where the vertex A is connected to B (weight 4) and C (weight 1). This works really well for sparse graphs.\n",
    "Adjacency lists have got the advantage when iterating over the edges, as it is more efficient.\n",
    "The edge weight lookup is O(E) - worse case.\n",
    "\n",
    "\n",
    "An Adjacency Matrix is a very simple way to represent a graph. In a weighted graph, the element A[i][j] represents the cost of moving from vertex i to vertex j. In an unweighted graph, the element A[i][j] represents a Boolean value that determines whether a path exists from vertex i to vertex j. If A[i][j] == 0, then no path from vertex i to vertex j exists. If A[i][j] == 1, there is a path from vertex i to vertex j.\n",
    "The space complexity of this data structure is O(V^2).\n",
    "Iterating through the edges takes O(V^2) time.\n",
    "The time complexity of getting an edge weight is O(1).\n",
    "\n",
    "\n",
    "An Edge List represents the graph as an unstructured list of edges. It contains all the pairs of nodes which are connected, and if the graph is weighted, then the weight of each edge is represented as well. \n",
    "They are not widely used because this representation lacks structure, but its representation is extremely simple. Like the Adjacency List, to look up the edge weight on an Edge List, the time complexity is O(E) - worse case.\n",
    "\n",
    "\n",
    "Below, we will build an undirected graph using an Adjacency List:"
   ]
  },
  {
   "cell_type": "code",
   "execution_count": 2,
   "id": "416b3594",
   "metadata": {},
   "outputs": [],
   "source": [
    "class Graph():\n",
    "\n",
    "# The constructior initializes the number of vertices in the graph on zero, and the adjcency list will be an empty dictionary.\n",
    "    def __init__(self):\n",
    "        self.number_of_nodes = 0\n",
    "        self.adjacency_list = {}\n",
    "\n",
    "\n",
    "    def insert_node(self, data):\n",
    "        if data not in self.adjacency_list:\n",
    "            self.adjacency_list[data] = []\n",
    "            self.number_of_nodes += 1\n",
    "            return\n",
    "\n",
    "# We start by implementing the insert node method.\n",
    "# It adds the value of the node as a key in the adjacency list and initializes the value of the key as an empty array.\n",
    "\n",
    "    def insert_edge(self, vertex1, vertex2):\n",
    "        if vertex2 not in self.adjacency_list[vertex1]:\n",
    "            self.adjacency_list[vertex1].append(vertex2)\n",
    "            self.adjacency_list[vertex2].append(vertex1)\n",
    "            return\n",
    "        return \"Edge already exists\"\n",
    "    \n",
    "# Next up, we implement the insert edge method, where we specify two nodes. \n",
    "# Then, between those two nodes, the method will add an edge.\n",
    "# First, the method checks if an edge already exists by checking the adjacency list of either of the two nodes.\n",
    "# If the other node is present, it means the edge already exists.\n",
    "# Otherwise, it inserts the edge by adding the complimentary node in the adjacency list of either node.\n",
    "\n",
    "    def show_connections(self):\n",
    "        for node in self.adjacency_list:\n",
    "            print(f'{node} -->> {\" \".join(map(str, self.adjacency_list[node]))}')\n",
    "\n",
    "# Finally, we implement a custom print method that prints the nodes and their connections."
   ]
  },
  {
   "cell_type": "markdown",
   "id": "b8a8f73a",
   "metadata": {},
   "source": [
    "To test the blueprint we use it to create a new graph:"
   ]
  },
  {
   "cell_type": "code",
   "execution_count": 3,
   "id": "a088dbe5",
   "metadata": {},
   "outputs": [
    {
     "name": "stdout",
     "output_type": "stream",
     "text": [
      "1 -->> 2 3\n",
      "2 -->> 1 3\n",
      "3 -->> 1 2\n"
     ]
    }
   ],
   "source": [
    "# Initializing a new graph\n",
    "new_graph = Graph()\n",
    "\n",
    "# Inserting nodes and edges to the newly created graph\n",
    "new_graph.insert_node(1)\n",
    "new_graph.insert_node(2)\n",
    "new_graph.insert_node(3)\n",
    "new_graph.insert_edge(1,2)\n",
    "new_graph.insert_edge(1,3)\n",
    "new_graph.insert_edge(2,3)\n",
    "\n",
    "# Showing the connections\n",
    "new_graph.show_connections()"
   ]
  },
  {
   "cell_type": "code",
   "execution_count": 6,
   "id": "98a246f4",
   "metadata": {},
   "outputs": [
    {
     "name": "stdout",
     "output_type": "stream",
     "text": [
      "{1: [2, 3], 2: [1, 3], 3: [1, 2]}\n"
     ]
    }
   ],
   "source": [
    "print(new_graph.adjacency_list)"
   ]
  },
  {
   "cell_type": "code",
   "execution_count": 7,
   "id": "01350c1b",
   "metadata": {},
   "outputs": [
    {
     "name": "stdout",
     "output_type": "stream",
     "text": [
      "3\n"
     ]
    }
   ],
   "source": [
    "print(new_graph.number_of_nodes)"
   ]
  }
 ],
 "metadata": {
  "kernelspec": {
   "display_name": "Python 3 (ipykernel)",
   "language": "python",
   "name": "python3"
  },
  "language_info": {
   "codemirror_mode": {
    "name": "ipython",
    "version": 3
   },
   "file_extension": ".py",
   "mimetype": "text/x-python",
   "name": "python",
   "nbconvert_exporter": "python",
   "pygments_lexer": "ipython3",
   "version": "3.8.8"
  }
 },
 "nbformat": 4,
 "nbformat_minor": 5
}
