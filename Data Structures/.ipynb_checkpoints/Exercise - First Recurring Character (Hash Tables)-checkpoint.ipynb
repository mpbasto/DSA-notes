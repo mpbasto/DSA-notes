{
 "cells": [
  {
   "cell_type": "markdown",
   "id": "8168e6d0",
   "metadata": {},
   "source": [
    "    Google Question\n",
    "- Given an array, return the first recurring character\n",
    "\n",
    "Example1 : array = [2,1,4,2,6,5,1,4]\n",
    "- It should return 2\n",
    "\n",
    "Example 2 : array = [2,6,4,6,1,3,8,1,2]\n",
    "- It should return 6"
   ]
  },
  {
   "cell_type": "code",
   "execution_count": 19,
   "id": "38f6bb13",
   "metadata": {},
   "outputs": [
    {
     "name": "stdout",
     "output_type": "stream",
     "text": [
      "2\n",
      "6\n"
     ]
    }
   ],
   "source": [
    "def frc(array):\n",
    "    saver = dict()\n",
    "    for item in array:\n",
    "        if item in saver:\n",
    "            return item\n",
    "        else:\n",
    "            saver[item] = 0\n",
    "    return None\n",
    "\n",
    "# Testing frc function\n",
    "array = [2,1,4,2,6,5,1,4]\n",
    "array2 = [2,6,4,6,1,3,8,1,2]\n",
    "\n",
    "print(frc(array))\n",
    "print(frc(array2))"
   ]
  },
  {
   "cell_type": "markdown",
   "id": "9a0df8ec",
   "metadata": {},
   "source": [
    "Steps taken:\n",
    "\n",
    "1- Create a dictionary to store the items.\n",
    "\n",
    "2- To find the first recurring character, we loop over the array; each item will be stored in the dictionary created above as we go along the loop.\n",
    "\n",
    "3 - Before adding an item to the dictionary, we verify if the item is already there.\n",
    "\n",
    "4 - If so, we return said item and break out of the loop.\n",
    "\n",
    "5 - If not, we add the element to the dictionary and keep looping.\n",
    "\n",
    "6 - When there is nothing else to loop and we could not find a (first) recurring character, the program will return 'None'.\n",
    "\n",
    "\n",
    "The time complexity is O(n), because we only loop through the array once, and the search we do in the dictionary is of O(1) time, since we are essentially implementing a hash table."
   ]
  },
  {
   "cell_type": "markdown",
   "id": "90b5b83e",
   "metadata": {},
   "source": [
    "We can also do the same using nested loops:"
   ]
  },
  {
   "cell_type": "code",
   "execution_count": 20,
   "id": "df44c658",
   "metadata": {},
   "outputs": [
    {
     "name": "stdout",
     "output_type": "stream",
     "text": [
      "2\n",
      "6\n"
     ]
    }
   ],
   "source": [
    "def naive_frc(array):\n",
    "    l = len(array)\n",
    "    i = 0\n",
    "    frc = None\n",
    "    while(i < l):\n",
    "        j = i + 1\n",
    "        while(j < l):\n",
    "            if array[i] == array[j]:\n",
    "                l = j\n",
    "                frc = array[j]\n",
    "                continue\n",
    "            else:\n",
    "                j += 1\n",
    "        i += 1\n",
    "    return frc\n",
    "\n",
    "print(naive_frc(array))\n",
    "print(frc(array2))"
   ]
  },
  {
   "cell_type": "markdown",
   "id": "93292717",
   "metadata": {},
   "source": [
    "\n",
    "This function is going to grab the first item of the array and check it against the rest until if finds a recurring character. If it does not find anything, it will proceed to the second item of the array, do the same and so on until it finds a recurring character.\n",
    "\n",
    "\n",
    "The time complexity is O(n^2) but space complexity is O(1), which is better than the earlier solution."
   ]
  }
 ],
 "metadata": {
  "kernelspec": {
   "display_name": "Python 3",
   "language": "python",
   "name": "python3"
  },
  "language_info": {
   "codemirror_mode": {
    "name": "ipython",
    "version": 3
   },
   "file_extension": ".py",
   "mimetype": "text/x-python",
   "name": "python",
   "nbconvert_exporter": "python",
   "pygments_lexer": "ipython3",
   "version": "3.8.8"
  }
 },
 "nbformat": 4,
 "nbformat_minor": 5
}
