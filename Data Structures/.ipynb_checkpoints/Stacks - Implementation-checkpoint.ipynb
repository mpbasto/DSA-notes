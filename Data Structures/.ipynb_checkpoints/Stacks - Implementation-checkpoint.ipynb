{
 "cells": [
  {
   "cell_type": "markdown",
   "id": "4f17e9e8",
   "metadata": {},
   "source": [
    "Stacks are containers where objects can be inserted and removed following the LIFO principle (Last In, First Out). A stack can only hold elements of the same data type.\n",
    "The main operations (with their time complexities) that can be performed on a stack are as follows:\n",
    " - Push (Insert) -> O(1)\n",
    " - Pop (Remove) -> O(1)\n",
    " - Peek (Retrieve the top element) -> O(1)\n",
    " \n",
    "Stacks can be implemented with the help of linked lists and arrays. Using linked lists, a stack can be implemented as per below:"
   ]
  },
  {
   "cell_type": "code",
   "execution_count": 1,
   "id": "a518cbff",
   "metadata": {},
   "outputs": [],
   "source": [
    "class Node():\n",
    "    def __init__(self, data):\n",
    "        self.data = data\n",
    "        self.next = None\n",
    "# Because linked lists are composed of nodes, we start by creating the Node class, which will contain the data and the pointer to the next node.\n",
    "\n",
    "class Stack():\n",
    "    def __init__(self):\n",
    "        self.top = None\n",
    "        self.bottom = None\n",
    "        self.length = 0\n",
    "# After that, we create the Stack class where the constructor will have the top pointer that will refer to the element at the top of the stack; it will have the variable of length to keep track of its size; and a bottom pointer which will refer to the element at the bottom of the stack.\n",
    "# Then, we create the methods associated with a stack(peek, push and pop):\n",
    "\n",
    "    def peek(self):\n",
    "        if self.top is None:\n",
    "            return None\n",
    "        return self.top.data\n",
    "\n",
    "# This function will retrieve the top element of the stack without removing it.\n",
    "# The time complexity of this action is O(1), because we it only returns what the top pointer is referring to.\n",
    "    \n",
    "    def push(self, data):\n",
    "        new_node = Node(data)\n",
    "        if self.top == None:\n",
    "            self.top = new_node\n",
    "            self.bottom = new_node\n",
    "        else:\n",
    "            new_node.next = self.top\n",
    "            self.top = new_node\n",
    "        self.length += 1\n",
    "# Next up, we create push(), which inserts an element at the top of the stack. Just like peek(), the time complexity of this method is O(1), because it only needs access to the top pointer and doesn't require looping.\n",
    "# If the stack is empty, the method will set both top and bottom pointer to refer the new_node.\n",
    "# If not, the node next to new_node(which was pointing at None) refer to the current top pointer and, only after that, update the top pointer.\n",
    "# At the end, the method updates the stack's length by 1.\n",
    "\n",
    "    def pop(self):\n",
    "        if self.top == None:\n",
    "            print('Oops! This stack is empty.')\n",
    "        else:\n",
    "            self.top = self.top.next\n",
    "            self.length -= 1\n",
    "            if (self.length == 0):\n",
    "                self.bottom = None\n",
    "                return 'Stack is now empty.'\n",
    "# Now, we build pop(), which is going to remove the top element from the stack. The time complexity is also O(1).\n",
    "# If the stack is already empty, the method outputs a message.\n",
    "# Otherwise, it makes the top pointer refer the element that was next to the 'popped' top pointer and decrease the stack's length by 1, ultimately deleting the previous top element.\n",
    "# Also, if there was only one element in the stack and it gets 'popped', the method will set the bottom pointer to 'None' and return a message that the stack is now empty.\n",
    "\n",
    "    def get_stack(self):\n",
    "        if self.top == None:\n",
    "            print('Oops! This stack is empty.')\n",
    "        else:\n",
    "            current_pointer = self.top\n",
    "            while (current_pointer != None):\n",
    "                print(current_pointer.data)\n",
    "                current_pointer = current_pointer.next\n",
    "# Finally, we build a method that will output all the elements in the stack from top to bottom. As this method traverses through the stack, its time complexity will be O(n).\n",
    "# If the stack is empty, the method returns a message."
   ]
  },
  {
   "cell_type": "markdown",
   "id": "ab0fb64f",
   "metadata": {},
   "source": [
    "Now, all that is left to do is test:"
   ]
  },
  {
   "cell_type": "code",
   "execution_count": 2,
   "id": "67342049",
   "metadata": {},
   "outputs": [
    {
     "name": "stdout",
     "output_type": "stream",
     "text": [
      "None\n"
     ]
    }
   ],
   "source": [
    "# Building a stack and ensuring it is empty.\n",
    "new_wall = Stack()\n",
    "\n",
    "print(new_wall.peek())"
   ]
  },
  {
   "cell_type": "code",
   "execution_count": 3,
   "id": "6943dd0c",
   "metadata": {},
   "outputs": [],
   "source": [
    "# Adding elements to the newly created stack.\n",
    "new_wall.push('Blue bricks')\n",
    "new_wall.push('Purple bricks')\n",
    "new_wall.push('Red bricks')"
   ]
  },
  {
   "cell_type": "code",
   "execution_count": 4,
   "id": "86c6cdb1",
   "metadata": {},
   "outputs": [
    {
     "name": "stdout",
     "output_type": "stream",
     "text": [
      "Red bricks\n",
      "Purple bricks\n",
      "Blue bricks\n"
     ]
    }
   ],
   "source": [
    "# Retrieve all elements of stack.\n",
    "new_wall.get_stack()"
   ]
  },
  {
   "cell_type": "code",
   "execution_count": 5,
   "id": "28aabe2f",
   "metadata": {},
   "outputs": [
    {
     "name": "stdout",
     "output_type": "stream",
     "text": [
      "<__main__.Node object at 0x7fb750fb9c10>\n"
     ]
    }
   ],
   "source": [
    "# Location of the top element of stack in memory. \n",
    "print(new_wall.top)"
   ]
  },
  {
   "cell_type": "code",
   "execution_count": 6,
   "id": "1ea1f53f",
   "metadata": {},
   "outputs": [
    {
     "name": "stdout",
     "output_type": "stream",
     "text": [
      "Red bricks\n"
     ]
    }
   ],
   "source": [
    "# Retrieving data of the top element of stack.\n",
    "print(new_wall.top.data)"
   ]
  },
  {
   "cell_type": "code",
   "execution_count": 7,
   "id": "b06f764f",
   "metadata": {},
   "outputs": [
    {
     "name": "stdout",
     "output_type": "stream",
     "text": [
      "<__main__.Node object at 0x7fb750fb9be0>\n"
     ]
    }
   ],
   "source": [
    "# Location of the bottom element of stack in memory.\n",
    "print(new_wall.bottom)"
   ]
  },
  {
   "cell_type": "code",
   "execution_count": 8,
   "id": "073c3aae",
   "metadata": {},
   "outputs": [
    {
     "name": "stdout",
     "output_type": "stream",
     "text": [
      "Blue bricks\n"
     ]
    }
   ],
   "source": [
    "# Retrieving data of the bottom element of stack.\n",
    "print(new_wall.bottom.data)"
   ]
  },
  {
   "cell_type": "code",
   "execution_count": 9,
   "id": "fdceef5a",
   "metadata": {},
   "outputs": [
    {
     "name": "stdout",
     "output_type": "stream",
     "text": [
      "<__main__.Stack object at 0x7fb750fb99a0>\n"
     ]
    }
   ],
   "source": [
    "# Location of stack in memory.\n",
    "print(new_wall)"
   ]
  },
  {
   "cell_type": "code",
   "execution_count": 10,
   "id": "c6fa8307",
   "metadata": {},
   "outputs": [],
   "source": [
    "# Removing top element of stack.\n",
    "new_wall.pop()"
   ]
  },
  {
   "cell_type": "code",
   "execution_count": 11,
   "id": "dacb6091",
   "metadata": {},
   "outputs": [
    {
     "name": "stdout",
     "output_type": "stream",
     "text": [
      "Purple bricks\n",
      "Blue bricks\n"
     ]
    }
   ],
   "source": [
    "# Retrieve all current elements of stack.\n",
    "new_wall.get_stack()"
   ]
  },
  {
   "cell_type": "code",
   "execution_count": 12,
   "id": "6d90565e",
   "metadata": {},
   "outputs": [
    {
     "name": "stdout",
     "output_type": "stream",
     "text": [
      "Purple bricks\n"
     ]
    }
   ],
   "source": [
    "# Looking at the elements on top of the stack.\n",
    "print(new_wall.peek())"
   ]
  },
  {
   "cell_type": "code",
   "execution_count": 13,
   "id": "734395c4",
   "metadata": {},
   "outputs": [
    {
     "name": "stdout",
     "output_type": "stream",
     "text": [
      "Oops! This stack is empty.\n"
     ]
    }
   ],
   "source": [
    "# Emptying the stack and retrieving it.\n",
    "new_wall.pop()\n",
    "new_wall.pop()\n",
    "new_wall.get_stack()"
   ]
  }
 ],
 "metadata": {
  "kernelspec": {
   "display_name": "Python 3",
   "language": "python",
   "name": "python3"
  },
  "language_info": {
   "codemirror_mode": {
    "name": "ipython",
    "version": 3
   },
   "file_extension": ".py",
   "mimetype": "text/x-python",
   "name": "python",
   "nbconvert_exporter": "python",
   "pygments_lexer": "ipython3",
   "version": "3.8.8"
  }
 },
 "nbformat": 4,
 "nbformat_minor": 5
}
