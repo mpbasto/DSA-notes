{
 "cells": [
  {
   "cell_type": "markdown",
   "id": "6459fe90",
   "metadata": {},
   "source": [
    "In Python, it is easy to build stacks because we have got Lists built-in, which are arrays in their essence. Lists also have methods like append() and pop() that do the same as push() and pop() in stacks. Therefore, implementing stacks in Python is quite simple."
   ]
  },
  {
   "cell_type": "code",
   "execution_count": 4,
   "id": "139d1aca",
   "metadata": {},
   "outputs": [],
   "source": [
    "class Stack():\n",
    "    def __init__(self):\n",
    "        self.array = []\n",
    "# We start building our Stack by creating a constructor that will contain an empty list(array).\n",
    "# There is no need to create length, because this comes built-in with Lists.\n",
    "\n",
    "    def peek(self):\n",
    "        return self.array[len(self.array) - 1]\n",
    "# The peek method accesses the last element of the array(top element of the stack) by using the built-in length functionality of Lists.\n",
    "\n",
    "    def push(self, data):\n",
    "        self.array.append(data)\n",
    "        return\n",
    "# The push method inserts an element at the end of the list(top of the stack) using append(), built-in with Lists.\n",
    "\n",
    "    def pop(self):\n",
    "        if len(self.array) != 0:\n",
    "            self.array.pop()\n",
    "            return\n",
    "        else:\n",
    "            print('Oops! This stack is empty.')\n",
    "            return\n",
    "# The pop method will remove the last element of the list(top element of the stack) using pop(), built-in with Lists.\n",
    "# They time complexity of this operation for the last element of the list is O(1).\n",
    "\n",
    "    def get_stack(self):\n",
    "        for i in range(len(self.array) -1, -1, -1):\n",
    "            print(self.array[i])\n",
    "        return\n",
    "# As stacks follow the LIFO principle (Last In-First Out), the method needs to output the last item of the list first.\n",
    "# This will require loop traversing through the list, which will affect the time complexity of this operation: O(n)."
   ]
  },
  {
   "cell_type": "markdown",
   "id": "41ae2a37",
   "metadata": {},
   "source": [
    "All that is left to do now is testing our blueprint:"
   ]
  },
  {
   "cell_type": "code",
   "execution_count": 5,
   "id": "692a887c",
   "metadata": {},
   "outputs": [
    {
     "name": "stdout",
     "output_type": "stream",
     "text": [
      "The Tale of Peter Rabbit\n",
      "The Gruffalo\n",
      "Harry Potter and the Philosopher's Stone\n",
      "The Little Prince\n"
     ]
    }
   ],
   "source": [
    "my_library = Stack()\n",
    "\n",
    "my_library.push(\"The Little Prince\")\n",
    "my_library.push(\"Harry Potter and the Philosopher's Stone\")\n",
    "my_library.push(\"The Gruffalo\")\n",
    "my_library.push(\"The Tale of Peter Rabbit\")\n",
    "\n",
    "my_library.get_stack()"
   ]
  },
  {
   "cell_type": "markdown",
   "id": "9b0066e7",
   "metadata": {},
   "source": [
    "Here we can see the LIFO principle in action. While the first item added to our stack was 'The Little Prince', the first one to be output was 'The Tale of Peter Rabbit')."
   ]
  },
  {
   "cell_type": "code",
   "execution_count": 6,
   "id": "0d2d62a6",
   "metadata": {},
   "outputs": [
    {
     "name": "stdout",
     "output_type": "stream",
     "text": [
      "Harry Potter and the Philosopher's Stone\n",
      "The Little Prince\n"
     ]
    }
   ],
   "source": [
    "my_library.pop()\n",
    "my_library.pop()\n",
    "\n",
    "my_library.get_stack()"
   ]
  },
  {
   "cell_type": "code",
   "execution_count": 9,
   "id": "85264712",
   "metadata": {},
   "outputs": [
    {
     "name": "stdout",
     "output_type": "stream",
     "text": [
      "Harry Potter and the Philosopher's Stone\n"
     ]
    }
   ],
   "source": [
    "print(my_library.peek())"
   ]
  },
  {
   "cell_type": "code",
   "execution_count": 10,
   "id": "ad20358f",
   "metadata": {},
   "outputs": [
    {
     "name": "stdout",
     "output_type": "stream",
     "text": [
      "{'array': ['The Little Prince', \"Harry Potter and the Philosopher's Stone\"]}\n"
     ]
    }
   ],
   "source": [
    "print(my_library.__dict__)"
   ]
  }
 ],
 "metadata": {
  "kernelspec": {
   "display_name": "Python 3",
   "language": "python",
   "name": "python3"
  },
  "language_info": {
   "codemirror_mode": {
    "name": "ipython",
    "version": 3
   },
   "file_extension": ".py",
   "mimetype": "text/x-python",
   "name": "python",
   "nbconvert_exporter": "python",
   "pygments_lexer": "ipython3",
   "version": "3.8.8"
  }
 },
 "nbformat": 4,
 "nbformat_minor": 5
}
