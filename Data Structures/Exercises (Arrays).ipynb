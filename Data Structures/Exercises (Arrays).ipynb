{
 "cells": [
  {
   "cell_type": "markdown",
   "id": "ad2053b0",
   "metadata": {},
   "source": [
    "Create a function that reverses a str. So 'Hi My Name is Bea!' should be '!aeB si emaN yM iH'"
   ]
  },
  {
   "cell_type": "code",
   "execution_count": 2,
   "id": "40a2f8a2",
   "metadata": {},
   "outputs": [
    {
     "name": "stdout",
     "output_type": "stream",
     "text": [
      "!aeB si emaN yM iH\n"
     ]
    }
   ],
   "source": [
    "def iterative_reverse(string):  \n",
    "  reversed_string = '' #Here we use a 2nd str to store the reversed version.\n",
    "  if isinstance(string, str) == False:\n",
    "    return f'Hmm that\\'s not good! I can only accept strings, this is a {type(string)}.'\n",
    "  else:\n",
    "    for i in range(len(string)):\n",
    "      reversed_string = reversed_string + string[len(string) - i - 1]\n",
    "    return reversed_string\n",
    "# Time and Space complexity = O(n)\n",
    "\n",
    "\n",
    "a = 'Hi My Name is Bea!'\n",
    "print(iterative_reverse(a))\n"
   ]
  },
  {
   "cell_type": "markdown",
   "id": "166bcc20",
   "metadata": {},
   "source": [
    "Given 2 sorted arrays, merge them into one and keep it sorted.\n",
    "\n",
    "- arr1 = [0, 3, 4, 31]\n",
    "- arr2 = [4, 6, 30]"
   ]
  },
  {
   "cell_type": "markdown",
   "id": "4aba0a12",
   "metadata": {},
   "source": [
    " First, we create a loop that runs until we reach the end of either arrays. When the loop ends, we must know which array ended first so that the items of the other array can be appended to the new array. \n",
    " To pinpoint it, we create a flag variable. If we reach the end of 1st array first, then the remaining elements of 2nd array are added to the new array and vice-versa.\n",
    " "
   ]
  },
  {
   "cell_type": "code",
   "execution_count": 4,
   "id": "8dd6b470",
   "metadata": {},
   "outputs": [],
   "source": [
    "def mergenator(array1, array2):\n",
    "    new_arr = []\n",
    "    flag = 0\n",
    "    first_array_index = second_array_index = 0\n",
    "    while not (first_array_index >= len(array1) or second_array_index >= len(array2)): \n",
    "            if array1[first_array_index] <= array2[second_array_index]:\n",
    "                new_arr.append(array1[first_array_index])\n",
    "                first_array_index += 1\n",
    "            else:\n",
    "                new_arr.append(array2[second_array_index])\n",
    "                second_array_index += 1\n",
    "            if first_array_index==len(array1):\n",
    "                flag = 1\n",
    "    if flag == 1: \n",
    "            for item in array2[second_array_index:]:\n",
    "                  new_arr.append(item)\n",
    "    else: \n",
    "        for item in array1[first_array_index:]:\n",
    "              new_arr.append(item)\n",
    "\n",
    "    return new_arr"
   ]
  },
  {
   "cell_type": "code",
   "execution_count": 5,
   "id": "7ca73d96",
   "metadata": {},
   "outputs": [
    {
     "name": "stdout",
     "output_type": "stream",
     "text": [
      "[0, 3, 4, 4, 6, 30, 31]\n"
     ]
    }
   ],
   "source": [
    "arr1 = [0, 3, 4, 31]\n",
    "arr2 = [4, 6, 30]\n",
    "\n",
    "print(mergenator(arr1, arr2))"
   ]
  },
  {
   "cell_type": "code",
   "execution_count": 6,
   "id": "0005f708",
   "metadata": {},
   "outputs": [
    {
     "name": "stdout",
     "output_type": "stream",
     "text": [
      "[1, 2, 3, 4, 5, 6, 7, 8, 10, 12]\n"
     ]
    }
   ],
   "source": [
    "array1 = [1,3,5,7]\n",
    "array2 = [2,4,6,8,10,12]\n",
    "\n",
    "print(mergenator(array1, array2))"
   ]
  }
 ],
 "metadata": {
  "kernelspec": {
   "display_name": "Python 3",
   "language": "python",
   "name": "python3"
  },
  "language_info": {
   "codemirror_mode": {
    "name": "ipython",
    "version": 3
   },
   "file_extension": ".py",
   "mimetype": "text/x-python",
   "name": "python",
   "nbconvert_exporter": "python",
   "pygments_lexer": "ipython3",
   "version": "3.8.8"
  }
 },
 "nbformat": 4,
 "nbformat_minor": 5
}
