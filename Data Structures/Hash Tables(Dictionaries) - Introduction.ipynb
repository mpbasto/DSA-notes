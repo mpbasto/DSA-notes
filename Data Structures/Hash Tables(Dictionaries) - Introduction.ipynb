{
 "cells": [
  {
   "cell_type": "markdown",
   "id": "3131812f",
   "metadata": {},
   "source": [
    "Hash tables are data structures that store data as a collection of key-value pairs. In Python these are implemented as dictionaries. Hash tables generally provide very fast(O(1)) lookups, insertions and deletions, so you they can be found wherever high performance searching is a requirement. While in arrays, elements are referenced by their integer indexes, in hash tables (or dictionaries) elements/values are referenced by their keys, which can be of any data type.\n",
    "\n",
    "The position of the data within the array is determined by applying a hashing algorithm (aka hash function) to the key - a process called hashing. There are different types of hash functions (http://www.miraclesalad.com/webtools/md5.php | i.e: MD5, SHA1, SHA256) which are used to convert the keys into hashes that are unique for each key.\n",
    "\n",
    "The process of hashing is similar to having a box with slots and then assign hashes to those slots. They can store the  key and value pair associated with the hashes, or in a data structure within the slot (like, linked lists) that would work with them."
   ]
  },
  {
   "cell_type": "markdown",
   "id": "696154ec",
   "metadata": {},
   "source": [
    "In general, the lookup, insert and delete operations are quite quick, in the order of O(1), but in some cases, several keys can lead to the same slot (called a collision), which slightly increases the time complexity. However, collisions can be resolved with various techniques, such as linear probing (open addressing)."
   ]
  },
  {
   "cell_type": "code",
   "execution_count": 1,
   "id": "da37007a",
   "metadata": {},
   "outputs": [
    {
     "name": "stdout",
     "output_type": "stream",
     "text": [
      "{'one': 234, 'two': 'hello', 'three': 'world', 'four': 9, 'five': 5}\n"
     ]
    }
   ],
   "source": [
    "dictionary = dict()\n",
    "dictionary = {'one':234, 'two': 'hello', 'three': 'world', 'four':9, 'five':5}\n",
    "print(dictionary)"
   ]
  },
  {
   "cell_type": "code",
   "execution_count": 2,
   "id": "664dec7b",
   "metadata": {},
   "outputs": [
    {
     "name": "stdout",
     "output_type": "stream",
     "text": [
      "dict_keys(['one', 'two', 'three', 'four', 'five'])\n"
     ]
    }
   ],
   "source": [
    "print(dictionary.keys())"
   ]
  },
  {
   "cell_type": "code",
   "execution_count": 3,
   "id": "19f323dd",
   "metadata": {},
   "outputs": [
    {
     "name": "stdout",
     "output_type": "stream",
     "text": [
      "dict_values([234, 'hello', 'world', 9, 5])\n"
     ]
    }
   ],
   "source": [
    "print(dictionary.values())"
   ]
  },
  {
   "cell_type": "code",
   "execution_count": 4,
   "id": "d1c1ba17",
   "metadata": {},
   "outputs": [
    {
     "name": "stdout",
     "output_type": "stream",
     "text": [
      "dict_items([('one', 234), ('two', 'hello'), ('three', 'world'), ('four', 9), ('five', 5)])\n"
     ]
    }
   ],
   "source": [
    "print(dictionary.items())"
   ]
  },
  {
   "cell_type": "code",
   "execution_count": 5,
   "id": "5d55f08b",
   "metadata": {},
   "outputs": [
    {
     "name": "stdout",
     "output_type": "stream",
     "text": [
      "234\n"
     ]
    }
   ],
   "source": [
    "print(dictionary['one']) # Accessing a value by its key in O(1) time"
   ]
  },
  {
   "cell_type": "code",
   "execution_count": 6,
   "id": "bcc3fd5e",
   "metadata": {},
   "outputs": [
    {
     "name": "stdout",
     "output_type": "stream",
     "text": [
      "{'one': 234, 'two': 'hello', 'three': 'world', 'four': 9, 'five': 5, 'six': 'Porto'}\n"
     ]
    }
   ],
   "source": [
    "dictionary['six'] = 'Porto' # Inserting the value 'Porto' for the key 'six' in O(1) time.\n",
    "print(dictionary)"
   ]
  }
 ],
 "metadata": {
  "kernelspec": {
   "display_name": "Python 3",
   "language": "python",
   "name": "python3"
  },
  "language_info": {
   "codemirror_mode": {
    "name": "ipython",
    "version": 3
   },
   "file_extension": ".py",
   "mimetype": "text/x-python",
   "name": "python",
   "nbconvert_exporter": "python",
   "pygments_lexer": "ipython3",
   "version": "3.8.8"
  }
 },
 "nbformat": 4,
 "nbformat_minor": 5
}
