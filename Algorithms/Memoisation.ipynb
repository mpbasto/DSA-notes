{
 "cells": [
  {
   "cell_type": "markdown",
   "id": "eea43091-729b-4fd8-a93a-94b28e3f4a2b",
   "metadata": {},
   "source": [
    "Memoisation is a specific type of caching that is used as a software optimization technique. It remembers the output of a function based on the input(and other parameters in some cases), and stores it for later use.\n",
    "As soon as we have a cached result, there is no need to re-run the memoized function for the same set of inputs. Instead, we can just fetch the cached result and return it right away.\n",
    "\n",
    "This algorithm is often used when dealing with expensive code, which is generally code that takes a long time to run or uses a lot of memory."
   ]
  },
  {
   "cell_type": "markdown",
   "id": "de9ba659-e78a-4b2f-9f65-4e3be17c342d",
   "metadata": {},
   "source": [
    "In Python, we can implement memoisation as a decorator, which is a function that takes another function as an input and has a function as its output."
   ]
  },
  {
   "cell_type": "code",
   "execution_count": 1,
   "id": "4165fb6c-3b77-4255-95a3-28a5263ddf7e",
   "metadata": {},
   "outputs": [],
   "source": [
    "def memoise(func):\n",
    "    cache = dict()\n",
    "\n",
    "    def memoised_func(*args):\n",
    "        if args in cache:\n",
    "            return cache[args]\n",
    "        result = func(*args)\n",
    "        cache[args] = result\n",
    "        return result\n",
    "\n",
    "    return memoised_func"
   ]
  },
  {
   "cell_type": "markdown",
   "id": "b5c4d4d4-9f42-49ed-b41d-f3397bcbc7df",
   "metadata": {},
   "source": [
    "The 'memoise' decorator takes a function and returns a wrapped version of the same function that implements the caching logic ('memoised_func').\n",
    "In the implementation above, we use a dictionary as a way to store our cache, because it is faster to use a key to look up a value in Python using this type of container.\n",
    "\n",
    "To summarise, we check if the parameters are already in the cache whenever the decorated function gets called. If so, the cached result is returned instead of being re-computed. If the result isn’t in the cache, it will update the cache to save some time in the future. Therefore, we first compute the missing result, store it in the cache, and then return it to the caller."
   ]
  },
  {
   "cell_type": "markdown",
   "id": "563e3561-df7c-4700-a36d-fa062c7e8ffd",
   "metadata": {},
   "source": [
    "Let's put our implementation to practice with a simple example function that calculates the square of a number:"
   ]
  },
  {
   "cell_type": "code",
   "execution_count": 2,
   "id": "e341d560-e84f-46b0-8b82-ebe0bd09d5a2",
   "metadata": {},
   "outputs": [],
   "source": [
    "import time, random\n",
    "\n",
    "times = []\n",
    "def squaring(num):\n",
    "    return num ** 2\n",
    "\n",
    "# Generating array of size 100 with random ints between 1 and 10 inclusive\n",
    "array = [random.randint(1,10) for x in range(1000000)]\n",
    "\n",
    "t1 = time.time()\n",
    "for i in range(len(array)):\n",
    "    squaring(array[i])\n",
    "t2 = time.time()\n",
    "times.append(t2-t1)"
   ]
  },
  {
   "cell_type": "code",
   "execution_count": 3,
   "id": "fe3fc03d-3de7-42be-b0d1-d2c63158dace",
   "metadata": {},
   "outputs": [
    {
     "name": "stdout",
     "output_type": "stream",
     "text": [
      "Total times of operation:\n",
      " - Without memoisation: 0.28479886054992676\n"
     ]
    }
   ],
   "source": [
    "print(f'Total times of operation:\\n - Without memoisation: {times[0]}')"
   ]
  },
  {
   "cell_type": "code",
   "execution_count": 4,
   "id": "73118d81-dc03-4cd0-bec3-e02fde169bd2",
   "metadata": {},
   "outputs": [],
   "source": [
    "cache = dict()\n",
    "def memoise_squaring(num):\n",
    "    if num in cache:\n",
    "        return cache[num]\n",
    "    else:\n",
    "        cache[num] = num ** 2\n",
    "        return cache[num]\n",
    "\n",
    "\n",
    "t1 = time.time()\n",
    "for i in range(len(array)):\n",
    "    memoise_squaring(array[i])\n",
    "t2 = time.time()\n",
    "times.append(t2-t1)"
   ]
  },
  {
   "cell_type": "code",
   "execution_count": 5,
   "id": "c9edaaf5-d5e6-416e-8cbb-7bf1c0697e95",
   "metadata": {},
   "outputs": [
    {
     "name": "stdout",
     "output_type": "stream",
     "text": [
      "Here is our cache: {3: 9, 9: 81, 8: 64, 6: 36, 4: 16, 10: 100, 2: 4, 1: 1, 5: 25, 7: 49}\n",
      "\n",
      "Total times of operation:\n",
      " - Without memoisation: 0.28479886054992676\n",
      " - With memoisation: 0.2030010223388672\n"
     ]
    }
   ],
   "source": [
    "print(f'Here is our cache: {cache}\\n')\n",
    "print(f'Total times of operation:\\n - Without memoisation: {times[0]}\\n - With memoisation: {times[1]}')"
   ]
  },
  {
   "cell_type": "raw",
   "id": "0846c852-57bd-4662-bb75-0197f4d515b9",
   "metadata": {},
   "source": []
  },
  {
   "cell_type": "markdown",
   "id": "6ca13c30-4813-4551-b8bd-6c663dd4b634",
   "metadata": {},
   "source": [
    "There is also a module called \"functools\" which has a method that allows us to use memoisation called 'lrucache()':"
   ]
  },
  {
   "cell_type": "code",
   "execution_count": 6,
   "id": "240c69ac-e9b2-4fc6-ac22-63e6499810cb",
   "metadata": {},
   "outputs": [
    {
     "name": "stdout",
     "output_type": "stream",
     "text": [
      "Here is our cache information:\n",
      " CacheInfo(hits=999990, misses=10, maxsize=10000, currsize=10)\n"
     ]
    }
   ],
   "source": [
    "from functools import lru_cache\n",
    "\n",
    "@lru_cache(maxsize=10000)\n",
    "def square_me(num):\n",
    "    return  num ** 2\n",
    "\n",
    "t1 = time.time()\n",
    "for i in range(len(array)):\n",
    "    square_me(array[i])\n",
    "t2 = time.time()\n",
    "times.append(t2-t1)\n",
    "\n",
    "print(f'Here is our cache information:\\n {square_me.cache_info()}')"
   ]
  },
  {
   "cell_type": "code",
   "execution_count": 7,
   "id": "0a211668-e9c4-4c39-8fa7-445d573834b1",
   "metadata": {},
   "outputs": [
    {
     "name": "stdout",
     "output_type": "stream",
     "text": [
      "Total times of operation:\n",
      " Without memoisation: 0.28479886054992676\n",
      " With memoisation: 0.2030010223388672\n",
      " Using lru_cache: 0.15029001235961914\n"
     ]
    }
   ],
   "source": [
    "print(f'Total times of operation:\\n Without memoisation: {times[0]}\\n With memoisation: {times[1]}\\n Using lru_cache: {times[2]}')"
   ]
  }
 ],
 "metadata": {
  "kernelspec": {
   "display_name": "Python 3 (ipykernel)",
   "language": "python",
   "name": "python3"
  },
  "language_info": {
   "codemirror_mode": {
    "name": "ipython",
    "version": 3
   },
   "file_extension": ".py",
   "mimetype": "text/x-python",
   "name": "python",
   "nbconvert_exporter": "python",
   "pygments_lexer": "ipython3",
   "version": "3.8.8"
  }
 },
 "nbformat": 4,
 "nbformat_minor": 5
}
