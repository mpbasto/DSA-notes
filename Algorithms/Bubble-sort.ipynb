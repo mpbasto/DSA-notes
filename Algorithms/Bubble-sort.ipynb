{
 "cells": [
  {
   "cell_type": "markdown",
   "id": "80976afe-7e7b-41a4-ba3c-e07c1b92be05",
   "metadata": {},
   "source": [
    "Bubble Sort compares all the element one by one and sort them based on their values. If the given array has to be sorted in ascending order, then bubble sort will start by comparing the first element of the array with the second element, if the first element is greater than the second element, it will swap both the elements, and then move on to compare the second and the third element, and so on. This way, after every pass, the largest element reaches to the end of the array.\n",
    "\n",
    "The time complexity of Bubble Sort in Worst and Average cases is O(n^2), whereas in Best case it's O(n)."
   ]
  },
  {
   "cell_type": "code",
   "execution_count": 27,
   "id": "f38391ab-58c4-4a61-a611-7dc605cceb68",
   "metadata": {},
   "outputs": [],
   "source": [
    "def bubble_sort(data):\n",
    "    count = 0\n",
    "    for i in range(len(data)-1): \n",
    "        print(data)\n",
    "        for j in range(len(data)-i-1): \n",
    "# In every iteration of the outer loop, one number gets sorted. \n",
    "# So the inner loop will run only for the unsorted part\n",
    "            count += 1\n",
    "            if data[j] > data[j+1]: \n",
    "# If two adjacent elements are in the wrong order, they get swapped.\n",
    "                data[j], data[j+1] = data[j+1], data[j]\n",
    " \n",
    "    return (f'\\nSorted array: {data} \\nNumber of comparisons = {count}')"
   ]
  },
  {
   "cell_type": "code",
   "execution_count": 28,
   "id": "b47af14a-221d-4705-abd7-cb4641d3526c",
   "metadata": {},
   "outputs": [
    {
     "name": "stdout",
     "output_type": "stream",
     "text": [
      "[19, 13, 6, 2, 18, 8]\n",
      "[13, 6, 2, 18, 8, 19]\n",
      "[6, 2, 13, 8, 18, 19]\n",
      "[2, 6, 8, 13, 18, 19]\n",
      "[2, 6, 8, 13, 18, 19]\n",
      "\n",
      "Sorted array: [2, 6, 8, 13, 18, 19] \n",
      "Number of comparisons = 15\n"
     ]
    }
   ],
   "source": [
    "new_list = [19, 13, 6, 2, 18, 8]\n",
    "\n",
    "print(bubble_sort(new_list))"
   ]
  },
  {
   "cell_type": "raw",
   "id": "7b17348f-cc4d-4b64-a489-fdf61265a5bb",
   "metadata": {},
   "source": []
  },
  {
   "cell_type": "markdown",
   "id": "fb38880b-d0f3-4262-b617-d8dfba15f386",
   "metadata": {},
   "source": [
    "We can optimize the bubble sorting implementation, by adding a boolean variable to keep track of the number of swaps performed during an iteration. If somewhere through the loops the array becomes completely sorted, the function won't have to do unnecessary comparisons thanks to this boolean variable:"
   ]
  },
  {
   "cell_type": "code",
   "execution_count": 29,
   "id": "aa07bbd7-e82d-4965-9751-7353dfdc51f9",
   "metadata": {},
   "outputs": [],
   "source": [
    "def opt_bubble_sort(data):\n",
    "    count = 0\n",
    "    for i in range(len(data) - 1):\n",
    "        swap = False\n",
    "        print(data)\n",
    "        for j in range(len(data) - i - 1):\n",
    "            count += 1\n",
    "            if data[j] > data[j+1]:\n",
    "                data[j], data[j+1] = data[j+1], data[j]\n",
    "                swap = True\n",
    "        if swap==False:\n",
    "            return (f'\\nSorted array:{data} \\nNumber of comparisons = {count}')\n",
    "    return (f'\\nSorted array:{data} \\nNumber of comparisons = {count}')"
   ]
  },
  {
   "cell_type": "code",
   "execution_count": 30,
   "id": "f8447e68-2422-485b-97c3-7e7c3c57be20",
   "metadata": {},
   "outputs": [
    {
     "name": "stdout",
     "output_type": "stream",
     "text": [
      "[5, 9, 3, 10, 45, 2, 0]\n",
      "[5, 3, 9, 10, 2, 0, 45]\n",
      "[3, 5, 9, 2, 0, 10, 45]\n",
      "[3, 5, 2, 0, 9, 10, 45]\n",
      "[3, 2, 0, 5, 9, 10, 45]\n",
      "[2, 0, 3, 5, 9, 10, 45]\n",
      "\n",
      "Sorted array:[0, 2, 3, 5, 9, 10, 45] \n",
      "Number of comparisons = 21\n"
     ]
    }
   ],
   "source": [
    "new_data = [5,9,3,10,45,2,0]\n",
    "print(opt_bubble_sort(new_data))"
   ]
  },
  {
   "cell_type": "code",
   "execution_count": 31,
   "id": "4483e003-f5a6-40da-8d3b-0ccac8b9cb23",
   "metadata": {},
   "outputs": [
    {
     "name": "stdout",
     "output_type": "stream",
     "text": [
      "[5, 6, 7, 8, 9]\n",
      "\n",
      "Sorted array:[5, 6, 7, 8, 9] \n",
      "Number of comparisons = 4\n"
     ]
    }
   ],
   "source": [
    "nearly_sorted = [5,6,7,8,9]\n",
    "print(opt_bubble_sort(nearly_sorted))"
   ]
  }
 ],
 "metadata": {
  "kernelspec": {
   "display_name": "Python 3 (ipykernel)",
   "language": "python",
   "name": "python3"
  },
  "language_info": {
   "codemirror_mode": {
    "name": "ipython",
    "version": 3
   },
   "file_extension": ".py",
   "mimetype": "text/x-python",
   "name": "python",
   "nbconvert_exporter": "python",
   "pygments_lexer": "ipython3",
   "version": "3.8.8"
  }
 },
 "nbformat": 4,
 "nbformat_minor": 5
}
