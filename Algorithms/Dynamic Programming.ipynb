{
 "cells": [
  {
   "cell_type": "markdown",
   "id": "8cf38804-b34a-491c-86cd-68bc0aad2ca1",
   "metadata": {},
   "source": [
    "Dynamic Programming is an algorithmic technique, developed by Richard Bellman. It solves problems by recursively breaking them down into simpler subproblems, and storing the solutions to each of these sub-problems in an array(or similar data structure) so each sub-problem is only calculated once."
   ]
  },
  {
   "cell_type": "markdown",
   "id": "38cff63b-615b-4a68-b471-85888df9a328",
   "metadata": {},
   "source": [
    "Observe the following equation as an example:\n",
    "\n",
    "5 + 4 + 3 + 2"
   ]
  },
  {
   "cell_type": "markdown",
   "id": "7633ae82-948d-4260-bf28-354cbcdaefde",
   "metadata": {},
   "source": [
    "It can be broken down into:\n",
    "\n",
    "5 + 4 and 3 + 2"
   ]
  },
  {
   "cell_type": "markdown",
   "id": "ad27e31a-2ad5-4c0c-9a64-db600c5683ef",
   "metadata": {},
   "source": [
    "When we solve those two smaller equations, it becomes easier to resolve the initial equation:\n",
    "\n",
    "5 + 4 = 9\n",
    "\n",
    "3 + 2 = 5\n",
    "\n",
    "9 + 5 = 14"
   ]
  },
  {
   "cell_type": "markdown",
   "id": "1312e0a5-acba-4940-946c-fdfe47bacfa1",
   "metadata": {},
   "source": [
    "This simple example demonstrates the principles of Dynamic Programming. The importance of this technique becomes clearer as we add more and more numbers to our equation example:\n",
    "\n",
    "10 + 10 + 5 + 4 + 3 + 2 + 10 + 10"
   ]
  },
  {
   "cell_type": "markdown",
   "id": "31d49fea-d9ae-40f7-b347-7a09f1dc028c",
   "metadata": {},
   "source": [
    "On the first ocurrence of '10 + 10', we solve it: '10 + 10 = 20'. However, when we come across its second ocurrence, we do not work it out again, because we already solved it earlier and we know its solution is 20."
   ]
  },
  {
   "cell_type": "markdown",
   "id": "4df1e1b2-ea29-4726-8393-f5c80992c5c3",
   "metadata": {},
   "source": [
    "The same thought process occurs in Dynamic Programming. It stores the solution to the problem so we do not need to recalculate it every time we encounter it. This act is called Memoisation. "
   ]
  }
 ],
 "metadata": {
  "kernelspec": {
   "display_name": "Python 3 (ipykernel)",
   "language": "python",
   "name": "python3"
  },
  "language_info": {
   "codemirror_mode": {
    "name": "ipython",
    "version": 3
   },
   "file_extension": ".py",
   "mimetype": "text/x-python",
   "name": "python",
   "nbconvert_exporter": "python",
   "pygments_lexer": "ipython3",
   "version": "3.8.8"
  }
 },
 "nbformat": 4,
 "nbformat_minor": 5
}
