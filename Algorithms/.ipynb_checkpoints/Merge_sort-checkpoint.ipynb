{
 "cells": [
  {
   "cell_type": "markdown",
   "id": "73d50926-0e11-4014-bafc-ad60042f8791",
   "metadata": {},
   "source": [
    "Merge Sort implements a \"divide and conquer\" method, so it will break an array into two roughly equal parts. If the array has an odd number of items, one of those \"halves\" is larger than the other by one item.\n",
    "The sub-arrays are divided into halves over and over again, until we end up with arrays that have only one item each.\n",
    "Then, we combine two of these \"one-item\" arrays into a pair, sorting them in the process. These sorted pairs merge into \"four-item\" arrays and so on, until you end up with the initial array, but sorted.\n",
    "\n",
    "Its main advantage is the reliable runtime of the algorithm and its efficiency when sorting large arrays. However, the additional memory that Merge Sort uses to store the temporary copies of arrays before merging them is its main disadvantage.\n",
    "\n",
    "The time complexity for this operations is of O(n log n), and space complexity is of O(n).\n"
   ]
  },
  {
   "cell_type": "code",
   "execution_count": 2,
   "id": "851c74aa-3484-4282-a5f3-d765dec38bd6",
   "metadata": {},
   "outputs": [],
   "source": [
    "count = 0\n",
    "\n",
    "\n",
    "def merge(left, right):\n",
    "    l = len(left)\n",
    "    r = len(right)\n",
    "    left_index = 0\n",
    "    right_index = 0\n",
    "    sorted_array = []\n",
    "    while (left_index < l and right_index < r):\n",
    "        global count\n",
    "        count += 1\n",
    "        if left[left_index] < right[right_index]:\n",
    "            sorted_array.append(left[left_index])\n",
    "            left_index += 1\n",
    "        else:\n",
    "            sorted_array.append(right[right_index])\n",
    "            right_index += 1\n",
    "    print(sorted_array + left[left_index:] + right[right_index:])\n",
    "    return sorted_array + left[left_index:] + right[right_index:]\n",
    "\n",
    "def merge_sort(array):\n",
    "    if len(array) == 1:\n",
    "        return array\n",
    "    else:\n",
    "        mid = len(array)//2\n",
    "        left_array = array[:mid]\n",
    "        right_array = array[mid:]\n",
    "        print(f'Left : {left_array}')\n",
    "        print(f'Right : {right_array}\\n')\n",
    "        return merge(merge_sort(left_array),merge_sort(right_array))\n",
    "\n"
   ]
  },
  {
   "cell_type": "code",
   "execution_count": 3,
   "id": "8746304d-da02-4801-9eb2-c9907d83035c",
   "metadata": {},
   "outputs": [
    {
     "name": "stdout",
     "output_type": "stream",
     "text": [
      "Left : [5, 9, 3]\n",
      "Right : [10, 45, 2, 0]\n",
      "\n",
      "Left : [5]\n",
      "Right : [9, 3]\n",
      "\n",
      "Left : [9]\n",
      "Right : [3]\n",
      "\n",
      "[3, 9]\n",
      "[3, 5, 9]\n",
      "Left : [10, 45]\n",
      "Right : [2, 0]\n",
      "\n",
      "Left : [10]\n",
      "Right : [45]\n",
      "\n",
      "[10, 45]\n",
      "Left : [2]\n",
      "Right : [0]\n",
      "\n",
      "[0, 2]\n",
      "[0, 2, 10, 45]\n",
      "[0, 2, 3, 5, 9, 10, 45]\n",
      "[0, 2, 3, 5, 9, 10, 45]\n",
      "Number of comparisons: 12\n"
     ]
    }
   ],
   "source": [
    "array = [5,9,3,10,45,2,0]\n",
    "print(merge_sort(array))\n",
    "print(f'Number of comparisons: {count}')"
   ]
  },
  {
   "cell_type": "code",
   "execution_count": 4,
   "id": "d86abace-9c38-41f9-a9b7-78985e5586e4",
   "metadata": {},
   "outputs": [
    {
     "name": "stdout",
     "output_type": "stream",
     "text": [
      "Left : [5, 6]\n",
      "Right : [7, 8, 9]\n",
      "\n",
      "Left : [5]\n",
      "Right : [6]\n",
      "\n",
      "[5, 6]\n",
      "Left : [7]\n",
      "Right : [8, 9]\n",
      "\n",
      "Left : [8]\n",
      "Right : [9]\n",
      "\n",
      "[8, 9]\n",
      "[7, 8, 9]\n",
      "[5, 6, 7, 8, 9]\n",
      "[5, 6, 7, 8, 9]\n",
      "Number of comparisons: 17\n"
     ]
    }
   ],
   "source": [
    "sorted_array = [5,6,7,8,9]\n",
    "print(merge_sort(sorted_array))\n",
    "print(f'Number of comparisons: {count}')"
   ]
  },
  {
   "cell_type": "code",
   "execution_count": 5,
   "id": "9df36536-cf8a-4f69-9f33-a34ec47559be",
   "metadata": {},
   "outputs": [
    {
     "name": "stdout",
     "output_type": "stream",
     "text": [
      "Left : [9, 8, 7, 6, 5, 4, 3, 2, 1, 0]\n",
      "Right : [-1, -2, -3, -4, -5, -6, -7, -8, -9, -10]\n",
      "\n",
      "Left : [9, 8, 7, 6, 5]\n",
      "Right : [4, 3, 2, 1, 0]\n",
      "\n",
      "Left : [9, 8]\n",
      "Right : [7, 6, 5]\n",
      "\n",
      "Left : [9]\n",
      "Right : [8]\n",
      "\n",
      "[8, 9]\n",
      "Left : [7]\n",
      "Right : [6, 5]\n",
      "\n",
      "Left : [6]\n",
      "Right : [5]\n",
      "\n",
      "[5, 6]\n",
      "[5, 6, 7]\n",
      "[5, 6, 7, 8, 9]\n",
      "Left : [4, 3]\n",
      "Right : [2, 1, 0]\n",
      "\n",
      "Left : [4]\n",
      "Right : [3]\n",
      "\n",
      "[3, 4]\n",
      "Left : [2]\n",
      "Right : [1, 0]\n",
      "\n",
      "Left : [1]\n",
      "Right : [0]\n",
      "\n",
      "[0, 1]\n",
      "[0, 1, 2]\n",
      "[0, 1, 2, 3, 4]\n",
      "[0, 1, 2, 3, 4, 5, 6, 7, 8, 9]\n",
      "Left : [-1, -2, -3, -4, -5]\n",
      "Right : [-6, -7, -8, -9, -10]\n",
      "\n",
      "Left : [-1, -2]\n",
      "Right : [-3, -4, -5]\n",
      "\n",
      "Left : [-1]\n",
      "Right : [-2]\n",
      "\n",
      "[-2, -1]\n",
      "Left : [-3]\n",
      "Right : [-4, -5]\n",
      "\n",
      "Left : [-4]\n",
      "Right : [-5]\n",
      "\n",
      "[-5, -4]\n",
      "[-5, -4, -3]\n",
      "[-5, -4, -3, -2, -1]\n",
      "Left : [-6, -7]\n",
      "Right : [-8, -9, -10]\n",
      "\n",
      "Left : [-6]\n",
      "Right : [-7]\n",
      "\n",
      "[-7, -6]\n",
      "Left : [-8]\n",
      "Right : [-9, -10]\n",
      "\n",
      "Left : [-9]\n",
      "Right : [-10]\n",
      "\n",
      "[-10, -9]\n",
      "[-10, -9, -8]\n",
      "[-10, -9, -8, -7, -6]\n",
      "[-10, -9, -8, -7, -6, -5, -4, -3, -2, -1]\n",
      "[-10, -9, -8, -7, -6, -5, -4, -3, -2, -1, 0, 1, 2, 3, 4, 5, 6, 7, 8, 9]\n",
      "[-10, -9, -8, -7, -6, -5, -4, -3, -2, -1, 0, 1, 2, 3, 4, 5, 6, 7, 8, 9]\n",
      "Number of comparisons: 65\n"
     ]
    }
   ],
   "source": [
    "reverse_sorted_array = [9,8,7,6,5,4,3,2,1,0,-1,-2,-3,-4,-5,-6,-7,-8,-9,-10]\n",
    "print(merge_sort(reverse_sorted_array))\n",
    "print(f'Number of comparisons: {count}')"
   ]
  }
 ],
 "metadata": {
  "kernelspec": {
   "display_name": "Python 3 (ipykernel)",
   "language": "python",
   "name": "python3"
  },
  "language_info": {
   "codemirror_mode": {
    "name": "ipython",
    "version": 3
   },
   "file_extension": ".py",
   "mimetype": "text/x-python",
   "name": "python",
   "nbconvert_exporter": "python",
   "pygments_lexer": "ipython3",
   "version": "3.8.8"
  }
 },
 "nbformat": 4,
 "nbformat_minor": 5
}
