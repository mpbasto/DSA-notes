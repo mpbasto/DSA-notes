{
 "cells": [
  {
   "cell_type": "markdown",
   "id": "20646ba7",
   "metadata": {},
   "source": [
    "Recursion is the process in which a function calls itself and repeats its behaviour until a condition is met to return a result. These functions are called recursive functions due to their operations.\n",
    "\n",
    "All recursive functions share a common structure made up of two parts: base condition and recursive case. While the base condition is false, the function will keep placing execution contexts on top of the stack until we have a “stack overflow”. A stack overflow is when we run out of memory to hold items in the stack. When the base condition is true, the function returns a result and stops executing itself."
   ]
  },
  {
   "cell_type": "markdown",
   "id": "105861b3",
   "metadata": {},
   "source": [
    "A good application of recursion is when we want to retrieve a factorial number. The factorial number is defined as the product of all positive integers less than or equal to its argument. \n",
    "\n",
    "This process can be done using a recursive function, but also with an iterative function. The first function below is an iterative function that finds our factorial number, let's say 5!."
   ]
  },
  {
   "cell_type": "code",
   "execution_count": 3,
   "id": "5f6c661a",
   "metadata": {},
   "outputs": [],
   "source": [
    "def iterative_fact(num):\n",
    "    x = 1\n",
    "    for i in range(1, num + 1):\n",
    "        x = x * i\n",
    "    return x"
   ]
  },
  {
   "cell_type": "code",
   "execution_count": 4,
   "id": "aa30df56",
   "metadata": {},
   "outputs": [
    {
     "name": "stdout",
     "output_type": "stream",
     "text": [
      "120\n"
     ]
    }
   ],
   "source": [
    "# Now let's retrieve our 5!\n",
    "\n",
    "print(iterative_fact(5))"
   ]
  },
  {
   "cell_type": "markdown",
   "id": "a92b3dc1",
   "metadata": {},
   "source": [
    "The function below is a recursive function that finds our 5!."
   ]
  },
  {
   "cell_type": "code",
   "execution_count": 5,
   "id": "96f715ad",
   "metadata": {},
   "outputs": [],
   "source": [
    "def recursive_fact(num):\n",
    "    if num <= 1:\n",
    "        return 1\n",
    "    else:\n",
    "        return num * recursive_fact(num-1)"
   ]
  },
  {
   "cell_type": "code",
   "execution_count": 6,
   "id": "63681135",
   "metadata": {},
   "outputs": [
    {
     "name": "stdout",
     "output_type": "stream",
     "text": [
      "120\n"
     ]
    }
   ],
   "source": [
    "# Now let's retrieve our 5!\n",
    "\n",
    "print(recursive_fact(5))"
   ]
  },
  {
   "cell_type": "markdown",
   "id": "fad1286e",
   "metadata": {},
   "source": [
    "The time complexity of these two functions is O(n)."
   ]
  }
 ],
 "metadata": {
  "kernelspec": {
   "display_name": "Python 3 (ipykernel)",
   "language": "python",
   "name": "python3"
  },
  "language_info": {
   "codemirror_mode": {
    "name": "ipython",
    "version": 3
   },
   "file_extension": ".py",
   "mimetype": "text/x-python",
   "name": "python",
   "nbconvert_exporter": "python",
   "pygments_lexer": "ipython3",
   "version": "3.8.8"
  }
 },
 "nbformat": 4,
 "nbformat_minor": 5
}
