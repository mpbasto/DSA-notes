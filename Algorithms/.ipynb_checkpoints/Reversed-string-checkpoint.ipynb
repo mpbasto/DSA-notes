{
 "cells": [
  {
   "cell_type": "markdown",
   "id": "5bd4f245-1c0b-405d-8edb-38cb00e6ec8b",
   "metadata": {},
   "source": [
    "Reverse a given string using recursion. Do the same using iteration.\n",
    "\n",
    "We start by the recursive solution:"
   ]
  },
  {
   "cell_type": "code",
   "execution_count": 8,
   "id": "869aaa3e-fea3-4f4e-b34f-12154bae8251",
   "metadata": {},
   "outputs": [],
   "source": [
    "def reversed_rec(string):\n",
    "    print(string)\n",
    "    if len(string) == 0:\n",
    "        return string\n",
    "    else:\n",
    "        return reversed_rec(string[1:]) + string[0]"
   ]
  },
  {
   "cell_type": "code",
   "execution_count": 22,
   "id": "86c5bfc0-364d-4810-8fab-0999c1dc2f44",
   "metadata": {},
   "outputs": [
    {
     "name": "stdout",
     "output_type": "stream",
     "text": [
      "Run, you fool!\n",
      "un, you fool!\n",
      "n, you fool!\n",
      ", you fool!\n",
      " you fool!\n",
      "you fool!\n",
      "ou fool!\n",
      "u fool!\n",
      " fool!\n",
      "fool!\n",
      "ool!\n",
      "ol!\n",
      "l!\n",
      "!\n",
      "\n",
      "!loof uoy ,nuR\n"
     ]
    }
   ],
   "source": [
    "print(reversed_rec('Run, you fool!'))"
   ]
  },
  {
   "cell_type": "raw",
   "id": "90820d0c-8cbe-4a4c-a45b-977065d7a56c",
   "metadata": {},
   "source": []
  },
  {
   "cell_type": "markdown",
   "id": "cd69caae-9568-42ac-aba9-d1a8b9db9d4d",
   "metadata": {},
   "source": [
    "As we are going to create a second string to store the reversed version on the iterative solution, the time and Space complexity of this function will be of O(n):"
   ]
  },
  {
   "cell_type": "code",
   "execution_count": 20,
   "id": "abd9f901-e23b-4282-80da-81d22fff130e",
   "metadata": {},
   "outputs": [],
   "source": [
    "def reversed_ite(string):\n",
    "    reversed_string = ''\n",
    "    for i in range(len(string)):\n",
    "        reversed_string = reversed_string + string[len(string)-i-1]\n",
    "    return reversed_string"
   ]
  },
  {
   "cell_type": "code",
   "execution_count": 23,
   "id": "b6bd6f29-1a2a-4749-a4ce-aed147ce36f5",
   "metadata": {},
   "outputs": [
    {
     "name": "stdout",
     "output_type": "stream",
     "text": [
      "!loof uoy ,nuR\n"
     ]
    }
   ],
   "source": [
    "print(reversed_ite('Run, you fool!'))"
   ]
  }
 ],
 "metadata": {
  "kernelspec": {
   "display_name": "Python 3 (ipykernel)",
   "language": "python",
   "name": "python3"
  },
  "language_info": {
   "codemirror_mode": {
    "name": "ipython",
    "version": 3
   },
   "file_extension": ".py",
   "mimetype": "text/x-python",
   "name": "python",
   "nbconvert_exporter": "python",
   "pygments_lexer": "ipython3",
   "version": "3.8.8"
  }
 },
 "nbformat": 4,
 "nbformat_minor": 5
}
