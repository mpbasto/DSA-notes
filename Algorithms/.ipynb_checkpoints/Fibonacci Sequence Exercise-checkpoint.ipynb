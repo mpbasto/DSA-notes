{
 "cells": [
  {
   "cell_type": "markdown",
   "id": "6fcdb5dc-1296-47b8-922b-e1f72a31ed68",
   "metadata": {},
   "source": [
    "Implement the Fibonacci Sequence using Dynamic Programming"
   ]
  },
  {
   "cell_type": "code",
   "execution_count": 1,
   "id": "0847c6dc-ad3b-482a-8269-ead695fe0259",
   "metadata": {},
   "outputs": [],
   "source": [
    "import time\n",
    "calcs = 0\n",
    "def fibonacci(num):\n",
    "    global calcs\n",
    "    calcs += 1\n",
    "    if num < 2:\n",
    "        return num\n",
    "    return fibonacci(num - 1) + fibonacci (num - 2)"
   ]
  },
  {
   "cell_type": "code",
   "execution_count": 2,
   "id": "14b628e9-1e03-4bb8-8cfa-8c92e6382420",
   "metadata": {},
   "outputs": [],
   "source": [
    "# With Dynamic Programming\n",
    "\n",
    "cache = dict()\n",
    "calculations = 0\n",
    "def dynamic_fib(num):\n",
    "    global calculations\n",
    "    calculations += 1    \n",
    "    if num in cache:\n",
    "        return cache[num]\n",
    "    else:\n",
    "        if num < 2:\n",
    "            return num\n",
    "        else:\n",
    "            cache[num] = dynamic_fib(num - 1) + dynamic_fib(num - 2)\n",
    "            return cache[num]"
   ]
  },
  {
   "cell_type": "code",
   "execution_count": 3,
   "id": "b36d0cbb-3623-43f4-928d-0ad4bbdfb624",
   "metadata": {},
   "outputs": [
    {
     "name": "stdout",
     "output_type": "stream",
     "text": [
      "Output: 832040\n",
      "Total time of operation for : 0.39928603172302246\n",
      "Total of calculations: 2692537\n",
      "\n"
     ]
    }
   ],
   "source": [
    "# Testing implementation and comparing times \n",
    "\n",
    "t1 = time.time()\n",
    "print('Output:', fibonacci(30))\n",
    "t2 = time.time()\n",
    "total_time = t2-t1\n",
    "print(f'Total time of operation for : {total_time}\\nTotal of calculations: {calcs}\\n')"
   ]
  },
  {
   "cell_type": "code",
   "execution_count": 4,
   "id": "4e347445-285a-4ad6-8469-92211362d77c",
   "metadata": {},
   "outputs": [
    {
     "name": "stdout",
     "output_type": "stream",
     "text": [
      "Output: 832040\n",
      "Total time of operation: 0.0006668567657470703\n",
      "Total of calculations: 59\n",
      "\n"
     ]
    }
   ],
   "source": [
    "t1 = time.time()\n",
    "print('Output:', dynamic_fib(30))\n",
    "t2 = time.time()\n",
    "total_time = t2-t1\n",
    "print(f'Total time of operation: {total_time}\\nTotal of calculations: {calculations}\\n')"
   ]
  }
 ],
 "metadata": {
  "kernelspec": {
   "display_name": "Python 3 (ipykernel)",
   "language": "python",
   "name": "python3"
  },
  "language_info": {
   "codemirror_mode": {
    "name": "ipython",
    "version": 3
   },
   "file_extension": ".py",
   "mimetype": "text/x-python",
   "name": "python",
   "nbconvert_exporter": "python",
   "pygments_lexer": "ipython3",
   "version": "3.8.8"
  }
 },
 "nbformat": 4,
 "nbformat_minor": 5
}
