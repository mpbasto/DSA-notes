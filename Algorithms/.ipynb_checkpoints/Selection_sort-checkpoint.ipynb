{
 "cells": [
  {
   "cell_type": "markdown",
   "id": "4402442c-c9b4-41be-acf8-0402cf09a9f7",
   "metadata": {},
   "source": [
    "Selection sort breaks the input list in two parts: the sorted part which initially is empty, and the unsorted part which initially contains the list of all elements. The algorithm then selects the minimum value of the whole unsorted file, swaps it with the first unsorted value, and increases the sorted part by one.\n",
    "\n",
    "The time complexity of selection sort is O(n^2) in all cases.\n",
    "\n",
    "The selection sort is best used when you want to:\n",
    "\n",
    "- Sort a small list of items in ascending order;\n",
    "- The cost of swapping values is insignificant;\n",
    "- To make sure that all the values in the list have been checked.\n",
    "\n",
    "\n",
    "Selection sort performs very well on small lists(already sorted or nearly sorted items) and does not require a lot of space for its operations.\n",
    "\n",
    "However, the number of iterations made during the sorting is n-squared, where n is the total number of elements in the list, so it will perform poorly when working on bigger lists."
   ]
  },
  {
   "cell_type": "code",
   "execution_count": 25,
   "id": "59c5a9a1-723f-438f-be68-ef4e18440755",
   "metadata": {},
   "outputs": [],
   "source": [
    "def selection_sort(array):\n",
    "    count = 0\n",
    "    for i in range(len(array)-1): # A)\n",
    "        print(array)\n",
    "        minimum = array[i] # B)\n",
    "        minimum_index = i\n",
    "        for j in range(i+1,len(array)): # C)\n",
    "            count += 1\n",
    "            if array[j] < minimum: \n",
    "# D)\n",
    "                minimum = array[j]\n",
    "                minimum_index = j\n",
    "        if minimum_index != i: \n",
    "# E)\n",
    "            array[minimum_index], array[i] = array[i], array[minimum_index]\n",
    "    return (f'\\nSorted array:{array} \\nNumber of comparisons = {count}\\n')"
   ]
  },
  {
   "cell_type": "code",
   "execution_count": 26,
   "id": "88b440d7-30d9-4ef8-8f84-4d64150539c6",
   "metadata": {},
   "outputs": [
    {
     "name": "stdout",
     "output_type": "stream",
     "text": [
      "[-2, 45, 0, 11, -9]\n",
      "[-9, 45, 0, 11, -2]\n",
      "[-9, -2, 0, 11, 45]\n",
      "[-9, -2, 0, 11, 45]\n",
      "\n",
      "Sorted array:[-9, -2, 0, 11, 45] \n",
      "Number of comparisons = 10\n",
      "\n"
     ]
    }
   ],
   "source": [
    "data = [-2, 45, 0, 11, -9]\n",
    "print(selection_sort(data))"
   ]
  },
  {
   "cell_type": "markdown",
   "id": "a73eebe5-ffea-4b12-8ab1-ffaa3c0405d6",
   "metadata": {},
   "source": [
    "Here is a brief explanation of the implementation above:\n",
    "\n",
    "A) It is -1, because when only 1 item remains, the array will be sorted already;\n",
    "\n",
    "B) On the first loop, we set the minimum element to be the ith element, and the minimum index to be the ith index;\n",
    "\n",
    "C) Then, we check the array from the i+1th element to the end of its length;\n",
    "\n",
    "D) If it finds an item that is smaller than the minimum element, it reassign the minimum element and the minimum index;\n",
    "\n",
    "E) If minimum index changes, then it swaps that item with the ith element."
   ]
  }
 ],
 "metadata": {
  "kernelspec": {
   "display_name": "Python 3 (ipykernel)",
   "language": "python",
   "name": "python3"
  },
  "language_info": {
   "codemirror_mode": {
    "name": "ipython",
    "version": 3
   },
   "file_extension": ".py",
   "mimetype": "text/x-python",
   "name": "python",
   "nbconvert_exporter": "python",
   "pygments_lexer": "ipython3",
   "version": "3.8.8"
  }
 },
 "nbformat": 4,
 "nbformat_minor": 5
}
