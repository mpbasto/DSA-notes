{
 "cells": [
  {
   "cell_type": "markdown",
   "id": "fa8a5bdd-aaa2-4e12-94bb-8bbe79a1e6d7",
   "metadata": {},
   "source": [
    "Depth First Search(DFS) is another traversal algorithm, where we go to the depths of the tree/graph until we can't go further, go back up and expand other nodes. This algorithm generally uses a stack to keep track of visited nodes. As the last node seen is the next one to be visited, the rest is stored to be visited later.\n",
    "\n",
    "\n",
    "There are three types of DFS: \n",
    "- Pre-order - traverses the root node first, then the left and right subtrees respectively(NLR);\n",
    "- In-order - traverses the left subtree, then all the way to the root node and finishes by traversing the right subtree(LNR);\n",
    "- Post-order - traverses the left subtree, then moves to the right subtree and, finally, traverses the root node(LRN);\n",
    "\n",
    "Just like in BFS, we will need a Binary Search Tree to implement all three types, so we will use the one we coded previously:"
   ]
  },
  {
   "cell_type": "code",
   "execution_count": 12,
   "id": "076e95fe-3376-42bc-adc4-4581a66b91b2",
   "metadata": {},
   "outputs": [],
   "source": [
    "class Node():\n",
    "    def __init__(self,data):\n",
    "        self.data = data\n",
    "        self.left = None\n",
    "        self.right = None\n",
    "\n",
    "class BST():\n",
    "    def __init__(self):\n",
    "        self.root = None\n",
    "        self.nr_nodes = 0\n",
    "        \n",
    "    def insert(self, data):\n",
    "        new_node = Node(data)\n",
    "        if self.root == None:\n",
    "            self.root = new_node\n",
    "            self.nr_nodes += 1\n",
    "            return\n",
    "        else:\n",
    "            current_node = self.root\n",
    "            while(current_node.left != new_node) and (current_node.right != new_node):\n",
    "                if new_node.data > current_node.data:\n",
    "                    if current_node.right == None:\n",
    "                        current_node.right = new_node\n",
    "                    else:\n",
    "                        current_node = current_node.right\n",
    "                elif new_node.data < current_node.data:\n",
    "                    if current_node.left == None:\n",
    "                        current_node.left = new_node\n",
    "                    else:\n",
    "                        current_node = current_node.left\n",
    "            self.nr_nodes += 1\n",
    "            return\n",
    "            \n",
    "    def search(self, data):\n",
    "        if self.root == None:\n",
    "            return 'Empty tree.'\n",
    "        else:\n",
    "            current_node = self.root\n",
    "            while True:\n",
    "                if current_node == None:\n",
    "                    return 'Not found.'\n",
    "                if current_node.data == data:\n",
    "                    return 'Found it!'\n",
    "                elif current_node.data > data:\n",
    "                    current_node = current_node.left\n",
    "                elif current_node.data < data:\n",
    "                    current_node = current_node.right\n",
    "\n",
    "    def remove(self, data):\n",
    "        if self.root == None:\n",
    "            return \"Empty tree.\"\n",
    "        current_node = self.root\n",
    "        parent_node = None\n",
    "\n",
    "        while current_node != None: \n",
    "            if current_node.data > data:\n",
    "                parent_node = current_node\n",
    "                current_node = current_node.left\n",
    "            elif current_node.data < data:\n",
    "                parent_node = current_node\n",
    "                current_node = current_node.right\n",
    "            else:\n",
    "                if current_node.right == None:\n",
    "                    if parent_node == None:\n",
    "                        self.root = current_node.left\n",
    "                        return\n",
    "                    else:\n",
    "                        if parent_node.data > current_node.data:\n",
    "                            parent_node.left = current_node.left\n",
    "                            return\n",
    "                        else:\n",
    "                            parent_node.right = current_node.left\n",
    "                            return\n",
    "                elif current_node.left == None:\n",
    "                    if parent_node == None:\n",
    "                        self.root = current_node.right\n",
    "                        return\n",
    "                    else:\n",
    "                        if parent_node.data > current_node.data:\n",
    "                            parent_node.left = current_node.right\n",
    "                            return\n",
    "                        else:\n",
    "                            parent_node.right = current_node.right\n",
    "                            return\n",
    "                elif current_node.left == None and current_node.right == None:\n",
    "                    if parent_node == None: \n",
    "                        current_node = None\n",
    "                        return\n",
    "                    if parent_node.data > current_node.data:\n",
    "                        parent_node.left = None\n",
    "                        return\n",
    "                    else:\n",
    "                        parent_node.right = None\n",
    "                        return\n",
    "                elif current_node.left != None and current_node.right != None:\n",
    "                    rm_node = current_node.right\n",
    "                    rm_parent_node = current_node.right\n",
    "                    while rm_node.left != None: \n",
    "                        rm_parent_node = rm_node\n",
    "                        rm_node = rm_node.left\n",
    "                    current_node.data = rm_node.data\n",
    "                    if rm_node == rm_parent_node:\n",
    "                        current_node.right = rm_node.right\n",
    "                        return\n",
    "                    if rm_node.right == None:  \n",
    "                        rm_parent_node.left = None\n",
    "                        return\n",
    "                    else:\n",
    "                        rm_parent_node.left = rm_node.right\n",
    "                        return\n",
    "        return 'Not found.'\n",
    "    \n",
    "    # Implementing the three types of DFS Traversals\n",
    "    def DFS_Inorder(self):\n",
    "        if self.root is None:   # If the tree is empty when we the run BFS function\n",
    "            return 'Oops! Tree is empty.'\n",
    "        else:\n",
    "            return traverseInorder(self.root, [])\n",
    "\n",
    "    def DFS_Preorder(self):\n",
    "        if self.root is None:   # If the tree is empty when we the run BFS function\n",
    "            return 'Oops! Tree is empty.'\n",
    "        else:\n",
    "            return traversePreorder(self.root, [])\n",
    "\n",
    "    def DFS_Postorder(self):\n",
    "        if self.root is None:   # If the tree is empty when we the run BFS function\n",
    "            return 'Oops! Tree is empty.'\n",
    "        else:\n",
    "            return traversePostorder(self.root, [])\n",
    "\n",
    "\n",
    "# Creating functions outside class that describe DFS Traversals above\n",
    "def traverseInorder(node, DFS_list):\n",
    "    if node.left:\n",
    "        traverseInorder(node.left, DFS_list)\n",
    "    DFS_list.append(node.data)\n",
    "    if node.right:\n",
    "        traverseInorder(node.right, DFS_list)\n",
    "    return DFS_list\n",
    "\n",
    "\n",
    "def traversePreorder(node,DFS_list):\n",
    "    DFS_list.append(node.data)\n",
    "    if node.left:\n",
    "        traversePreorder(node.left, DFS_list)\n",
    "    if node.right:\n",
    "        traversePreorder(node.right, DFS_list)\n",
    "    return DFS_list\n",
    "\n",
    "\n",
    "def traversePostorder(node, DFS_list):\n",
    "    if node.left:\n",
    "        traversePostorder(node.left, DFS_list)\n",
    "    if node.right:\n",
    "        traversePostorder(node.right, DFS_list)\n",
    "    DFS_list.append(node.data)\n",
    "    return DFS_list\n",
    "    "
   ]
  },
  {
   "cell_type": "code",
   "execution_count": 13,
   "id": "eaf0527a-9ac2-4298-83b5-d55e19170a90",
   "metadata": {},
   "outputs": [],
   "source": [
    "# Initializing a new tree with our blueprint\n",
    "new_bst = BST()"
   ]
  },
  {
   "cell_type": "code",
   "execution_count": 14,
   "id": "182d84be-54a3-4de5-8e17-b746507c3fe9",
   "metadata": {},
   "outputs": [
    {
     "name": "stdout",
     "output_type": "stream",
     "text": [
      "Oops! Tree is empty.\n"
     ]
    }
   ],
   "source": [
    "print(new_bst.DFS_Inorder())"
   ]
  },
  {
   "cell_type": "code",
   "execution_count": 15,
   "id": "01c78116-0cbc-4fa1-a2a0-2185828b9014",
   "metadata": {},
   "outputs": [
    {
     "name": "stdout",
     "output_type": "stream",
     "text": [
      "Oops! Tree is empty.\n"
     ]
    }
   ],
   "source": [
    "print(new_bst.DFS_Preorder())"
   ]
  },
  {
   "cell_type": "code",
   "execution_count": 16,
   "id": "3231b5dc-a5e3-4a54-858b-83fcf51aca85",
   "metadata": {},
   "outputs": [
    {
     "name": "stdout",
     "output_type": "stream",
     "text": [
      "Oops! Tree is empty.\n"
     ]
    }
   ],
   "source": [
    "print(new_bst.DFS_Postorder())"
   ]
  },
  {
   "cell_type": "code",
   "execution_count": 17,
   "id": "d2b2c85d-5707-4a22-8b83-526909af0a58",
   "metadata": {},
   "outputs": [],
   "source": [
    "# Populating tree\n",
    "new_bst.insert(5)\n",
    "new_bst.insert(3)\n",
    "new_bst.insert(7)\n",
    "new_bst.insert(1)\n",
    "new_bst.insert(13)\n",
    "new_bst.insert(65)\n",
    "new_bst.insert(0)\n",
    "new_bst.insert(10)"
   ]
  },
  {
   "cell_type": "code",
   "execution_count": 18,
   "id": "2bbeefc7-4670-495c-a306-fb67ef3b36cc",
   "metadata": {},
   "outputs": [
    {
     "name": "stdout",
     "output_type": "stream",
     "text": [
      "[0, 1, 3, 5, 7, 10, 13, 65]\n"
     ]
    }
   ],
   "source": [
    "print(new_bst.DFS_Inorder())"
   ]
  },
  {
   "cell_type": "code",
   "execution_count": 19,
   "id": "f88cc51c-4f8e-46fb-96bb-48eff699f5fc",
   "metadata": {},
   "outputs": [
    {
     "name": "stdout",
     "output_type": "stream",
     "text": [
      "[5, 3, 1, 0, 7, 13, 10, 65]\n"
     ]
    }
   ],
   "source": [
    "print(new_bst.DFS_Preorder())"
   ]
  },
  {
   "cell_type": "code",
   "execution_count": 20,
   "id": "9b6827a2-6077-49c5-a6c3-f462d6e6fd5b",
   "metadata": {},
   "outputs": [
    {
     "name": "stdout",
     "output_type": "stream",
     "text": [
      "[0, 1, 3, 10, 65, 13, 7, 5]\n"
     ]
    }
   ],
   "source": [
    "print(new_bst.DFS_Postorder())"
   ]
  }
 ],
 "metadata": {
  "kernelspec": {
   "display_name": "Python 3 (ipykernel)",
   "language": "python",
   "name": "python3"
  },
  "language_info": {
   "codemirror_mode": {
    "name": "ipython",
    "version": 3
   },
   "file_extension": ".py",
   "mimetype": "text/x-python",
   "name": "python",
   "nbconvert_exporter": "python",
   "pygments_lexer": "ipython3",
   "version": "3.8.8"
  }
 },
 "nbformat": 4,
 "nbformat_minor": 5
}
