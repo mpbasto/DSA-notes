{
 "cells": [
  {
   "cell_type": "markdown",
   "id": "6c52db4f-9d8d-402d-a01f-c0bc375c6c72",
   "metadata": {},
   "source": [
    "The insertion sort algorithm concept can be described similarly to the way we sort a deck of cards. We assume that the first card is already sorted, and the rest isn't. If the unsorted card we selected next is greater than the first card, it is placed on the right bunch, otherwise, it goes to the left bunch.\n",
    "\n",
    "This is a more straightforward and efficient algorithm than the bubble sort algorithm, but it is more beneficial for nearly-sorted lists/arrays or ones with fewer items, because it uses nested loops for sorting. Its time complexity is O(n^2) in Worst case.\n",
    "\n",
    "\n",
    "To implement it, the first iteration will define the first item as the only one that is sorted and in the correct position. Then, it loops through the rest of the items and inserts them in their correct position, with respect to the already sorted part of the array."
   ]
  },
  {
   "cell_type": "code",
   "execution_count": 1,
   "id": "748a6a0e-e13f-4ff4-b19e-bdfba4b3cd61",
   "metadata": {},
   "outputs": [],
   "source": [
    "def insertion_sort(array):\n",
    "    count = 0\n",
    "    size = len(array)\n",
    "    for i in range(1, size):\n",
    "        print(array)\n",
    "        last_sorted_position = array[i-1]  # A)\n",
    "        count += 1\n",
    "        if array[i] < last_sorted_position: # B)\n",
    "            temp = array[i] # C)\n",
    "            for j in range(i-1,-1,-1):  # D)\n",
    "                count += 1\n",
    "                if temp < array[j]: # E)\n",
    "                    if j == 0: # F)\n",
    "                        array[j+1] = array[j]\n",
    "                        array[j] = temp\n",
    "                    else:\n",
    "                        array[j+1] = array[j]\n",
    "                else: \n",
    "                    array[j+1] = temp # G\n",
    "                    break \n",
    "    return (f'\\nSorted array: {array} \\nNumber of comparisons = {count}')"
   ]
  },
  {
   "cell_type": "code",
   "execution_count": 2,
   "id": "74184e99-dbca-4964-ba57-4477088d6175",
   "metadata": {},
   "outputs": [
    {
     "name": "stdout",
     "output_type": "stream",
     "text": [
      "[5, 9, 3, 10, 45, 2, 0]\n",
      "[5, 9, 3, 10, 45, 2, 0]\n",
      "[3, 5, 9, 10, 45, 2, 0]\n",
      "[3, 5, 9, 10, 45, 2, 0]\n",
      "[3, 5, 9, 10, 45, 2, 0]\n",
      "[2, 3, 5, 9, 10, 45, 0]\n",
      "\n",
      "Sorted array: [0, 2, 3, 5, 9, 10, 45] \n",
      "Number of comparisons = 19\n"
     ]
    }
   ],
   "source": [
    "array = [5,9,3,10,45,2,0]\n",
    "print(insertion_sort(array))"
   ]
  },
  {
   "cell_type": "code",
   "execution_count": 3,
   "id": "9bf432b8-3b66-4509-a235-126ac8c8ba0b",
   "metadata": {},
   "outputs": [
    {
     "name": "stdout",
     "output_type": "stream",
     "text": [
      "[9, 8, 7, 6, 5, 4, 3, 2, 1, 0, -1, -2, -3, -4, -5, -6, -7, -8, -9, -10]\n",
      "[8, 9, 7, 6, 5, 4, 3, 2, 1, 0, -1, -2, -3, -4, -5, -6, -7, -8, -9, -10]\n",
      "[7, 8, 9, 6, 5, 4, 3, 2, 1, 0, -1, -2, -3, -4, -5, -6, -7, -8, -9, -10]\n",
      "[6, 7, 8, 9, 5, 4, 3, 2, 1, 0, -1, -2, -3, -4, -5, -6, -7, -8, -9, -10]\n",
      "[5, 6, 7, 8, 9, 4, 3, 2, 1, 0, -1, -2, -3, -4, -5, -6, -7, -8, -9, -10]\n",
      "[4, 5, 6, 7, 8, 9, 3, 2, 1, 0, -1, -2, -3, -4, -5, -6, -7, -8, -9, -10]\n",
      "[3, 4, 5, 6, 7, 8, 9, 2, 1, 0, -1, -2, -3, -4, -5, -6, -7, -8, -9, -10]\n",
      "[2, 3, 4, 5, 6, 7, 8, 9, 1, 0, -1, -2, -3, -4, -5, -6, -7, -8, -9, -10]\n",
      "[1, 2, 3, 4, 5, 6, 7, 8, 9, 0, -1, -2, -3, -4, -5, -6, -7, -8, -9, -10]\n",
      "[0, 1, 2, 3, 4, 5, 6, 7, 8, 9, -1, -2, -3, -4, -5, -6, -7, -8, -9, -10]\n",
      "[-1, 0, 1, 2, 3, 4, 5, 6, 7, 8, 9, -2, -3, -4, -5, -6, -7, -8, -9, -10]\n",
      "[-2, -1, 0, 1, 2, 3, 4, 5, 6, 7, 8, 9, -3, -4, -5, -6, -7, -8, -9, -10]\n",
      "[-3, -2, -1, 0, 1, 2, 3, 4, 5, 6, 7, 8, 9, -4, -5, -6, -7, -8, -9, -10]\n",
      "[-4, -3, -2, -1, 0, 1, 2, 3, 4, 5, 6, 7, 8, 9, -5, -6, -7, -8, -9, -10]\n",
      "[-5, -4, -3, -2, -1, 0, 1, 2, 3, 4, 5, 6, 7, 8, 9, -6, -7, -8, -9, -10]\n",
      "[-6, -5, -4, -3, -2, -1, 0, 1, 2, 3, 4, 5, 6, 7, 8, 9, -7, -8, -9, -10]\n",
      "[-7, -6, -5, -4, -3, -2, -1, 0, 1, 2, 3, 4, 5, 6, 7, 8, 9, -8, -9, -10]\n",
      "[-8, -7, -6, -5, -4, -3, -2, -1, 0, 1, 2, 3, 4, 5, 6, 7, 8, 9, -9, -10]\n",
      "[-9, -8, -7, -6, -5, -4, -3, -2, -1, 0, 1, 2, 3, 4, 5, 6, 7, 8, 9, -10]\n",
      "\n",
      "Sorted array: [-10, -9, -8, -7, -6, -5, -4, -3, -2, -1, 0, 1, 2, 3, 4, 5, 6, 7, 8, 9] \n",
      "Number of comparisons = 209\n"
     ]
    }
   ],
   "source": [
    "reverse_sorted_array = [9,8,7,6,5,4,3,2,1,0,-1,-2,-3,-4,-5,-6,-7,-8,-9,-10]\n",
    "print(insertion_sort(reverse_sorted_array))"
   ]
  },
  {
   "cell_type": "raw",
   "id": "4fe6db38-6e26-4d46-a400-d71fdff9f783",
   "metadata": {},
   "source": []
  },
  {
   "cell_type": "markdown",
   "id": "5c2bd865-f8c2-45cb-849f-af710f838f03",
   "metadata": {},
   "source": [
    "Here's a summary of the function above:\n",
    "\n",
    "A) We start by storing the last item which is considered already sorted;\n",
    "\n",
    "B) Then, we check if the current item is smaller than the last sorted item;\n",
    "\n",
    "C) If so, we store the curent item in a temporary variable;\n",
    "\n",
    "D) After that, we loop backwards through the sorted part of the array to check where the current element can fit;\n",
    "\n",
    "E) Within the sorted part of the array, every item that is greater than the current one gets shifted one position to the right, in order to make room for the current element;\n",
    "\n",
    "F) If we reach the beginning of the array in the process, we shift all items to the right and assign the current element to the 0th position. Otherwise, we just keep shifting;\n",
    "\n",
    "G) Once we find an item that is smaller than the current element, then we found the right position to insert our current item in, so we assign it to that position and break out of the loop."
   ]
  }
 ],
 "metadata": {
  "kernelspec": {
   "display_name": "Python 3 (ipykernel)",
   "language": "python",
   "name": "python3"
  },
  "language_info": {
   "codemirror_mode": {
    "name": "ipython",
    "version": 3
   },
   "file_extension": ".py",
   "mimetype": "text/x-python",
   "name": "python",
   "nbconvert_exporter": "python",
   "pygments_lexer": "ipython3",
   "version": "3.8.8"
  }
 },
 "nbformat": 4,
 "nbformat_minor": 5
}
