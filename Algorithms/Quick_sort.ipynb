{
 "cells": [
  {
   "cell_type": "markdown",
   "id": "e1b07a87-0da7-450f-afdc-ce4af3922865",
   "metadata": {},
   "source": [
    "Quick sort is also a \"divide and conquer\" algorithm, like Merge sort. It uses pivoting technique to break the main list into smaller ones until it gets sorted.\n",
    "\n",
    "It requires to chose a pivot item. Then, it places all items smaller than the pivot item to its left and all  the larger ones to its right. So, the original array is split in the pivot position and we get an array on the left and another on the right, which will follow the same pivoting technique, until both arrays are sorted. After each pass, the pivot element occupies its correct position in the array.\n",
    "\n",
    "\n",
    "The time complexity in Best and Average cases is of O(n log n), whereas in Worst case it jumps up to O(n^2). The space complexity is O(log n).\n",
    "\n",
    "In this implementation, we will take the last element as the pivot item:"
   ]
  },
  {
   "cell_type": "code",
   "execution_count": 1,
   "id": "63145dc1-a3b9-4bd7-9bb2-e3b68b19f9f1",
   "metadata": {},
   "outputs": [],
   "source": [
    "count = 0\n",
    "\n",
    "def division(array, left, right):\n",
    "    smaller_index = left - 1\n",
    "    pivot = array[right]\n",
    "    for i in range(left, right):\n",
    "        global count\n",
    "        count += 1\n",
    "        if array[i] < pivot:\n",
    "            smaller_index += 1\n",
    "            array[smaller_index], array[i] = array[i], array[smaller_index]\n",
    "    array[smaller_index + 1], array[right] = array[right], array[smaller_index + 1]\n",
    "    print(array)\n",
    "    return (smaller_index + 1)\n",
    "\n",
    "def quick_sort(array, left, right):\n",
    "    if left < right:\n",
    "        dividing_index = division(array, left, right)\n",
    "        print(dividing_index)\n",
    "        quick_sort(array,left,dividing_index - 1)\n",
    "        quick_sort(array,dividing_index + 1,right)\n"
   ]
  },
  {
   "cell_type": "code",
   "execution_count": 2,
   "id": "f04de4bf-5d81-4f94-9806-8b9ace6f4c72",
   "metadata": {},
   "outputs": [
    {
     "name": "stdout",
     "output_type": "stream",
     "text": [
      "[0, 9, 3, 10, 45, 2, 5]\n",
      "0\n",
      "[0, 3, 2, 5, 45, 9, 10]\n",
      "3\n",
      "[0, 2, 3, 5, 45, 9, 10]\n",
      "1\n",
      "[0, 2, 3, 5, 9, 10, 45]\n",
      "5\n",
      "\n",
      "Sorted array: [0, 2, 3, 5, 9, 10, 45]\n",
      "Number of comparisons = 14\n"
     ]
    }
   ],
   "source": [
    "new_array = [5,9,3,10,45,2,0]\n",
    "quick_sort(new_array, 0, (len(new_array)-1))\n",
    "print(f'\\nSorted array: {new_array}\\nNumber of comparisons = {count}')"
   ]
  },
  {
   "cell_type": "code",
   "execution_count": 3,
   "id": "5cff196c-615e-4701-83c8-db3c4a6bd1c7",
   "metadata": {},
   "outputs": [
    {
     "name": "stdout",
     "output_type": "stream",
     "text": [
      "[5, 6, 7, 8, 9]\n",
      "4\n",
      "[5, 6, 7, 8, 9]\n",
      "3\n",
      "[5, 6, 7, 8, 9]\n",
      "2\n",
      "[5, 6, 7, 8, 9]\n",
      "1\n",
      "\n",
      "Sorted array: [5, 6, 7, 8, 9]\n",
      "Number of comparisons = 24\n"
     ]
    }
   ],
   "source": [
    "sorted_array = [5,6,7,8,9]\n",
    "quick_sort(sorted_array, 0, (len(sorted_array)-1))\n",
    "print(f'\\nSorted array: {sorted_array}\\nNumber of comparisons = {count}')"
   ]
  },
  {
   "cell_type": "code",
   "execution_count": 4,
   "id": "dc28d064-fa8b-47f8-a2ae-85409eab4e69",
   "metadata": {},
   "outputs": [
    {
     "name": "stdout",
     "output_type": "stream",
     "text": [
      "[-10, 8, 7, 6, 5, 4, 3, 2, 1, 0, -1, -2, -3, -4, -5, -6, -7, -8, -9, 9]\n",
      "0\n",
      "[-10, 8, 7, 6, 5, 4, 3, 2, 1, 0, -1, -2, -3, -4, -5, -6, -7, -8, -9, 9]\n",
      "19\n",
      "[-10, -9, 7, 6, 5, 4, 3, 2, 1, 0, -1, -2, -3, -4, -5, -6, -7, -8, 8, 9]\n",
      "1\n",
      "[-10, -9, 7, 6, 5, 4, 3, 2, 1, 0, -1, -2, -3, -4, -5, -6, -7, -8, 8, 9]\n",
      "18\n",
      "[-10, -9, -8, 6, 5, 4, 3, 2, 1, 0, -1, -2, -3, -4, -5, -6, -7, 7, 8, 9]\n",
      "2\n",
      "[-10, -9, -8, 6, 5, 4, 3, 2, 1, 0, -1, -2, -3, -4, -5, -6, -7, 7, 8, 9]\n",
      "17\n",
      "[-10, -9, -8, -7, 5, 4, 3, 2, 1, 0, -1, -2, -3, -4, -5, -6, 6, 7, 8, 9]\n",
      "3\n",
      "[-10, -9, -8, -7, 5, 4, 3, 2, 1, 0, -1, -2, -3, -4, -5, -6, 6, 7, 8, 9]\n",
      "16\n",
      "[-10, -9, -8, -7, -6, 4, 3, 2, 1, 0, -1, -2, -3, -4, -5, 5, 6, 7, 8, 9]\n",
      "4\n",
      "[-10, -9, -8, -7, -6, 4, 3, 2, 1, 0, -1, -2, -3, -4, -5, 5, 6, 7, 8, 9]\n",
      "15\n",
      "[-10, -9, -8, -7, -6, -5, 3, 2, 1, 0, -1, -2, -3, -4, 4, 5, 6, 7, 8, 9]\n",
      "5\n",
      "[-10, -9, -8, -7, -6, -5, 3, 2, 1, 0, -1, -2, -3, -4, 4, 5, 6, 7, 8, 9]\n",
      "14\n",
      "[-10, -9, -8, -7, -6, -5, -4, 2, 1, 0, -1, -2, -3, 3, 4, 5, 6, 7, 8, 9]\n",
      "6\n",
      "[-10, -9, -8, -7, -6, -5, -4, 2, 1, 0, -1, -2, -3, 3, 4, 5, 6, 7, 8, 9]\n",
      "13\n",
      "[-10, -9, -8, -7, -6, -5, -4, -3, 1, 0, -1, -2, 2, 3, 4, 5, 6, 7, 8, 9]\n",
      "7\n",
      "[-10, -9, -8, -7, -6, -5, -4, -3, 1, 0, -1, -2, 2, 3, 4, 5, 6, 7, 8, 9]\n",
      "12\n",
      "[-10, -9, -8, -7, -6, -5, -4, -3, -2, 0, -1, 1, 2, 3, 4, 5, 6, 7, 8, 9]\n",
      "8\n",
      "[-10, -9, -8, -7, -6, -5, -4, -3, -2, 0, -1, 1, 2, 3, 4, 5, 6, 7, 8, 9]\n",
      "11\n",
      "[-10, -9, -8, -7, -6, -5, -4, -3, -2, -1, 0, 1, 2, 3, 4, 5, 6, 7, 8, 9]\n",
      "9\n",
      "\n",
      "Sorted array: [-10, -9, -8, -7, -6, -5, -4, -3, -2, -1, 0, 1, 2, 3, 4, 5, 6, 7, 8, 9]\n",
      "Number of comparisons = 214\n"
     ]
    }
   ],
   "source": [
    "reverse_sorted_array = [9,8,7,6,5,4,3,2,1,0,-1,-2,-3,-4,-5,-6,-7,-8,-9,-10]\n",
    "quick_sort(reverse_sorted_array, 0, len(reverse_sorted_array) - 1)\n",
    "print(f'\\nSorted array: {reverse_sorted_array}\\nNumber of comparisons = {count}')"
   ]
  },
  {
   "cell_type": "raw",
   "id": "80c38fee-6015-43a0-be11-44114300f1b0",
   "metadata": {},
   "source": []
  },
  {
   "cell_type": "markdown",
   "id": "8f2589e8-8817-4e9d-b272-5c0993b489f9",
   "metadata": {},
   "source": [
    "As we defined our pivot item to be the last one of a given array, we can observe the time complexity increasing when the pivot item is either the biggest or the smallest item of said array. This is because of the number of comparisons performed.\n",
    "\n",
    "However, if we define our pivot item to be one from the middle of the array, the number of comparisons will decrease."
   ]
  },
  {
   "cell_type": "code",
   "execution_count": 5,
   "id": "9f064729-fb43-4ef3-94ea-b7430841fc25",
   "metadata": {},
   "outputs": [],
   "source": [
    "count = 0\n",
    "\n",
    "def partition(array, left, right):\n",
    "    smaller_index = left - 1\n",
    "    pivot = array[(right-left)//2] # changed pivot to be an item in the middle of array\n",
    "    for i in range(left, right):\n",
    "        global count\n",
    "        count += 1\n",
    "        if array[i] < pivot:\n",
    "            smaller_index += 1\n",
    "            array[smaller_index], array[i] = array[i], array[smaller_index]\n",
    "    array[smaller_index + 1], array[right] = array[right], array[smaller_index + 1]\n",
    "    print(array)\n",
    "    return (smaller_index + 1)\n",
    "\n",
    "def quickest_sort(array, left, right):\n",
    "    if left < right:\n",
    "        dividing_index = division(array, left, right)\n",
    "        print(dividing_index)\n",
    "        quick_sort(array,left,dividing_index - 1)\n",
    "        quick_sort(array,dividing_index + 1,right)"
   ]
  },
  {
   "cell_type": "code",
   "execution_count": 6,
   "id": "2c24f97f-50f9-4176-a1ac-7b7738bd9dda",
   "metadata": {},
   "outputs": [
    {
     "name": "stdout",
     "output_type": "stream",
     "text": [
      "[-10, 8, 7, 6, 5, 4, 3, 2, 1, 0, -1, -2, -3, -4, -5, -6, -7, -8, -9, 9]\n",
      "0\n",
      "[-10, 8, 7, 6, 5, 4, 3, 2, 1, 0, -1, -2, -3, -4, -5, -6, -7, -8, -9, 9]\n",
      "19\n",
      "[-10, -9, 7, 6, 5, 4, 3, 2, 1, 0, -1, -2, -3, -4, -5, -6, -7, -8, 8, 9]\n",
      "1\n",
      "[-10, -9, 7, 6, 5, 4, 3, 2, 1, 0, -1, -2, -3, -4, -5, -6, -7, -8, 8, 9]\n",
      "18\n",
      "[-10, -9, -8, 6, 5, 4, 3, 2, 1, 0, -1, -2, -3, -4, -5, -6, -7, 7, 8, 9]\n",
      "2\n",
      "[-10, -9, -8, 6, 5, 4, 3, 2, 1, 0, -1, -2, -3, -4, -5, -6, -7, 7, 8, 9]\n",
      "17\n",
      "[-10, -9, -8, -7, 5, 4, 3, 2, 1, 0, -1, -2, -3, -4, -5, -6, 6, 7, 8, 9]\n",
      "3\n",
      "[-10, -9, -8, -7, 5, 4, 3, 2, 1, 0, -1, -2, -3, -4, -5, -6, 6, 7, 8, 9]\n",
      "16\n",
      "[-10, -9, -8, -7, -6, 4, 3, 2, 1, 0, -1, -2, -3, -4, -5, 5, 6, 7, 8, 9]\n",
      "4\n",
      "[-10, -9, -8, -7, -6, 4, 3, 2, 1, 0, -1, -2, -3, -4, -5, 5, 6, 7, 8, 9]\n",
      "15\n",
      "[-10, -9, -8, -7, -6, -5, 3, 2, 1, 0, -1, -2, -3, -4, 4, 5, 6, 7, 8, 9]\n",
      "5\n",
      "[-10, -9, -8, -7, -6, -5, 3, 2, 1, 0, -1, -2, -3, -4, 4, 5, 6, 7, 8, 9]\n",
      "14\n",
      "[-10, -9, -8, -7, -6, -5, -4, 2, 1, 0, -1, -2, -3, 3, 4, 5, 6, 7, 8, 9]\n",
      "6\n",
      "[-10, -9, -8, -7, -6, -5, -4, 2, 1, 0, -1, -2, -3, 3, 4, 5, 6, 7, 8, 9]\n",
      "13\n",
      "[-10, -9, -8, -7, -6, -5, -4, -3, 1, 0, -1, -2, 2, 3, 4, 5, 6, 7, 8, 9]\n",
      "7\n",
      "[-10, -9, -8, -7, -6, -5, -4, -3, 1, 0, -1, -2, 2, 3, 4, 5, 6, 7, 8, 9]\n",
      "12\n",
      "[-10, -9, -8, -7, -6, -5, -4, -3, -2, 0, -1, 1, 2, 3, 4, 5, 6, 7, 8, 9]\n",
      "8\n",
      "[-10, -9, -8, -7, -6, -5, -4, -3, -2, 0, -1, 1, 2, 3, 4, 5, 6, 7, 8, 9]\n",
      "11\n",
      "[-10, -9, -8, -7, -6, -5, -4, -3, -2, -1, 0, 1, 2, 3, 4, 5, 6, 7, 8, 9]\n",
      "9\n",
      "\n",
      "Sorted array: [-10, -9, -8, -7, -6, -5, -4, -3, -2, -1, 0, 1, 2, 3, 4, 5, 6, 7, 8, 9]\n",
      "Number of comparisons = 190\n"
     ]
    }
   ],
   "source": [
    "reverse_sorted_array = [9,8,7,6,5,4,3,2,1,0,-1,-2,-3,-4,-5,-6,-7,-8,-9,-10]\n",
    "quickest_sort(reverse_sorted_array, 0, len(reverse_sorted_array) - 1)\n",
    "print(f'\\nSorted array: {reverse_sorted_array}\\nNumber of comparisons = {count}')"
   ]
  },
  {
   "cell_type": "markdown",
   "id": "c8bf65a6-9f15-4899-b3ba-f8518c02f7c4",
   "metadata": {},
   "source": [
    "\n",
    "\n",
    "It is possible to verify that the number of comparisions performed on the reverse_sorted_array between functions has decreased by 24."
   ]
  }
 ],
 "metadata": {
  "kernelspec": {
   "display_name": "Python 3 (ipykernel)",
   "language": "python",
   "name": "python3"
  },
  "language_info": {
   "codemirror_mode": {
    "name": "ipython",
    "version": 3
   },
   "file_extension": ".py",
   "mimetype": "text/x-python",
   "name": "python",
   "nbconvert_exporter": "python",
   "pygments_lexer": "ipython3",
   "version": "3.8.8"
  }
 },
 "nbformat": 4,
 "nbformat_minor": 5
}
