{
 "cells": [
  {
   "cell_type": "markdown",
   "id": "c037d978",
   "metadata": {},
   "source": [
    "Given a number n, return the index value of the Fibonacci sequence, where the sequence is:\n",
    "- 0 1 1 2 3 5 8 13 21 34 55 89 144 . . .\n",
    "\n",
    "Fibonacci(5) should return 5 as the 5th index of the Fibonacci sequence.\n",
    "\n",
    "As on the previous exercise, this operation can be done with both the iterative and recursive functions."
   ]
  },
  {
   "cell_type": "markdown",
   "id": "5dcd6850",
   "metadata": {},
   "source": [
    "Starting with the interative function:"
   ]
  },
  {
   "cell_type": "code",
   "execution_count": 1,
   "id": "c0e29161",
   "metadata": {},
   "outputs": [],
   "source": [
    "def iterative(index):\n",
    "    x = 0\n",
    "    y = 1\n",
    "    if index == 0:\n",
    "        return x\n",
    "    if index == 1:\n",
    "        return y\n",
    "    for i in range(2, index + 1):\n",
    "        a = x + y\n",
    "        x = y\n",
    "        y = a\n",
    "    return a"
   ]
  },
  {
   "cell_type": "code",
   "execution_count": 2,
   "id": "8c0af392",
   "metadata": {},
   "outputs": [
    {
     "name": "stdout",
     "output_type": "stream",
     "text": [
      "5\n"
     ]
    }
   ],
   "source": [
    "print(iterative(5))"
   ]
  },
  {
   "cell_type": "code",
   "execution_count": 12,
   "id": "1ef8efbd",
   "metadata": {},
   "outputs": [
    {
     "name": "stdout",
     "output_type": "stream",
     "text": [
      "13\n"
     ]
    }
   ],
   "source": [
    "print(iterative(7))"
   ]
  },
  {
   "cell_type": "code",
   "execution_count": 4,
   "id": "94977532",
   "metadata": {},
   "outputs": [
    {
     "name": "stdout",
     "output_type": "stream",
     "text": [
      "144\n"
     ]
    }
   ],
   "source": [
    "print(iterative(12))"
   ]
  },
  {
   "cell_type": "markdown",
   "id": "a189c2d4",
   "metadata": {},
   "source": [
    "The time complexity for this function is O(n).\n",
    "\n",
    "Finally, the recursive function:"
   ]
  },
  {
   "cell_type": "code",
   "execution_count": 8,
   "id": "ebc9d5db",
   "metadata": {},
   "outputs": [],
   "source": [
    "def recursive(index):\n",
    "    if index == 0:\n",
    "        return 0  \n",
    "    if index == 1:\n",
    "        return 1\n",
    "    return recursive(index-1) + recursive(index-2)"
   ]
  },
  {
   "cell_type": "markdown",
   "id": "89ab1568",
   "metadata": {},
   "source": [
    "When building our recursive function, we started by covering our base cases. Then, we moved on to build the recursive case.\n",
    "Because, on a Fibonacci sequence, each number is the sum of the two preceding numbers, we call the function itself and deduct 1 from the given index, then we call the function itself once more and deduct 2 from the given index. The result of both function calls are added to obtain the index's value and output at the end of the function."
   ]
  },
  {
   "cell_type": "code",
   "execution_count": 9,
   "id": "1672a697",
   "metadata": {},
   "outputs": [
    {
     "name": "stdout",
     "output_type": "stream",
     "text": [
      "5\n"
     ]
    }
   ],
   "source": [
    "print(recursive(5))"
   ]
  },
  {
   "cell_type": "code",
   "execution_count": 11,
   "id": "d41fc93c",
   "metadata": {},
   "outputs": [
    {
     "name": "stdout",
     "output_type": "stream",
     "text": [
      "13\n"
     ]
    }
   ],
   "source": [
    "print(recursive(7))"
   ]
  },
  {
   "cell_type": "code",
   "execution_count": 13,
   "id": "9b62ef8e",
   "metadata": {},
   "outputs": [
    {
     "name": "stdout",
     "output_type": "stream",
     "text": [
      "144\n"
     ]
    }
   ],
   "source": [
    "print(recursive(12))"
   ]
  },
  {
   "cell_type": "markdown",
   "id": "998b710f",
   "metadata": {},
   "source": [
    "The time complexity of this function is O(2^n)."
   ]
  }
 ],
 "metadata": {
  "kernelspec": {
   "display_name": "Python 3 (ipykernel)",
   "language": "python",
   "name": "python3"
  },
  "language_info": {
   "codemirror_mode": {
    "name": "ipython",
    "version": 3
   },
   "file_extension": ".py",
   "mimetype": "text/x-python",
   "name": "python",
   "nbconvert_exporter": "python",
   "pygments_lexer": "ipython3",
   "version": "3.8.8"
  }
 },
 "nbformat": 4,
 "nbformat_minor": 5
}
